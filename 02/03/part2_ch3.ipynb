{
 "cells": [
  {
   "cell_type": "code",
   "execution_count": 2,
   "metadata": {},
   "outputs": [],
   "source": [
    "# 이진 분류 데이터\n",
    "import pandas as pd\n",
    "y_true = pd.DataFrame([1, 1, 1, 0, 0, 1, 1, 1, 1, 0])   # 실제값\n",
    "y_pred = pd.DataFrame([1, 0, 1, 1, 0, 0, 0, 1, 1, 0])   # 예측값\n",
    "\n",
    "y_true_str = pd.DataFrame(['A', 'A', 'A', 'B', 'B', 'A', 'A', 'A', 'A', 'B'])   # 실제값\n",
    "y_pred_str = pd.DataFrame(['A', 'B', 'A', 'A', 'B', 'B', 'B', 'A', 'A', 'B'])   # 예측값"
   ]
  },
  {
   "cell_type": "code",
   "execution_count": 3,
   "metadata": {},
   "outputs": [
    {
     "name": "stdout",
     "output_type": "stream",
     "text": [
      "accuracy_score : 0.6\n",
      "accuracy_score : 0.6\n"
     ]
    }
   ],
   "source": [
    "# 정확도(Accuracy)\n",
    "from sklearn.metrics import accuracy_score\n",
    "accuracy = accuracy_score(y_true, y_pred)\n",
    "print('accuracy_score :', accuracy)\n",
    "\n",
    "accuracy = accuracy_score(y_true_str, y_pred_str)\n",
    "print('accuracy_score :', accuracy)"
   ]
  },
  {
   "cell_type": "code",
   "execution_count": 5,
   "metadata": {},
   "outputs": [
    {
     "name": "stdout",
     "output_type": "stream",
     "text": [
      "precision_score : 0.8\n",
      "precision_score : 0.8\n"
     ]
    }
   ],
   "source": [
    "# 정밀도(Precision)\n",
    "from sklearn.metrics import precision_score\n",
    "precision = precision_score(y_true, y_pred)\n",
    "print('precision_score :', precision)\n",
    "\n",
    "precision = precision_score(y_true_str, y_pred_str, pos_label='A')\n",
    "print('precision_score :', precision)"
   ]
  },
  {
   "cell_type": "code",
   "execution_count": 7,
   "metadata": {},
   "outputs": [
    {
     "name": "stdout",
     "output_type": "stream",
     "text": [
      "recall_score : 0.5714285714285714\n",
      "recall_score : 0.5714285714285714\n"
     ]
    }
   ],
   "source": [
    "# 재현율(Recall)\n",
    "from sklearn.metrics import recall_score\n",
    "recall = recall_score(y_true, y_pred)\n",
    "print('recall_score :', recall)\n",
    "\n",
    "recall = recall_score(y_true_str, y_pred_str, pos_label='A')\n",
    "print('recall_score :', recall)"
   ]
  },
  {
   "cell_type": "code",
   "execution_count": 8,
   "metadata": {},
   "outputs": [
    {
     "name": "stdout",
     "output_type": "stream",
     "text": [
      "f1_score : 0.6666666666666666\n",
      "f1_score : 0.6666666666666666\n"
     ]
    }
   ],
   "source": [
    "# F1 스코어(F1 Score)\n",
    "from sklearn.metrics import f1_score\n",
    "f1 = f1_score(y_true, y_pred)\n",
    "print('f1_score :', f1)\n",
    "\n",
    "f1 = f1_score(y_true_str, y_pred_str, pos_label='A')\n",
    "print('f1_score :', f1)"
   ]
  },
  {
   "cell_type": "code",
   "execution_count": 12,
   "metadata": {},
   "outputs": [
    {
     "name": "stdout",
     "output_type": "stream",
     "text": [
      "ROC-AUC : 0.86\n"
     ]
    }
   ],
   "source": [
    "# ROC-AUC\n",
    "from sklearn.metrics import roc_auc_score\n",
    "\n",
    "# 실제값(0: 음석, 1: 양성)\n",
    "y_true = pd.DataFrame([0, 1, 0, 1, 1, 0, 0, 0, 1, 1])\n",
    "# 예측값 중 양성(1) 확률\n",
    "y_pred_proba = pd.DataFrame([0.4, 0.9, 0.1, 0.3, 0.8, 0.6, 0.4, 0.2, 0.7, 0.6])\n",
    "\n",
    "roc_auc = roc_auc_score(y_true, y_pred_proba)\n",
    "print('ROC-AUC :', roc_auc)"
   ]
  },
  {
   "cell_type": "code",
   "execution_count": 13,
   "metadata": {},
   "outputs": [
    {
     "name": "stdout",
     "output_type": "stream",
     "text": [
      "ROC-AUC : 0.86\n"
     ]
    }
   ],
   "source": [
    "# 실제값\n",
    "y_true_str = pd.DataFrame(['A', 'B', 'A', 'B', 'B', 'A', 'A', 'A', 'B', 'B'])\n",
    "# 예측값 중 B 확률\n",
    "y_pred_proba_str = pd.DataFrame([0.4, 0.9, 0.1, 0.3, 0.8, 0.6, 0.4, 0.2, 0.7, 0.6])\n",
    "\n",
    "roc_auc = roc_auc_score(y_true_str, y_pred_proba_str)\n",
    "print('ROC-AUC :', roc_auc)"
   ]
  },
  {
   "cell_type": "code",
   "execution_count": 15,
   "metadata": {},
   "outputs": [],
   "source": [
    "# 다중 분류 데이터\n",
    "y_true = pd.DataFrame([1, 2, 3, 3, 2, 1, 3, 3, 2, 1])   # 실제값\n",
    "y_pred = pd.DataFrame([1, 2, 1, 3, 2, 1, 1, 2, 2, 1])   # 예측값\n",
    "\n",
    "y_true_str = pd.DataFrame(['A', 'B', 'C', 'C', 'B', 'A', 'C', 'C', 'B', 'A'])   # 실제값\n",
    "y_pred_str = pd.DataFrame(['A', 'B', 'A', 'C', 'B', 'A', 'A', 'B', 'B', 'A'])   # 예측값"
   ]
  },
  {
   "cell_type": "code",
   "execution_count": 16,
   "metadata": {},
   "outputs": [
    {
     "name": "stdout",
     "output_type": "stream",
     "text": [
      "정확도 : 0.7\n",
      "정확도 : 0.7\n"
     ]
    }
   ],
   "source": [
    "# 정확도(Accuracy)\n",
    "from sklearn.metrics import accuracy_score\n",
    "accuracy = accuracy_score(y_true, y_pred)\n",
    "print('정확도 :', accuracy)\n",
    "\n",
    "accuracy = accuracy_score(y_true_str, y_pred_str)\n",
    "print('정확도 :', accuracy)"
   ]
  },
  {
   "cell_type": "code",
   "execution_count": 18,
   "metadata": {},
   "outputs": [
    {
     "name": "stdout",
     "output_type": "stream",
     "text": [
      "정밀도 : 0.7833333333333333\n",
      "정밀도 : 0.7833333333333333\n"
     ]
    }
   ],
   "source": [
    "# 정밀도(Precision)\n",
    "from sklearn.metrics import precision_score\n",
    "precision = precision_score(y_true, y_pred, average='macro')    # average = micro, macro, weighted\n",
    "print('정밀도 :', precision)\n",
    "\n",
    "precision = precision_score(y_true_str, y_pred_str, average='macro')\n",
    "print('정밀도 :', precision)"
   ]
  },
  {
   "cell_type": "code",
   "execution_count": 19,
   "metadata": {},
   "outputs": [
    {
     "name": "stdout",
     "output_type": "stream",
     "text": [
      "재현율 : 0.75\n",
      "재현율 : 0.75\n"
     ]
    }
   ],
   "source": [
    "# 재현율(Recall)\n",
    "from sklearn.metrics import recall_score\n",
    "recall = recall_score(y_true, y_pred, average='macro')      # average = micro, macro, weighted\n",
    "print('재현율 :', recall)\n",
    "\n",
    "recall = recall_score(y_true_str, y_pred_str, average='macro')\n",
    "print('재현율 :', recall)"
   ]
  },
  {
   "cell_type": "code",
   "execution_count": 20,
   "metadata": {},
   "outputs": [
    {
     "name": "stdout",
     "output_type": "stream",
     "text": [
      "F1 스코어 : 0.669047619047619\n",
      "F1 스코어 : 0.669047619047619\n"
     ]
    }
   ],
   "source": [
    "# F1 스코어(F1 Score)\n",
    "from sklearn.metrics import f1_score\n",
    "f1 = f1_score(y_true, y_pred, average='macro')      # average = micro, macro, weighted\n",
    "print('F1 스코어 :', f1)\n",
    "\n",
    "f1 = f1_score(y_true_str, y_pred_str, average='macro')\n",
    "print('F1 스코어 :', f1)"
   ]
  },
  {
   "cell_type": "code",
   "execution_count": null,
   "metadata": {},
   "outputs": [],
   "source": []
  }
 ],
 "metadata": {
  "kernelspec": {
   "display_name": "base",
   "language": "python",
   "name": "python3"
  },
  "language_info": {
   "codemirror_mode": {
    "name": "ipython",
    "version": 3
   },
   "file_extension": ".py",
   "mimetype": "text/x-python",
   "name": "python",
   "nbconvert_exporter": "python",
   "pygments_lexer": "ipython3",
   "version": "3.12.4"
  }
 },
 "nbformat": 4,
 "nbformat_minor": 2
}
