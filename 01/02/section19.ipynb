{
 "cells": [
  {
   "cell_type": "markdown",
   "metadata": {},
   "source": [
    "## section19 데이터프레임 합치기\n",
    "\n",
    "### 01. 단순 병합\n",
    "\n",
    "> 예제 데이터 생성"
   ]
  },
  {
   "cell_type": "code",
   "execution_count": 1,
   "metadata": {},
   "outputs": [
    {
     "name": "stdout",
     "output_type": "stream",
     "text": [
      "    Menu  Price\n",
      "0  Salad  12000\n",
      "1   Soup   9000\n",
      "2  Bread   7000\n",
      "      Menu  Price\n",
      "0    Steak  33000\n",
      "1    Pasta  19000\n",
      "2  Chicken  21000\n"
     ]
    }
   ],
   "source": [
    "import pandas as pd \n",
    "\n",
    "# 에피타이저 메뉴\n",
    "appetizer = pd.DataFrame({\n",
    "    'Menu' : ['Salad', 'Soup', 'Bread'],\n",
    "    'Price' : [12000, 9000, 7000]\n",
    "})\n",
    "\n",
    "# 메인 메뉴\n",
    "main = pd.DataFrame({\n",
    "    'Menu' : ['Steak', 'Pasta', 'Chicken'],\n",
    "    'Price' : [33000, 19000, 21000]\n",
    "})\n",
    "\n",
    "print(appetizer)\n",
    "print(main)"
   ]
  },
  {
   "cell_type": "code",
   "execution_count": 2,
   "metadata": {},
   "outputs": [
    {
     "data": {
      "text/html": [
       "<div>\n",
       "<style scoped>\n",
       "    .dataframe tbody tr th:only-of-type {\n",
       "        vertical-align: middle;\n",
       "    }\n",
       "\n",
       "    .dataframe tbody tr th {\n",
       "        vertical-align: top;\n",
       "    }\n",
       "\n",
       "    .dataframe thead th {\n",
       "        text-align: right;\n",
       "    }\n",
       "</style>\n",
       "<table border=\"1\" class=\"dataframe\">\n",
       "  <thead>\n",
       "    <tr style=\"text-align: right;\">\n",
       "      <th></th>\n",
       "      <th>Menu</th>\n",
       "      <th>Price</th>\n",
       "    </tr>\n",
       "  </thead>\n",
       "  <tbody>\n",
       "    <tr>\n",
       "      <th>0</th>\n",
       "      <td>Salad</td>\n",
       "      <td>12000</td>\n",
       "    </tr>\n",
       "    <tr>\n",
       "      <th>1</th>\n",
       "      <td>Soup</td>\n",
       "      <td>9000</td>\n",
       "    </tr>\n",
       "    <tr>\n",
       "      <th>2</th>\n",
       "      <td>Bread</td>\n",
       "      <td>7000</td>\n",
       "    </tr>\n",
       "    <tr>\n",
       "      <th>3</th>\n",
       "      <td>Steak</td>\n",
       "      <td>33000</td>\n",
       "    </tr>\n",
       "    <tr>\n",
       "      <th>4</th>\n",
       "      <td>Pasta</td>\n",
       "      <td>19000</td>\n",
       "    </tr>\n",
       "    <tr>\n",
       "      <th>5</th>\n",
       "      <td>Chicken</td>\n",
       "      <td>21000</td>\n",
       "    </tr>\n",
       "  </tbody>\n",
       "</table>\n",
       "</div>"
      ],
      "text/plain": [
       "      Menu  Price\n",
       "0    Salad  12000\n",
       "1     Soup   9000\n",
       "2    Bread   7000\n",
       "3    Steak  33000\n",
       "4    Pasta  19000\n",
       "5  Chicken  21000"
      ]
     },
     "execution_count": 2,
     "metadata": {},
     "output_type": "execute_result"
    }
   ],
   "source": [
    "full_menu = pd.concat([appetizer, main], ignore_index = True)\n",
    "full_menu"
   ]
  },
  {
   "cell_type": "code",
   "execution_count": 4,
   "metadata": {},
   "outputs": [
    {
     "data": {
      "text/html": [
       "<div>\n",
       "<style scoped>\n",
       "    .dataframe tbody tr th:only-of-type {\n",
       "        vertical-align: middle;\n",
       "    }\n",
       "\n",
       "    .dataframe tbody tr th {\n",
       "        vertical-align: top;\n",
       "    }\n",
       "\n",
       "    .dataframe thead th {\n",
       "        text-align: right;\n",
       "    }\n",
       "</style>\n",
       "<table border=\"1\" class=\"dataframe\">\n",
       "  <thead>\n",
       "    <tr style=\"text-align: right;\">\n",
       "      <th></th>\n",
       "      <th>Menu</th>\n",
       "      <th>Price</th>\n",
       "      <th>Menu</th>\n",
       "      <th>Price</th>\n",
       "    </tr>\n",
       "  </thead>\n",
       "  <tbody>\n",
       "    <tr>\n",
       "      <th>0</th>\n",
       "      <td>Salad</td>\n",
       "      <td>12000</td>\n",
       "      <td>Steak</td>\n",
       "      <td>33000</td>\n",
       "    </tr>\n",
       "    <tr>\n",
       "      <th>1</th>\n",
       "      <td>Soup</td>\n",
       "      <td>9000</td>\n",
       "      <td>Pasta</td>\n",
       "      <td>19000</td>\n",
       "    </tr>\n",
       "    <tr>\n",
       "      <th>2</th>\n",
       "      <td>Bread</td>\n",
       "      <td>7000</td>\n",
       "      <td>Chicken</td>\n",
       "      <td>21000</td>\n",
       "    </tr>\n",
       "  </tbody>\n",
       "</table>\n",
       "</div>"
      ],
      "text/plain": [
       "    Menu  Price     Menu  Price\n",
       "0  Salad  12000    Steak  33000\n",
       "1   Soup   9000    Pasta  19000\n",
       "2  Bread   7000  Chicken  21000"
      ]
     },
     "execution_count": 4,
     "metadata": {},
     "output_type": "execute_result"
    }
   ],
   "source": [
    "full_menu = pd.concat([appetizer, main], axis=1)\n",
    "full_menu"
   ]
  },
  {
   "cell_type": "markdown",
   "metadata": {},
   "source": [
    "### 02. 키(key) 기준 병합"
   ]
  },
  {
   "cell_type": "code",
   "execution_count": 5,
   "metadata": {},
   "outputs": [
    {
     "name": "stdout",
     "output_type": "stream",
     "text": [
      "    Menu  Price  Calories\n",
      "0  Salad  12000       150\n",
      "1   Soup   9000       100\n",
      "2  Steak  33000       500\n",
      "3  Pasta  19000       400\n"
     ]
    }
   ],
   "source": [
    "# 메뉴와 가격\n",
    "price = pd.DataFrame({\n",
    "    'Menu' : ['Salad', 'Soup', 'Steak', 'Pasta'],\n",
    "    'Price' : [12000, 9000, 33000, 19000]\n",
    "})\n",
    "\n",
    "# 메뉴와 칼로리\n",
    "cal = pd.DataFrame({\n",
    "    'Menu' : ['Soup', 'Steak', 'Pasta', 'Salad'],\n",
    "    'Calories' : [100, 500, 400, 150]\n",
    "})\n",
    "\n",
    "# 두 데이터프레임을 'Menu'를 기준으로 병합\n",
    "menu_info = pd.merge(price, cal, on='Menu')\n",
    "print(menu_info)"
   ]
  },
  {
   "cell_type": "code",
   "execution_count": null,
   "metadata": {},
   "outputs": [],
   "source": []
  }
 ],
 "metadata": {
  "kernelspec": {
   "display_name": "base",
   "language": "python",
   "name": "python3"
  },
  "language_info": {
   "codemirror_mode": {
    "name": "ipython",
    "version": 3
   },
   "file_extension": ".py",
   "mimetype": "text/x-python",
   "name": "python",
   "nbconvert_exporter": "python",
   "pygments_lexer": "ipython3",
   "version": "3.12.4"
  }
 },
 "nbformat": 4,
 "nbformat_minor": 2
}
