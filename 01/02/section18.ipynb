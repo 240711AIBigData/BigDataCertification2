{
 "cells": [
  {
   "cell_type": "markdown",
   "metadata": {},
   "source": [
    "## section18 시계열 데이터(Timedelta)"
   ]
  },
  {
   "cell_type": "code",
   "execution_count": 2,
   "metadata": {},
   "outputs": [
    {
     "data": {
      "text/html": [
       "<div>\n",
       "<style scoped>\n",
       "    .dataframe tbody tr th:only-of-type {\n",
       "        vertical-align: middle;\n",
       "    }\n",
       "\n",
       "    .dataframe tbody tr th {\n",
       "        vertical-align: top;\n",
       "    }\n",
       "\n",
       "    .dataframe thead th {\n",
       "        text-align: right;\n",
       "    }\n",
       "</style>\n",
       "<table border=\"1\" class=\"dataframe\">\n",
       "  <thead>\n",
       "    <tr style=\"text-align: right;\">\n",
       "      <th></th>\n",
       "      <th>DateTime4</th>\n",
       "    </tr>\n",
       "  </thead>\n",
       "  <tbody>\n",
       "    <tr>\n",
       "      <th>0</th>\n",
       "      <td>2024-02-17 13:50:30</td>\n",
       "    </tr>\n",
       "    <tr>\n",
       "      <th>1</th>\n",
       "      <td>2024-02-18 14:55:45</td>\n",
       "    </tr>\n",
       "    <tr>\n",
       "      <th>2</th>\n",
       "      <td>2024-02-19 15:30:15</td>\n",
       "    </tr>\n",
       "    <tr>\n",
       "      <th>3</th>\n",
       "      <td>2024-02-20 16:10:50</td>\n",
       "    </tr>\n",
       "  </tbody>\n",
       "</table>\n",
       "</div>"
      ],
      "text/plain": [
       "            DateTime4\n",
       "0 2024-02-17 13:50:30\n",
       "1 2024-02-18 14:55:45\n",
       "2 2024-02-19 15:30:15\n",
       "3 2024-02-20 16:10:50"
      ]
     },
     "execution_count": 2,
     "metadata": {},
     "output_type": "execute_result"
    }
   ],
   "source": [
    "import pandas as pd\n",
    "\n",
    "df = pd.read_csv('./data/date_data.csv', \n",
    "                 usecols = ['DateTime4'], # usecols로 DateTime4 컬럼 선택\n",
    "                 parse_dates = ['DateTime4'])   # parse_dates로 datetime 자료형으로 변환\n",
    "df"
   ]
  },
  {
   "cell_type": "markdown",
   "metadata": {},
   "source": [
    "### 01. 특정 시간과의 차이"
   ]
  },
  {
   "cell_type": "code",
   "execution_count": 10,
   "metadata": {},
   "outputs": [
    {
     "data": {
      "text/html": [
       "<div>\n",
       "<style scoped>\n",
       "    .dataframe tbody tr th:only-of-type {\n",
       "        vertical-align: middle;\n",
       "    }\n",
       "\n",
       "    .dataframe tbody tr th {\n",
       "        vertical-align: top;\n",
       "    }\n",
       "\n",
       "    .dataframe thead th {\n",
       "        text-align: right;\n",
       "    }\n",
       "</style>\n",
       "<table border=\"1\" class=\"dataframe\">\n",
       "  <thead>\n",
       "    <tr style=\"text-align: right;\">\n",
       "      <th></th>\n",
       "      <th>DateTime4</th>\n",
       "      <th>After-100day</th>\n",
       "    </tr>\n",
       "  </thead>\n",
       "  <tbody>\n",
       "    <tr>\n",
       "      <th>0</th>\n",
       "      <td>2024-02-17 13:50:30</td>\n",
       "      <td>2024-05-26 13:50:30</td>\n",
       "    </tr>\n",
       "    <tr>\n",
       "      <th>1</th>\n",
       "      <td>2024-02-18 14:55:45</td>\n",
       "      <td>2024-05-27 14:55:45</td>\n",
       "    </tr>\n",
       "    <tr>\n",
       "      <th>2</th>\n",
       "      <td>2024-02-19 15:30:15</td>\n",
       "      <td>2024-05-28 15:30:15</td>\n",
       "    </tr>\n",
       "    <tr>\n",
       "      <th>3</th>\n",
       "      <td>2024-02-20 16:10:50</td>\n",
       "      <td>2024-05-29 16:10:50</td>\n",
       "    </tr>\n",
       "  </tbody>\n",
       "</table>\n",
       "</div>"
      ],
      "text/plain": [
       "            DateTime4        After-100day\n",
       "0 2024-02-17 13:50:30 2024-05-26 13:50:30\n",
       "1 2024-02-18 14:55:45 2024-05-27 14:55:45\n",
       "2 2024-02-19 15:30:15 2024-05-28 15:30:15\n",
       "3 2024-02-20 16:10:50 2024-05-29 16:10:50"
      ]
     },
     "execution_count": 10,
     "metadata": {},
     "output_type": "execute_result"
    }
   ],
   "source": [
    "day = pd.Timedelta(days = 99)\n",
    "df['After-100day'] = df['DateTime4'] + day\n",
    "df"
   ]
  },
  {
   "cell_type": "code",
   "execution_count": 11,
   "metadata": {},
   "outputs": [
    {
     "data": {
      "text/html": [
       "<div>\n",
       "<style scoped>\n",
       "    .dataframe tbody tr th:only-of-type {\n",
       "        vertical-align: middle;\n",
       "    }\n",
       "\n",
       "    .dataframe tbody tr th {\n",
       "        vertical-align: top;\n",
       "    }\n",
       "\n",
       "    .dataframe thead th {\n",
       "        text-align: right;\n",
       "    }\n",
       "</style>\n",
       "<table border=\"1\" class=\"dataframe\">\n",
       "  <thead>\n",
       "    <tr style=\"text-align: right;\">\n",
       "      <th></th>\n",
       "      <th>DateTime4</th>\n",
       "      <th>After-100day</th>\n",
       "      <th>After-100hour</th>\n",
       "    </tr>\n",
       "  </thead>\n",
       "  <tbody>\n",
       "    <tr>\n",
       "      <th>0</th>\n",
       "      <td>2024-02-17 13:50:30</td>\n",
       "      <td>2024-05-26 13:50:30</td>\n",
       "      <td>2024-02-21 17:50:30</td>\n",
       "    </tr>\n",
       "    <tr>\n",
       "      <th>1</th>\n",
       "      <td>2024-02-18 14:55:45</td>\n",
       "      <td>2024-05-27 14:55:45</td>\n",
       "      <td>2024-02-22 18:55:45</td>\n",
       "    </tr>\n",
       "    <tr>\n",
       "      <th>2</th>\n",
       "      <td>2024-02-19 15:30:15</td>\n",
       "      <td>2024-05-28 15:30:15</td>\n",
       "      <td>2024-02-23 19:30:15</td>\n",
       "    </tr>\n",
       "    <tr>\n",
       "      <th>3</th>\n",
       "      <td>2024-02-20 16:10:50</td>\n",
       "      <td>2024-05-29 16:10:50</td>\n",
       "      <td>2024-02-24 20:10:50</td>\n",
       "    </tr>\n",
       "  </tbody>\n",
       "</table>\n",
       "</div>"
      ],
      "text/plain": [
       "            DateTime4        After-100day       After-100hour\n",
       "0 2024-02-17 13:50:30 2024-05-26 13:50:30 2024-02-21 17:50:30\n",
       "1 2024-02-18 14:55:45 2024-05-27 14:55:45 2024-02-22 18:55:45\n",
       "2 2024-02-19 15:30:15 2024-05-28 15:30:15 2024-02-23 19:30:15\n",
       "3 2024-02-20 16:10:50 2024-05-29 16:10:50 2024-02-24 20:10:50"
      ]
     },
     "execution_count": 11,
     "metadata": {},
     "output_type": "execute_result"
    }
   ],
   "source": [
    "hour = pd.Timedelta(hours = 100)\n",
    "df['After-100hour'] = df['DateTime4'] + hour\n",
    "df"
   ]
  },
  {
   "cell_type": "code",
   "execution_count": 14,
   "metadata": {},
   "outputs": [
    {
     "data": {
      "text/html": [
       "<div>\n",
       "<style scoped>\n",
       "    .dataframe tbody tr th:only-of-type {\n",
       "        vertical-align: middle;\n",
       "    }\n",
       "\n",
       "    .dataframe tbody tr th {\n",
       "        vertical-align: top;\n",
       "    }\n",
       "\n",
       "    .dataframe thead th {\n",
       "        text-align: right;\n",
       "    }\n",
       "</style>\n",
       "<table border=\"1\" class=\"dataframe\">\n",
       "  <thead>\n",
       "    <tr style=\"text-align: right;\">\n",
       "      <th></th>\n",
       "      <th>DateTime4</th>\n",
       "      <th>After-100day</th>\n",
       "      <th>After-100hour</th>\n",
       "      <th>difference</th>\n",
       "    </tr>\n",
       "  </thead>\n",
       "  <tbody>\n",
       "    <tr>\n",
       "      <th>0</th>\n",
       "      <td>2024-02-17 13:50:30</td>\n",
       "      <td>2024-05-26 13:50:30</td>\n",
       "      <td>2024-02-21 17:50:30</td>\n",
       "      <td>2023-12-23 06:43:23</td>\n",
       "    </tr>\n",
       "    <tr>\n",
       "      <th>1</th>\n",
       "      <td>2024-02-18 14:55:45</td>\n",
       "      <td>2024-05-27 14:55:45</td>\n",
       "      <td>2024-02-22 18:55:45</td>\n",
       "      <td>2023-12-24 07:48:38</td>\n",
       "    </tr>\n",
       "    <tr>\n",
       "      <th>2</th>\n",
       "      <td>2024-02-19 15:30:15</td>\n",
       "      <td>2024-05-28 15:30:15</td>\n",
       "      <td>2024-02-23 19:30:15</td>\n",
       "      <td>2023-12-25 08:23:08</td>\n",
       "    </tr>\n",
       "    <tr>\n",
       "      <th>3</th>\n",
       "      <td>2024-02-20 16:10:50</td>\n",
       "      <td>2024-05-29 16:10:50</td>\n",
       "      <td>2024-02-24 20:10:50</td>\n",
       "      <td>2023-12-26 09:03:43</td>\n",
       "    </tr>\n",
       "  </tbody>\n",
       "</table>\n",
       "</div>"
      ],
      "text/plain": [
       "            DateTime4        After-100day       After-100hour  \\\n",
       "0 2024-02-17 13:50:30 2024-05-26 13:50:30 2024-02-21 17:50:30   \n",
       "1 2024-02-18 14:55:45 2024-05-27 14:55:45 2024-02-22 18:55:45   \n",
       "2 2024-02-19 15:30:15 2024-05-28 15:30:15 2024-02-23 19:30:15   \n",
       "3 2024-02-20 16:10:50 2024-05-29 16:10:50 2024-02-24 20:10:50   \n",
       "\n",
       "           difference  \n",
       "0 2023-12-23 06:43:23  \n",
       "1 2023-12-24 07:48:38  \n",
       "2 2023-12-25 08:23:08  \n",
       "3 2023-12-26 09:03:43  "
      ]
     },
     "execution_count": 14,
     "metadata": {},
     "output_type": "execute_result"
    }
   ],
   "source": [
    "difference = pd.Timedelta(weeks=7, days=7, hours=7, minutes=7, seconds=7)\n",
    "df['difference'] = df['DateTime4'] - difference\n",
    "df"
   ]
  },
  {
   "cell_type": "markdown",
   "metadata": {},
   "source": [
    "### 02. 두 시간 사이의 차이"
   ]
  },
  {
   "cell_type": "code",
   "execution_count": 15,
   "metadata": {},
   "outputs": [
    {
     "data": {
      "text/plain": [
       "0   60 days 11:07:07\n",
       "1   60 days 11:07:07\n",
       "2   60 days 11:07:07\n",
       "3   60 days 11:07:07\n",
       "dtype: timedelta64[ns]"
      ]
     },
     "execution_count": 15,
     "metadata": {},
     "output_type": "execute_result"
    }
   ],
   "source": [
    "diff = df['After-100hour'] - df['difference']\n",
    "diff"
   ]
  },
  {
   "cell_type": "code",
   "execution_count": 16,
   "metadata": {},
   "outputs": [
    {
     "name": "stdout",
     "output_type": "stream",
     "text": [
      "0    5224027.0\n",
      "1    5224027.0\n",
      "2    5224027.0\n",
      "3    5224027.0\n",
      "dtype: float64\n",
      "0    87067.116667\n",
      "1    87067.116667\n",
      "2    87067.116667\n",
      "3    87067.116667\n",
      "dtype: float64\n",
      "0    1451.118611\n",
      "1    1451.118611\n",
      "2    1451.118611\n",
      "3    1451.118611\n",
      "dtype: float64\n",
      "0    60.463275\n",
      "1    60.463275\n",
      "2    60.463275\n",
      "3    60.463275\n",
      "dtype: float64\n"
     ]
    }
   ],
   "source": [
    "print(diff.dt.total_seconds())          # 초\n",
    "print(diff.dt.total_seconds()/60)       #분\n",
    "print(diff.dt.total_seconds()/60/60)    # 시간\n",
    "print(diff.dt.total_seconds()/60/60/24) # 일"
   ]
  },
  {
   "cell_type": "markdown",
   "metadata": {},
   "source": [
    "### 03. Timedelta의 dt 속성"
   ]
  },
  {
   "cell_type": "code",
   "execution_count": 17,
   "metadata": {},
   "outputs": [
    {
     "name": "stdout",
     "output_type": "stream",
     "text": [
      "0    60\n",
      "1    60\n",
      "2    60\n",
      "3    60\n",
      "dtype: int64\n",
      "0    40027\n",
      "1    40027\n",
      "2    40027\n",
      "3    40027\n",
      "dtype: int32\n"
     ]
    }
   ],
   "source": [
    "print(diff.dt.days)\n",
    "print(diff.dt.seconds)"
   ]
  },
  {
   "cell_type": "code",
   "execution_count": 19,
   "metadata": {},
   "outputs": [
    {
     "name": "stdout",
     "output_type": "stream",
     "text": [
      "5 분\n",
      "24.599999999999998 초\n"
     ]
    }
   ],
   "source": [
    "min = 5.41\n",
    "print(int(min), '분')\n",
    "print(0.41*60, '초')"
   ]
  },
  {
   "cell_type": "code",
   "execution_count": 21,
   "metadata": {},
   "outputs": [
    {
     "name": "stdout",
     "output_type": "stream",
     "text": [
      "0    87067.0\n",
      "1    87067.0\n",
      "2    87067.0\n",
      "3    87067.0\n",
      "dtype: float64\n"
     ]
    }
   ],
   "source": [
    "print(round(diff.dt.total_seconds()/60))"
   ]
  }
 ],
 "metadata": {
  "kernelspec": {
   "display_name": "base",
   "language": "python",
   "name": "python3"
  },
  "language_info": {
   "codemirror_mode": {
    "name": "ipython",
    "version": 3
   },
   "file_extension": ".py",
   "mimetype": "text/x-python",
   "name": "python",
   "nbconvert_exporter": "python",
   "pygments_lexer": "ipython3",
   "version": "3.12.4"
  }
 },
 "nbformat": 4,
 "nbformat_minor": 2
}
