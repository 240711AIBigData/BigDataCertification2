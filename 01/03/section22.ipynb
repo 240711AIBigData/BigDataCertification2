{
 "cells": [
  {
   "cell_type": "code",
   "execution_count": 2,
   "metadata": {},
   "outputs": [
    {
     "data": {
      "text/html": [
       "<div>\n",
       "<style scoped>\n",
       "    .dataframe tbody tr th:only-of-type {\n",
       "        vertical-align: middle;\n",
       "    }\n",
       "\n",
       "    .dataframe tbody tr th {\n",
       "        vertical-align: top;\n",
       "    }\n",
       "\n",
       "    .dataframe thead th {\n",
       "        text-align: right;\n",
       "    }\n",
       "</style>\n",
       "<table border=\"1\" class=\"dataframe\">\n",
       "  <thead>\n",
       "    <tr style=\"text-align: right;\">\n",
       "      <th></th>\n",
       "      <th>주문시간</th>\n",
       "      <th>실제도착시간</th>\n",
       "      <th>예상도착시간</th>\n",
       "      <th>앱종류</th>\n",
       "      <th>거리</th>\n",
       "      <th>결제종류</th>\n",
       "      <th>user</th>\n",
       "    </tr>\n",
       "  </thead>\n",
       "  <tbody>\n",
       "    <tr>\n",
       "      <th>0</th>\n",
       "      <td>2023-07-26 08:05:49</td>\n",
       "      <td>2023-07-26 09:14:06</td>\n",
       "      <td>2023-07-26 08:39:42</td>\n",
       "      <td>여기여</td>\n",
       "      <td>1.93</td>\n",
       "      <td>카드</td>\n",
       "      <td>user_275</td>\n",
       "    </tr>\n",
       "    <tr>\n",
       "      <th>1</th>\n",
       "      <td>2022-11-07 10:21:54</td>\n",
       "      <td>2022-11-07 10:44:04</td>\n",
       "      <td>2022-11-07 10:50:15</td>\n",
       "      <td>배고팡</td>\n",
       "      <td>5.19</td>\n",
       "      <td>카드</td>\n",
       "      <td>user_360</td>\n",
       "    </tr>\n",
       "    <tr>\n",
       "      <th>2</th>\n",
       "      <td>2023-04-18 05:00:57</td>\n",
       "      <td>2023-04-18 06:12:46</td>\n",
       "      <td>2023-04-18 05:32:53</td>\n",
       "      <td>배고팡</td>\n",
       "      <td>13.85</td>\n",
       "      <td>카드</td>\n",
       "      <td>user_36</td>\n",
       "    </tr>\n",
       "    <tr>\n",
       "      <th>3</th>\n",
       "      <td>2023-08-18 10:46:28</td>\n",
       "      <td>2023-08-18 11:16:25</td>\n",
       "      <td>2023-08-18 11:08:33</td>\n",
       "      <td>배고팡</td>\n",
       "      <td>10.90</td>\n",
       "      <td>앱결제</td>\n",
       "      <td>user_65</td>\n",
       "    </tr>\n",
       "    <tr>\n",
       "      <th>4</th>\n",
       "      <td>2023-08-11 09:58:27</td>\n",
       "      <td>2023-08-11 11:27:57</td>\n",
       "      <td>2023-08-11 10:51:57</td>\n",
       "      <td>여기여</td>\n",
       "      <td>14.96</td>\n",
       "      <td>카드</td>\n",
       "      <td>user_176</td>\n",
       "    </tr>\n",
       "    <tr>\n",
       "      <th>...</th>\n",
       "      <td>...</td>\n",
       "      <td>...</td>\n",
       "      <td>...</td>\n",
       "      <td>...</td>\n",
       "      <td>...</td>\n",
       "      <td>...</td>\n",
       "      <td>...</td>\n",
       "    </tr>\n",
       "    <tr>\n",
       "      <th>995</th>\n",
       "      <td>2022-10-10 03:13:30</td>\n",
       "      <td>2022-10-10 04:13:48</td>\n",
       "      <td>2022-10-10 04:15:37</td>\n",
       "      <td>배고팡</td>\n",
       "      <td>1.79</td>\n",
       "      <td>현금</td>\n",
       "      <td>user_186</td>\n",
       "    </tr>\n",
       "    <tr>\n",
       "      <th>996</th>\n",
       "      <td>2023-02-03 12:47:19</td>\n",
       "      <td>2023-02-03 13:11:46</td>\n",
       "      <td>2023-02-03 13:12:57</td>\n",
       "      <td>배고팡</td>\n",
       "      <td>15.55</td>\n",
       "      <td>카드</td>\n",
       "      <td>user_239</td>\n",
       "    </tr>\n",
       "    <tr>\n",
       "      <th>997</th>\n",
       "      <td>2023-01-05 21:28:58</td>\n",
       "      <td>2023-01-05 21:57:41</td>\n",
       "      <td>2023-01-05 21:57:44</td>\n",
       "      <td>배고팡</td>\n",
       "      <td>8.33</td>\n",
       "      <td>현금</td>\n",
       "      <td>user_264</td>\n",
       "    </tr>\n",
       "    <tr>\n",
       "      <th>998</th>\n",
       "      <td>2023-06-15 03:56:42</td>\n",
       "      <td>2023-06-15 04:14:24</td>\n",
       "      <td>2023-06-15 04:18:38</td>\n",
       "      <td>여기여</td>\n",
       "      <td>8.20</td>\n",
       "      <td>앱결제</td>\n",
       "      <td>user_229</td>\n",
       "    </tr>\n",
       "    <tr>\n",
       "      <th>999</th>\n",
       "      <td>2023-08-02 20:53:53</td>\n",
       "      <td>2023-08-02 22:04:06</td>\n",
       "      <td>2023-08-02 22:09:22</td>\n",
       "      <td>여기여</td>\n",
       "      <td>5.33</td>\n",
       "      <td>카드</td>\n",
       "      <td>user_148</td>\n",
       "    </tr>\n",
       "  </tbody>\n",
       "</table>\n",
       "<p>1000 rows × 7 columns</p>\n",
       "</div>"
      ],
      "text/plain": [
       "                    주문시간               실제도착시간               예상도착시간  앱종류  \\\n",
       "0    2023-07-26 08:05:49  2023-07-26 09:14:06  2023-07-26 08:39:42  여기여   \n",
       "1    2022-11-07 10:21:54  2022-11-07 10:44:04  2022-11-07 10:50:15  배고팡   \n",
       "2    2023-04-18 05:00:57  2023-04-18 06:12:46  2023-04-18 05:32:53  배고팡   \n",
       "3    2023-08-18 10:46:28  2023-08-18 11:16:25  2023-08-18 11:08:33  배고팡   \n",
       "4    2023-08-11 09:58:27  2023-08-11 11:27:57  2023-08-11 10:51:57  여기여   \n",
       "..                   ...                  ...                  ...  ...   \n",
       "995  2022-10-10 03:13:30  2022-10-10 04:13:48  2022-10-10 04:15:37  배고팡   \n",
       "996  2023-02-03 12:47:19  2023-02-03 13:11:46  2023-02-03 13:12:57  배고팡   \n",
       "997  2023-01-05 21:28:58  2023-01-05 21:57:41  2023-01-05 21:57:44  배고팡   \n",
       "998  2023-06-15 03:56:42  2023-06-15 04:14:24  2023-06-15 04:18:38  여기여   \n",
       "999  2023-08-02 20:53:53  2023-08-02 22:04:06  2023-08-02 22:09:22  여기여   \n",
       "\n",
       "        거리 결제종류      user  \n",
       "0     1.93   카드  user_275  \n",
       "1     5.19   카드  user_360  \n",
       "2    13.85   카드   user_36  \n",
       "3    10.90  앱결제   user_65  \n",
       "4    14.96   카드  user_176  \n",
       "..     ...  ...       ...  \n",
       "995   1.79   현금  user_186  \n",
       "996  15.55   카드  user_239  \n",
       "997   8.33   현금  user_264  \n",
       "998   8.20  앱결제  user_229  \n",
       "999   5.33   카드  user_148  \n",
       "\n",
       "[1000 rows x 7 columns]"
      ]
     },
     "execution_count": 2,
     "metadata": {},
     "output_type": "execute_result"
    }
   ],
   "source": [
    "import pandas as pd\n",
    "df = pd.read_csv('./data/delivery_time.csv')\n",
    "df"
   ]
  },
  {
   "cell_type": "markdown",
   "metadata": {},
   "source": [
    "### 풀이"
   ]
  },
  {
   "cell_type": "code",
   "execution_count": 5,
   "metadata": {},
   "outputs": [
    {
     "name": "stdout",
     "output_type": "stream",
     "text": [
      "0     2023-07-26 09:14:06\n",
      "1     2022-11-07 10:44:04\n",
      "2     2023-04-18 06:12:46\n",
      "3     2023-08-18 11:16:25\n",
      "4     2023-08-11 11:27:57\n",
      "              ...        \n",
      "995   2022-10-10 04:13:48\n",
      "996   2023-02-03 13:11:46\n",
      "997   2023-01-05 21:57:41\n",
      "998   2023-06-15 04:14:24\n",
      "999   2023-08-02 22:04:06\n",
      "Name: 실제도착시간, Length: 1000, dtype: datetime64[ns]\n",
      "0     2023-07-26 08:05:49\n",
      "1     2022-11-07 10:21:54\n",
      "2     2023-04-18 05:00:57\n",
      "3     2023-08-18 10:46:28\n",
      "4     2023-08-11 09:58:27\n",
      "              ...        \n",
      "995   2022-10-10 03:13:30\n",
      "996   2023-02-03 12:47:19\n",
      "997   2023-01-05 21:28:58\n",
      "998   2023-06-15 03:56:42\n",
      "999   2023-08-02 20:53:53\n",
      "Name: 주문시간, Length: 1000, dtype: datetime64[ns]\n"
     ]
    }
   ],
   "source": [
    "# datetime 으로 자료형 변경\n",
    "df['실제도착시간'] = pd.to_datetime(df['실제도착시간'])\n",
    "print(df['실제도착시간'])\n",
    "df['주문시간'] = pd.to_datetime(df['주문시간'])\n",
    "print(df['주문시간'])"
   ]
  },
  {
   "cell_type": "code",
   "execution_count": 6,
   "metadata": {},
   "outputs": [
    {
     "data": {
      "text/plain": [
       "0      68.283333\n",
       "1      22.166667\n",
       "2      71.816667\n",
       "3      29.950000\n",
       "4      89.500000\n",
       "         ...    \n",
       "995    60.300000\n",
       "996    24.450000\n",
       "997    28.716667\n",
       "998    17.700000\n",
       "999    70.216667\n",
       "Name: diff, Length: 1000, dtype: float64"
      ]
     },
     "execution_count": 6,
     "metadata": {},
     "output_type": "execute_result"
    }
   ],
   "source": [
    "# 실제 도착 시간과 주문 시간 차이 계산(분)\n",
    "df['diff'] = (df['실제도착시간'] - df['주문시간']).dt.total_seconds()/60\n",
    "df['diff']"
   ]
  },
  {
   "cell_type": "code",
   "execution_count": 7,
   "metadata": {},
   "outputs": [
    {
     "data": {
      "text/plain": [
       "앱종류\n",
       "배고팡    61.818694\n",
       "배달왕    63.517864\n",
       "여기여    62.343110\n",
       "Name: diff, dtype: float64"
      ]
     },
     "execution_count": 7,
     "metadata": {},
     "output_type": "execute_result"
    }
   ],
   "source": [
    "# 앱 종류별 도착 시간과 주문 시간 차이의 평균 계산\n",
    "df = df.groupby('앱종류')['diff'].mean()\n",
    "df"
   ]
  },
  {
   "cell_type": "code",
   "execution_count": 8,
   "metadata": {},
   "outputs": [
    {
     "name": "stdout",
     "output_type": "stream",
     "text": [
      "62\n"
     ]
    }
   ],
   "source": [
    "# 가장 작은 값을 찾고 반올림 후 출력\n",
    "print(round(df.min()))"
   ]
  },
  {
   "cell_type": "code",
   "execution_count": null,
   "metadata": {},
   "outputs": [],
   "source": []
  }
 ],
 "metadata": {
  "kernelspec": {
   "display_name": "base",
   "language": "python",
   "name": "python3"
  },
  "language_info": {
   "codemirror_mode": {
    "name": "ipython",
    "version": 3
   },
   "file_extension": ".py",
   "mimetype": "text/x-python",
   "name": "python",
   "nbconvert_exporter": "python",
   "pygments_lexer": "ipython3",
   "version": "3.12.4"
  }
 },
 "nbformat": 4,
 "nbformat_minor": 2
}
