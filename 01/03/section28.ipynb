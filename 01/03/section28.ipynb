{
 "cells": [
  {
   "cell_type": "code",
   "execution_count": 1,
   "metadata": {},
   "outputs": [
    {
     "data": {
      "text/html": [
       "<div>\n",
       "<style scoped>\n",
       "    .dataframe tbody tr th:only-of-type {\n",
       "        vertical-align: middle;\n",
       "    }\n",
       "\n",
       "    .dataframe tbody tr th {\n",
       "        vertical-align: top;\n",
       "    }\n",
       "\n",
       "    .dataframe thead th {\n",
       "        text-align: right;\n",
       "    }\n",
       "</style>\n",
       "<table border=\"1\" class=\"dataframe\">\n",
       "  <thead>\n",
       "    <tr style=\"text-align: right;\">\n",
       "      <th></th>\n",
       "      <th>주문시간</th>\n",
       "      <th>실제도착시간</th>\n",
       "      <th>예상도착시간</th>\n",
       "      <th>앱종류</th>\n",
       "      <th>거리</th>\n",
       "      <th>결제종류</th>\n",
       "      <th>user</th>\n",
       "    </tr>\n",
       "  </thead>\n",
       "  <tbody>\n",
       "    <tr>\n",
       "      <th>0</th>\n",
       "      <td>2023-07-26 08:05:49</td>\n",
       "      <td>2023-07-26 09:14:06</td>\n",
       "      <td>2023-07-26 08:39:42</td>\n",
       "      <td>여기여</td>\n",
       "      <td>1.93</td>\n",
       "      <td>카드</td>\n",
       "      <td>user_275</td>\n",
       "    </tr>\n",
       "    <tr>\n",
       "      <th>1</th>\n",
       "      <td>2022-11-07 10:21:54</td>\n",
       "      <td>2022-11-07 10:44:04</td>\n",
       "      <td>2022-11-07 10:50:15</td>\n",
       "      <td>배고팡</td>\n",
       "      <td>5.19</td>\n",
       "      <td>카드</td>\n",
       "      <td>user_360</td>\n",
       "    </tr>\n",
       "    <tr>\n",
       "      <th>2</th>\n",
       "      <td>2023-04-18 05:00:57</td>\n",
       "      <td>2023-04-18 06:12:46</td>\n",
       "      <td>2023-04-18 05:32:53</td>\n",
       "      <td>배고팡</td>\n",
       "      <td>13.85</td>\n",
       "      <td>카드</td>\n",
       "      <td>user_36</td>\n",
       "    </tr>\n",
       "    <tr>\n",
       "      <th>3</th>\n",
       "      <td>2023-08-18 10:46:28</td>\n",
       "      <td>2023-08-18 11:16:25</td>\n",
       "      <td>2023-08-18 11:08:33</td>\n",
       "      <td>배고팡</td>\n",
       "      <td>10.90</td>\n",
       "      <td>앱결제</td>\n",
       "      <td>user_65</td>\n",
       "    </tr>\n",
       "    <tr>\n",
       "      <th>4</th>\n",
       "      <td>2023-08-11 09:58:27</td>\n",
       "      <td>2023-08-11 11:27:57</td>\n",
       "      <td>2023-08-11 10:51:57</td>\n",
       "      <td>여기여</td>\n",
       "      <td>14.96</td>\n",
       "      <td>카드</td>\n",
       "      <td>user_176</td>\n",
       "    </tr>\n",
       "    <tr>\n",
       "      <th>...</th>\n",
       "      <td>...</td>\n",
       "      <td>...</td>\n",
       "      <td>...</td>\n",
       "      <td>...</td>\n",
       "      <td>...</td>\n",
       "      <td>...</td>\n",
       "      <td>...</td>\n",
       "    </tr>\n",
       "    <tr>\n",
       "      <th>995</th>\n",
       "      <td>2022-10-10 03:13:30</td>\n",
       "      <td>2022-10-10 04:13:48</td>\n",
       "      <td>2022-10-10 04:15:37</td>\n",
       "      <td>배고팡</td>\n",
       "      <td>1.79</td>\n",
       "      <td>현금</td>\n",
       "      <td>user_186</td>\n",
       "    </tr>\n",
       "    <tr>\n",
       "      <th>996</th>\n",
       "      <td>2023-02-03 12:47:19</td>\n",
       "      <td>2023-02-03 13:11:46</td>\n",
       "      <td>2023-02-03 13:12:57</td>\n",
       "      <td>배고팡</td>\n",
       "      <td>15.55</td>\n",
       "      <td>카드</td>\n",
       "      <td>user_239</td>\n",
       "    </tr>\n",
       "    <tr>\n",
       "      <th>997</th>\n",
       "      <td>2023-01-05 21:28:58</td>\n",
       "      <td>2023-01-05 21:57:41</td>\n",
       "      <td>2023-01-05 21:57:44</td>\n",
       "      <td>배고팡</td>\n",
       "      <td>8.33</td>\n",
       "      <td>현금</td>\n",
       "      <td>user_264</td>\n",
       "    </tr>\n",
       "    <tr>\n",
       "      <th>998</th>\n",
       "      <td>2023-06-15 03:56:42</td>\n",
       "      <td>2023-06-15 04:14:24</td>\n",
       "      <td>2023-06-15 04:18:38</td>\n",
       "      <td>여기여</td>\n",
       "      <td>8.20</td>\n",
       "      <td>앱결제</td>\n",
       "      <td>user_229</td>\n",
       "    </tr>\n",
       "    <tr>\n",
       "      <th>999</th>\n",
       "      <td>2023-08-02 20:53:53</td>\n",
       "      <td>2023-08-02 22:04:06</td>\n",
       "      <td>2023-08-02 22:09:22</td>\n",
       "      <td>여기여</td>\n",
       "      <td>5.33</td>\n",
       "      <td>카드</td>\n",
       "      <td>user_148</td>\n",
       "    </tr>\n",
       "  </tbody>\n",
       "</table>\n",
       "<p>1000 rows × 7 columns</p>\n",
       "</div>"
      ],
      "text/plain": [
       "                    주문시간               실제도착시간               예상도착시간  앱종류  \\\n",
       "0    2023-07-26 08:05:49  2023-07-26 09:14:06  2023-07-26 08:39:42  여기여   \n",
       "1    2022-11-07 10:21:54  2022-11-07 10:44:04  2022-11-07 10:50:15  배고팡   \n",
       "2    2023-04-18 05:00:57  2023-04-18 06:12:46  2023-04-18 05:32:53  배고팡   \n",
       "3    2023-08-18 10:46:28  2023-08-18 11:16:25  2023-08-18 11:08:33  배고팡   \n",
       "4    2023-08-11 09:58:27  2023-08-11 11:27:57  2023-08-11 10:51:57  여기여   \n",
       "..                   ...                  ...                  ...  ...   \n",
       "995  2022-10-10 03:13:30  2022-10-10 04:13:48  2022-10-10 04:15:37  배고팡   \n",
       "996  2023-02-03 12:47:19  2023-02-03 13:11:46  2023-02-03 13:12:57  배고팡   \n",
       "997  2023-01-05 21:28:58  2023-01-05 21:57:41  2023-01-05 21:57:44  배고팡   \n",
       "998  2023-06-15 03:56:42  2023-06-15 04:14:24  2023-06-15 04:18:38  여기여   \n",
       "999  2023-08-02 20:53:53  2023-08-02 22:04:06  2023-08-02 22:09:22  여기여   \n",
       "\n",
       "        거리 결제종류      user  \n",
       "0     1.93   카드  user_275  \n",
       "1     5.19   카드  user_360  \n",
       "2    13.85   카드   user_36  \n",
       "3    10.90  앱결제   user_65  \n",
       "4    14.96   카드  user_176  \n",
       "..     ...  ...       ...  \n",
       "995   1.79   현금  user_186  \n",
       "996  15.55   카드  user_239  \n",
       "997   8.33   현금  user_264  \n",
       "998   8.20  앱결제  user_229  \n",
       "999   5.33   카드  user_148  \n",
       "\n",
       "[1000 rows x 7 columns]"
      ]
     },
     "execution_count": 1,
     "metadata": {},
     "output_type": "execute_result"
    }
   ],
   "source": [
    "import pandas as pd\n",
    "df = pd.read_csv('./data/delivery_time.csv')\n",
    "df"
   ]
  },
  {
   "cell_type": "markdown",
   "metadata": {},
   "source": [
    "### 풀이"
   ]
  },
  {
   "cell_type": "code",
   "execution_count": 3,
   "metadata": {},
   "outputs": [
    {
     "data": {
      "text/plain": [
       "0      2023-07\n",
       "1      2022-11\n",
       "2      2023-04\n",
       "3      2023-08\n",
       "4      2023-08\n",
       "        ...   \n",
       "995    2022-10\n",
       "996    2023-02\n",
       "997    2023-01\n",
       "998    2023-06\n",
       "999    2023-08\n",
       "Name: 주문월, Length: 1000, dtype: period[M]"
      ]
     },
     "execution_count": 3,
     "metadata": {},
     "output_type": "execute_result"
    }
   ],
   "source": [
    "# 주문 연월 추출(연도-월)\n",
    "df['주문시간'] = pd.to_datetime(df['주문시간'])\n",
    "df['주문월'] = df['주문시간'].dt.to_period('M')\n",
    "df['주문월']"
   ]
  },
  {
   "cell_type": "code",
   "execution_count": 4,
   "metadata": {},
   "outputs": [
    {
     "data": {
      "text/plain": [
       "주문월\n",
       "2022-08    29\n",
       "2022-09    95\n",
       "2022-10    79\n",
       "2022-11    81\n",
       "2022-12    94\n",
       "2023-01    82\n",
       "2023-02    70\n",
       "2023-03    73\n",
       "2023-04    88\n",
       "2023-05    83\n",
       "2023-06    86\n",
       "2023-07    83\n",
       "2023-08    57\n",
       "Freq: M, dtype: int64"
      ]
     },
     "execution_count": 4,
     "metadata": {},
     "output_type": "execute_result"
    }
   ],
   "source": [
    "# 주문 월을 기준으로 빈도 수(주문 횟수) 계산\n",
    "count_month = df.groupby('주문월').size()\n",
    "count_month"
   ]
  },
  {
   "cell_type": "code",
   "execution_count": 5,
   "metadata": {},
   "outputs": [
    {
     "data": {
      "text/plain": [
       "Period('2022-09', 'M')"
      ]
     },
     "execution_count": 5,
     "metadata": {},
     "output_type": "execute_result"
    }
   ],
   "source": [
    "# 주문 횟수가 가장 많은 월의 인덱스 추출\n",
    "year_month = count_month.idxmax()\n",
    "year_month"
   ]
  },
  {
   "cell_type": "code",
   "execution_count": 6,
   "metadata": {},
   "outputs": [
    {
     "name": "stdout",
     "output_type": "stream",
     "text": [
      "202209\n"
     ]
    }
   ],
   "source": [
    "# 문자열로 변경 및 하이픈(-) 제거\n",
    "year_month = str(year_month)\n",
    "result = year_month.replace('-','')\n",
    "print(result)"
   ]
  },
  {
   "cell_type": "code",
   "execution_count": null,
   "metadata": {},
   "outputs": [],
   "source": []
  }
 ],
 "metadata": {
  "kernelspec": {
   "display_name": "base",
   "language": "python",
   "name": "python3"
  },
  "language_info": {
   "codemirror_mode": {
    "name": "ipython",
    "version": 3
   },
   "file_extension": ".py",
   "mimetype": "text/x-python",
   "name": "python",
   "nbconvert_exporter": "python",
   "pygments_lexer": "ipython3",
   "version": "3.12.4"
  }
 },
 "nbformat": 4,
 "nbformat_minor": 2
}
