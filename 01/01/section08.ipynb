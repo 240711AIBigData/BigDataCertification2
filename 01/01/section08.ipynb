{
 "cells": [
  {
   "cell_type": "markdown",
   "metadata": {},
   "source": [
    "## section08 조건문\n",
    "\n",
    "### 01. 조건문(참)"
   ]
  },
  {
   "cell_type": "code",
   "execution_count": 1,
   "metadata": {},
   "outputs": [
    {
     "name": "stdout",
     "output_type": "stream",
     "text": [
      "실행\n"
     ]
    }
   ],
   "source": [
    "if True:\n",
    "    print('실행')"
   ]
  },
  {
   "cell_type": "code",
   "execution_count": 2,
   "metadata": {},
   "outputs": [],
   "source": [
    "if False:\n",
    "    print('무시')"
   ]
  },
  {
   "cell_type": "markdown",
   "metadata": {},
   "source": [
    "### 02. 비교 연산자"
   ]
  },
  {
   "cell_type": "code",
   "execution_count": 3,
   "metadata": {},
   "outputs": [
    {
     "name": "stdout",
     "output_type": "stream",
     "text": [
      "10보다 크거나 같다\n"
     ]
    }
   ],
   "source": [
    "score = 10\n",
    "if score >= 10 :\n",
    "    print('10보다 크거나 같다')"
   ]
  },
  {
   "cell_type": "code",
   "execution_count": 4,
   "metadata": {},
   "outputs": [
    {
     "name": "stdout",
     "output_type": "stream",
     "text": [
      "9 보다 크다\n"
     ]
    }
   ],
   "source": [
    "if score > 9 :\n",
    "    print('9 보다 크다')"
   ]
  },
  {
   "cell_type": "code",
   "execution_count": 5,
   "metadata": {},
   "outputs": [
    {
     "name": "stdout",
     "output_type": "stream",
     "text": [
      "10 보다 작거나 같다\n"
     ]
    }
   ],
   "source": [
    "if score <= 10 :\n",
    "    print('10 보다 작거나 같다')"
   ]
  },
  {
   "cell_type": "code",
   "execution_count": 6,
   "metadata": {},
   "outputs": [
    {
     "name": "stdout",
     "output_type": "stream",
     "text": [
      "11 보다 작다\n"
     ]
    }
   ],
   "source": [
    "if score < 11 :\n",
    "    print('11 보다 작다')"
   ]
  },
  {
   "cell_type": "code",
   "execution_count": 8,
   "metadata": {},
   "outputs": [
    {
     "name": "stdout",
     "output_type": "stream",
     "text": [
      "score는 10이다\n"
     ]
    }
   ],
   "source": [
    "if score == 10 :\n",
    "    print('score는 10이다')"
   ]
  },
  {
   "cell_type": "code",
   "execution_count": 9,
   "metadata": {},
   "outputs": [
    {
     "name": "stdout",
     "output_type": "stream",
     "text": [
      "score는 11과 같지 않다\n"
     ]
    }
   ],
   "source": [
    "if score != 11 :\n",
    "    print('score는 11과 같지 않다')"
   ]
  },
  {
   "cell_type": "markdown",
   "metadata": {},
   "source": [
    "### 03. 논리 연산자"
   ]
  },
  {
   "cell_type": "code",
   "execution_count": 10,
   "metadata": {},
   "outputs": [
    {
     "name": "stdout",
     "output_type": "stream",
     "text": [
      "True and False :  False\n",
      "True and True :  True\n",
      "True or False :  True\n",
      "True or True :  True\n"
     ]
    }
   ],
   "source": [
    "print('True and False : ', True and False)\n",
    "print('True and True : ', True and True)\n",
    "print('True or False : ', True or False)\n",
    "print('True or True : ', True or True)"
   ]
  },
  {
   "cell_type": "markdown",
   "metadata": {},
   "source": [
    "### 04. else"
   ]
  },
  {
   "cell_type": "code",
   "execution_count": 11,
   "metadata": {},
   "outputs": [
    {
     "name": "stdout",
     "output_type": "stream",
     "text": [
      "score는 5 미만, 10 이상입니다\n"
     ]
    }
   ],
   "source": [
    "if score < 10 and score >= 5 :\n",
    "    print('score는 5 이상, 10 미만입니다')\n",
    "else :\n",
    "    print('score는 5 미만, 10 이상입니다')"
   ]
  },
  {
   "cell_type": "markdown",
   "metadata": {},
   "source": [
    "### 05. elif"
   ]
  },
  {
   "cell_type": "code",
   "execution_count": 12,
   "metadata": {},
   "outputs": [
    {
     "name": "stdout",
     "output_type": "stream",
     "text": [
      "B\n"
     ]
    }
   ],
   "source": [
    "score = 7\n",
    "\n",
    "if score >= 10 :\n",
    "    print('A')\n",
    "elif score < 10 and score >= 5 :\n",
    "    print('B')\n",
    "else :\n",
    "    print('C')"
   ]
  },
  {
   "cell_type": "markdown",
   "metadata": {},
   "source": [
    "### 06. 조건문의 구성"
   ]
  },
  {
   "cell_type": "code",
   "execution_count": 13,
   "metadata": {},
   "outputs": [
    {
     "name": "stdout",
     "output_type": "stream",
     "text": [
      "score는 2 이하입니다\n"
     ]
    }
   ],
   "source": [
    "score = 2\n",
    "\n",
    "if score >= 10 :\n",
    "    print('score는 10 이상입니다')\n",
    "elif score < 10 and score >= 5 :\n",
    "    print('score는 5 이상 10 미만입니다')\n",
    "elif score < 4 and score >= 3 :\n",
    "    print('score는 3 이상 4 미만입니다')\n",
    "else :\n",
    "    print('score는 2 이하입니다')"
   ]
  }
 ],
 "metadata": {
  "kernelspec": {
   "display_name": "base",
   "language": "python",
   "name": "python3"
  },
  "language_info": {
   "codemirror_mode": {
    "name": "ipython",
    "version": 3
   },
   "file_extension": ".py",
   "mimetype": "text/x-python",
   "name": "python",
   "nbconvert_exporter": "python",
   "pygments_lexer": "ipython3",
   "version": "3.12.4"
  }
 },
 "nbformat": 4,
 "nbformat_minor": 2
}
