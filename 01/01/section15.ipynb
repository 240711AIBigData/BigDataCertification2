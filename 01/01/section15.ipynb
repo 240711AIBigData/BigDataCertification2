{
 "cells": [
  {
   "cell_type": "markdown",
   "metadata": {},
   "source": [
    "## section15 함수\n",
    "\n",
    "### 01. 일반 함수"
   ]
  },
  {
   "cell_type": "code",
   "execution_count": 1,
   "metadata": {},
   "outputs": [
    {
     "name": "stdout",
     "output_type": "stream",
     "text": [
      "안녕하세요!\n",
      "안녕하세요!\n",
      "안녕하세요!\n"
     ]
    }
   ],
   "source": [
    "def hello() :   # 함수 정의\n",
    "    print('안녕하세요!')\n",
    "    \n",
    "hello()         # 함수 호출\n",
    "hello()         # 함수 호출\n",
    "hello()         # 함수 호출"
   ]
  },
  {
   "cell_type": "markdown",
   "metadata": {},
   "source": [
    "### 02. 매개변수가 있는 함수"
   ]
  },
  {
   "cell_type": "code",
   "execution_count": 4,
   "metadata": {},
   "outputs": [
    {
     "name": "stdout",
     "output_type": "stream",
     "text": [
      "hello 빅분기\n"
     ]
    }
   ],
   "source": [
    "def hello(name) :\n",
    "    print('hello ' + name)\n",
    "    \n",
    "hello('빅분기')"
   ]
  },
  {
   "cell_type": "code",
   "execution_count": 5,
   "metadata": {},
   "outputs": [
    {
     "ename": "NameError",
     "evalue": "name 'name' is not defined",
     "output_type": "error",
     "traceback": [
      "\u001b[1;31m---------------------------------------------------------------------------\u001b[0m",
      "\u001b[1;31mNameError\u001b[0m                                 Traceback (most recent call last)",
      "Cell \u001b[1;32mIn[5], line 3\u001b[0m\n\u001b[0;32m      1\u001b[0m \u001b[38;5;28;01mdef\u001b[39;00m \u001b[38;5;21mhello\u001b[39m(name) :\n\u001b[0;32m      2\u001b[0m     \u001b[38;5;28mprint\u001b[39m(name)\n\u001b[1;32m----> 3\u001b[0m \u001b[38;5;28mprint\u001b[39m(name)\n\u001b[0;32m      5\u001b[0m hello(\u001b[38;5;124m'\u001b[39m\u001b[38;5;124m빅분기\u001b[39m\u001b[38;5;124m'\u001b[39m)\n",
      "\u001b[1;31mNameError\u001b[0m: name 'name' is not defined"
     ]
    }
   ],
   "source": [
    "def hello(name) :\n",
    "    print(name)\n",
    "print(name)\n",
    "\n",
    "hello('빅분기')"
   ]
  },
  {
   "cell_type": "code",
   "execution_count": 6,
   "metadata": {},
   "outputs": [
    {
     "name": "stdout",
     "output_type": "stream",
     "text": [
      "5\n"
     ]
    }
   ],
   "source": [
    "def plus(x, y) :\n",
    "    print(x + y)\n",
    "    \n",
    "# 함수 호출\n",
    "a = 2\n",
    "b = 3\n",
    "plus(a, b)"
   ]
  },
  {
   "cell_type": "markdown",
   "metadata": {},
   "source": [
    "### 03. 반환 값이 있는 함수"
   ]
  },
  {
   "cell_type": "code",
   "execution_count": 7,
   "metadata": {},
   "outputs": [
    {
     "name": "stdout",
     "output_type": "stream",
     "text": [
      "5\n"
     ]
    }
   ],
   "source": [
    "def plus(x, y) :\n",
    "    result = x + y\n",
    "    return result\n",
    "\n",
    "a = plus(2, 3)\n",
    "print(a)"
   ]
  },
  {
   "cell_type": "code",
   "execution_count": 8,
   "metadata": {},
   "outputs": [
    {
     "name": "stdout",
     "output_type": "stream",
     "text": [
      "15 78\n"
     ]
    }
   ],
   "source": [
    "listbox = [15, 46, 78, 24, 56]\n",
    "def min_max(data) :\n",
    "    mi = min(data)\n",
    "    ma = max(data)\n",
    "    return mi, ma\n",
    "\n",
    "a, b = min_max(listbox)\n",
    "print(a, b)"
   ]
  },
  {
   "cell_type": "code",
   "execution_count": 9,
   "metadata": {},
   "outputs": [
    {
     "data": {
      "text/plain": [
       "43.8"
      ]
     },
     "execution_count": 9,
     "metadata": {},
     "output_type": "execute_result"
    }
   ],
   "source": [
    "listbox = [15, 46, 78, 24, 56]\n",
    "def mean(data) :\n",
    "    return sum(data) / len(data)\n",
    "\n",
    "mean(listbox)"
   ]
  }
 ],
 "metadata": {
  "kernelspec": {
   "display_name": "base",
   "language": "python",
   "name": "python3"
  },
  "language_info": {
   "codemirror_mode": {
    "name": "ipython",
    "version": 3
   },
   "file_extension": ".py",
   "mimetype": "text/x-python",
   "name": "python",
   "nbconvert_exporter": "python",
   "pygments_lexer": "ipython3",
   "version": "3.12.4"
  }
 },
 "nbformat": 4,
 "nbformat_minor": 2
}
