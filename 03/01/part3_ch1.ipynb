{
 "cells": [
  {
   "cell_type": "markdown",
   "metadata": {},
   "source": [
    "## SECTION02"
   ]
  },
  {
   "cell_type": "code",
   "execution_count": 29,
   "metadata": {},
   "outputs": [],
   "source": [
    "import pandas as pd\n",
    "df = pd.DataFrame({\n",
    "    'weights' : [122, 121, 120, 119, 125, 115, 121, 118, 117, 127,\n",
    "                 123, 129, 119, 124, 114, 126, 122, 124, 121, 116,\n",
    "                 120, 123, 127, 118, 122, 117, 124, 125, 123, 121]\n",
    "})"
   ]
  },
  {
   "cell_type": "code",
   "execution_count": 30,
   "metadata": {},
   "outputs": [
    {
     "name": "stdout",
     "output_type": "stream",
     "text": [
      "t-statistic : 2.1155384372682344\n",
      "p-value : 0.043092957066609296\n"
     ]
    }
   ],
   "source": [
    "from scipy import stats\n",
    "t_statistic, p_value = stats.ttest_1samp(df['weights'], 120)\n",
    "print('t-statistic :', t_statistic)\n",
    "print('p-value :', p_value)"
   ]
  },
  {
   "cell_type": "code",
   "execution_count": 31,
   "metadata": {},
   "outputs": [
    {
     "data": {
      "text/plain": [
       "TtestResult(statistic=2.1155384372682344, pvalue=0.043092957066609296, df=29)"
      ]
     },
     "execution_count": 31,
     "metadata": {},
     "output_type": "execute_result"
    }
   ],
   "source": [
    "stats.ttest_1samp(df['weights'], 120)"
   ]
  },
  {
   "cell_type": "code",
   "execution_count": 32,
   "metadata": {},
   "outputs": [
    {
     "name": "stdout",
     "output_type": "stream",
     "text": [
      "1.13.1\n"
     ]
    }
   ],
   "source": [
    "import scipy\n",
    "print(scipy.__version__)"
   ]
  },
  {
   "cell_type": "code",
   "execution_count": 34,
   "metadata": {},
   "outputs": [
    {
     "name": "stdout",
     "output_type": "stream",
     "text": [
      "TtestResult(statistic=2.1155384372682344, pvalue=0.043092957066609296, df=29)\n"
     ]
    }
   ],
   "source": [
    "print(stats.ttest_1samp(df['weights'], 120, alternative='two-sided'))"
   ]
  },
  {
   "cell_type": "code",
   "execution_count": 36,
   "metadata": {},
   "outputs": [
    {
     "name": "stdout",
     "output_type": "stream",
     "text": [
      "TtestResult(statistic=2.1155384372682344, pvalue=0.021546478533304648, df=29)\n"
     ]
    }
   ],
   "source": [
    "print(stats.ttest_1samp(df['weights'], 120, alternative='greater'))"
   ]
  },
  {
   "cell_type": "code",
   "execution_count": 37,
   "metadata": {},
   "outputs": [
    {
     "name": "stdout",
     "output_type": "stream",
     "text": [
      "TtestResult(statistic=2.1155384372682344, pvalue=0.9784535214666953, df=29)\n"
     ]
    }
   ],
   "source": [
    "print(stats.ttest_1samp(df['weights'], 120, alternative='less'))"
   ]
  },
  {
   "cell_type": "code",
   "execution_count": 38,
   "metadata": {},
   "outputs": [],
   "source": [
    "import pandas as pd\n",
    "df = pd.DataFrame({\n",
    "    'weights' : [125, 126, 118, 124, 117, 127, 123, 122, 119, 142]\n",
    "})"
   ]
  },
  {
   "cell_type": "code",
   "execution_count": 39,
   "metadata": {},
   "outputs": [
    {
     "data": {
      "text/plain": [
       "ShapiroResult(statistic=0.8164570347000635, pvalue=0.022960129822451016)"
      ]
     },
     "execution_count": 39,
     "metadata": {},
     "output_type": "execute_result"
    }
   ],
   "source": [
    "from scipy import stats\n",
    "stats.shapiro(df['weights'])"
   ]
  },
  {
   "cell_type": "code",
   "execution_count": 40,
   "metadata": {},
   "outputs": [
    {
     "data": {
      "text/plain": [
       "WilcoxonResult(statistic=47.0, pvalue=0.9814453125)"
      ]
     },
     "execution_count": 40,
     "metadata": {},
     "output_type": "execute_result"
    }
   ],
   "source": [
    "stats.wilcoxon(df['weights'] - 120, alternative='less')"
   ]
  },
  {
   "cell_type": "code",
   "execution_count": 41,
   "metadata": {},
   "outputs": [],
   "source": [
    "import pandas as pd\n",
    "df = pd.DataFrame({\n",
    "    'before' : [85, 90, 92, 88, 86, 89, 83, 87],\n",
    "    'after' : [85.5, 89.9, 92.6, 89.5, 85.8, 88.8, 84.6, 87.8]\n",
    "})"
   ]
  },
  {
   "cell_type": "code",
   "execution_count": 42,
   "metadata": {},
   "outputs": [
    {
     "name": "stdout",
     "output_type": "stream",
     "text": [
      "TtestResult(statistic=-2.2127749675452324, pvalue=0.03127028733756238, df=7)\n"
     ]
    }
   ],
   "source": [
    "from scipy import stats\n",
    "print(stats.ttest_rel(df['before'], df['after'], alternative='less'))"
   ]
  },
  {
   "cell_type": "code",
   "execution_count": 43,
   "metadata": {},
   "outputs": [
    {
     "name": "stdout",
     "output_type": "stream",
     "text": [
      "TtestResult(statistic=2.2127749675452324, pvalue=0.03127028733756238, df=7)\n"
     ]
    }
   ],
   "source": [
    "print(stats.ttest_rel(df['after'], df['before'], alternative='greater'))"
   ]
  },
  {
   "cell_type": "code",
   "execution_count": null,
   "metadata": {},
   "outputs": [
    {
     "name": "stdout",
     "output_type": "stream",
     "text": [
      "TtestResult(statistic=2.2127749675452324, pvalue=0.06254057467512476, df=7)\n"
     ]
    }
   ],
   "source": [
    "# print(stats.ttest_rel(df['after'], df['before'], alternative='two-sided'))\n",
    "print(stats.ttest_rel(df['after'], df['before']))"
   ]
  },
  {
   "cell_type": "code",
   "execution_count": 46,
   "metadata": {},
   "outputs": [],
   "source": [
    "# 정규성을 만족하지 못하는 데이터 생성\n",
    "import pandas as pd\n",
    "df = pd.DataFrame({\n",
    "    'before' : [85, 90, 92, 88, 86, 89, 83, 87],\n",
    "    'after' : [86, 92, 94, 89, 84, 90, 84, 88]\n",
    "})"
   ]
  },
  {
   "cell_type": "code",
   "execution_count": 47,
   "metadata": {},
   "outputs": [
    {
     "data": {
      "text/plain": [
       "ShapiroResult(statistic=0.6886147375920879, pvalue=0.0016734051223900109)"
      ]
     },
     "execution_count": 47,
     "metadata": {},
     "output_type": "execute_result"
    }
   ],
   "source": [
    "from scipy import stats\n",
    "df['diff'] = df['after'] - df['before']\n",
    "stats.shapiro(df['diff'])"
   ]
  },
  {
   "cell_type": "code",
   "execution_count": 48,
   "metadata": {},
   "outputs": [
    {
     "data": {
      "text/plain": [
       "WilcoxonResult(statistic=29.0, pvalue=0.07421875)"
      ]
     },
     "execution_count": 48,
     "metadata": {},
     "output_type": "execute_result"
    }
   ],
   "source": [
    "stats.wilcoxon(df['after'], df['before'], alternative='greater')"
   ]
  },
  {
   "cell_type": "code",
   "execution_count": 49,
   "metadata": {},
   "outputs": [
    {
     "data": {
      "text/plain": [
       "WilcoxonResult(statistic=29.0, pvalue=0.07421875)"
      ]
     },
     "execution_count": 49,
     "metadata": {},
     "output_type": "execute_result"
    }
   ],
   "source": [
    "stats.wilcoxon(df['diff'], alternative='greater')"
   ]
  },
  {
   "cell_type": "code",
   "execution_count": 1,
   "metadata": {},
   "outputs": [],
   "source": [
    "# 독립 표본 검정의 경우 표본 데이터 길이가 다를 수 있음\n",
    "import pandas as pd\n",
    "class1 = [85, 90, 92, 88, 86, 89, 83, 87]\n",
    "class2 = [80, 82, 88, 85, 84]"
   ]
  },
  {
   "cell_type": "code",
   "execution_count": 4,
   "metadata": {},
   "outputs": [
    {
     "data": {
      "text/plain": [
       "TtestResult(statistic=2.2108140580092237, pvalue=0.04914857789252186, df=11.0)"
      ]
     },
     "execution_count": 4,
     "metadata": {},
     "output_type": "execute_result"
    }
   ],
   "source": [
    "from scipy.stats import ttest_ind\n",
    "ttest_ind(class1, class2)"
   ]
  },
  {
   "cell_type": "code",
   "execution_count": 5,
   "metadata": {},
   "outputs": [
    {
     "name": "stdout",
     "output_type": "stream",
     "text": [
      "TtestResult(statistic=2.1818699281825236, pvalue=0.059589330071355334, df=8.272682358753572)\n"
     ]
    }
   ],
   "source": [
    "print(stats.ttest_ind(class1, class2, equal_var=False))"
   ]
  },
  {
   "cell_type": "code",
   "execution_count": 6,
   "metadata": {},
   "outputs": [
    {
     "name": "stdout",
     "output_type": "stream",
     "text": [
      "TtestResult(statistic=2.2108140580092237, pvalue=0.9754257110537391, df=11.0)\n"
     ]
    }
   ],
   "source": [
    "print(stats.ttest_ind(class1, class2, alternative='less', equal_var=True))"
   ]
  },
  {
   "cell_type": "code",
   "execution_count": 7,
   "metadata": {},
   "outputs": [
    {
     "name": "stdout",
     "output_type": "stream",
     "text": [
      "TtestResult(statistic=2.2108140580092237, pvalue=0.02457428894626093, df=11.0)\n"
     ]
    }
   ],
   "source": [
    "print(stats.ttest_ind(class1, class2, alternative='greater', equal_var=True))"
   ]
  },
  {
   "cell_type": "code",
   "execution_count": 8,
   "metadata": {},
   "outputs": [
    {
     "name": "stdout",
     "output_type": "stream",
     "text": [
      "ShapiroResult(statistic=0.9981893537736595, pvalue=0.999986994137081)\n",
      "ShapiroResult(statistic=0.9917398436295009, pvalue=0.9854182266624983)\n"
     ]
    }
   ],
   "source": [
    "import pandas as pd\n",
    "class1 = [85, 90, 92, 88, 86, 89, 83, 87]\n",
    "class2 = [80, 82, 88, 85, 84]\n",
    "\n",
    "from scipy import stats\n",
    "print(stats.shapiro(class1))\n",
    "print(stats.shapiro(class2))"
   ]
  },
  {
   "cell_type": "code",
   "execution_count": 9,
   "metadata": {},
   "outputs": [
    {
     "name": "stdout",
     "output_type": "stream",
     "text": [
      "LeveneResult(statistic=0.0027925869510027727, pvalue=0.958802951766629)\n"
     ]
    }
   ],
   "source": [
    "print(stats.levene(class1, class2))"
   ]
  },
  {
   "cell_type": "code",
   "execution_count": 10,
   "metadata": {},
   "outputs": [
    {
     "name": "stdout",
     "output_type": "stream",
     "text": [
      "TtestResult(statistic=2.2108140580092237, pvalue=0.9754257110537391, df=11.0)\n"
     ]
    }
   ],
   "source": [
    "print(stats.ttest_ind(class1, class2, alternative='less', equal_var=True))"
   ]
  },
  {
   "cell_type": "code",
   "execution_count": 11,
   "metadata": {},
   "outputs": [
    {
     "name": "stdout",
     "output_type": "stream",
     "text": [
      "ShapiroResult(statistic=0.9981893537736595, pvalue=0.999986994137081)\n",
      "ShapiroResult(statistic=0.6689955781406137, pvalue=0.004410368331716993)\n"
     ]
    }
   ],
   "source": [
    "# 정규성에 위배되는 데이터 생성\n",
    "import pandas as pd\n",
    "class1 = [85, 90, 92, 88, 86, 89, 83, 87]\n",
    "class2 = [88, 82, 88, 85, 130]\n",
    "\n",
    "from scipy import stats\n",
    "print(stats.shapiro(class1))\n",
    "print(stats.shapiro(class2))"
   ]
  },
  {
   "cell_type": "code",
   "execution_count": 12,
   "metadata": {},
   "outputs": [
    {
     "name": "stdout",
     "output_type": "stream",
     "text": [
      "MannwhitneyuResult(statistic=21.5, pvalue=0.6159273392555747)\n"
     ]
    }
   ],
   "source": [
    "print(stats.mannwhitneyu(class1, class2, alternative='less'))"
   ]
  },
  {
   "cell_type": "code",
   "execution_count": null,
   "metadata": {},
   "outputs": [],
   "source": []
  }
 ],
 "metadata": {
  "kernelspec": {
   "display_name": "base",
   "language": "python",
   "name": "python3"
  },
  "language_info": {
   "codemirror_mode": {
    "name": "ipython",
    "version": 3
   },
   "file_extension": ".py",
   "mimetype": "text/x-python",
   "name": "python",
   "nbconvert_exporter": "python",
   "pygments_lexer": "ipython3",
   "version": "3.12.4"
  }
 },
 "nbformat": 4,
 "nbformat_minor": 2
}
