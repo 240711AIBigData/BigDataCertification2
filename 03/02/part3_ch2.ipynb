{
 "cells": [
  {
   "cell_type": "markdown",
   "metadata": {},
   "source": [
    "# SECION01"
   ]
  },
  {
   "cell_type": "code",
   "execution_count": 1,
   "metadata": {},
   "outputs": [
    {
     "name": "stdout",
     "output_type": "stream",
     "text": [
      "      A     B     C    D\n",
      "0  10.5  11.9  11.2  9.8\n",
      "1  11.3  12.4  11.7  9.4\n"
     ]
    }
   ],
   "source": [
    "import pandas as pd\n",
    "df = pd.DataFrame({\n",
    "    'A' : [10.5, 11.3, 10.8, 9.6, 11.1, 10.2, 10.9, 11.4, 10.5, 10.3],\n",
    "    'B' : [11.9, 12.4, 12.1, 13.2, 12.5, 11.8, 12.2, 12.9, 12.4, 12.3],\n",
    "    'C' : [11.2, 11.7, 11.6, 10.9, 11.3, 11.1, 10.8, 11.5, 11.4, 11.0],\n",
    "    'D' : [9.8, 9.4, 9.1, 9.5, 9.6, 9.9, 9.2, 9.7, 9.3, 9.4]\n",
    "})\n",
    "print(df.head(2))"
   ]
  },
  {
   "cell_type": "code",
   "execution_count": 2,
   "metadata": {},
   "outputs": [
    {
     "name": "stdout",
     "output_type": "stream",
     "text": [
      "==== 정규성 검정 ====\n",
      "ShapiroResult(statistic=0.9649054066073813, pvalue=0.8400161543468654)\n",
      "ShapiroResult(statistic=0.9468040874196029, pvalue=0.6308700692815115)\n",
      "ShapiroResult(statistic=0.9701646110856055, pvalue=0.892367306190296)\n",
      "ShapiroResult(statistic=0.9752339025839644, pvalue=0.9346854448707653)\n",
      "\n",
      "==== 등분산성 검정 ====\n",
      "LeveneResult(statistic=1.9355354288758708, pvalue=0.14127835331346628)\n",
      "\n",
      "==== 일원 분산 분석 ====\n",
      "F_onewayResult(statistic=89.12613851177174, pvalue=1.001838152252373e-16)\n"
     ]
    }
   ],
   "source": [
    "from scipy import stats\n",
    "\n",
    "print('==== 정규성 검정 ====')\n",
    "print(stats.shapiro(df['A']))\n",
    "print(stats.shapiro(df['B']))\n",
    "print(stats.shapiro(df['C']))\n",
    "print(stats.shapiro(df['D']))\n",
    "\n",
    "print('\\n==== 등분산성 검정 ====')\n",
    "print(stats.levene(df['A'], df['B'], df['C'], df['D']))\n",
    "\n",
    "print('\\n==== 일원 분산 분석 ====')\n",
    "print(stats.f_oneway(df['A'], df['B'], df['C'], df['D']))"
   ]
  },
  {
   "cell_type": "code",
   "execution_count": 3,
   "metadata": {},
   "outputs": [
    {
     "data": {
      "text/html": [
       "<div>\n",
       "<style scoped>\n",
       "    .dataframe tbody tr th:only-of-type {\n",
       "        vertical-align: middle;\n",
       "    }\n",
       "\n",
       "    .dataframe tbody tr th {\n",
       "        vertical-align: top;\n",
       "    }\n",
       "\n",
       "    .dataframe thead th {\n",
       "        text-align: right;\n",
       "    }\n",
       "</style>\n",
       "<table border=\"1\" class=\"dataframe\">\n",
       "  <thead>\n",
       "    <tr style=\"text-align: right;\">\n",
       "      <th></th>\n",
       "      <th>비료</th>\n",
       "      <th>성장</th>\n",
       "    </tr>\n",
       "  </thead>\n",
       "  <tbody>\n",
       "    <tr>\n",
       "      <th>0</th>\n",
       "      <td>A</td>\n",
       "      <td>10.5</td>\n",
       "    </tr>\n",
       "    <tr>\n",
       "      <th>1</th>\n",
       "      <td>A</td>\n",
       "      <td>11.3</td>\n",
       "    </tr>\n",
       "    <tr>\n",
       "      <th>2</th>\n",
       "      <td>A</td>\n",
       "      <td>10.8</td>\n",
       "    </tr>\n",
       "    <tr>\n",
       "      <th>3</th>\n",
       "      <td>A</td>\n",
       "      <td>9.6</td>\n",
       "    </tr>\n",
       "    <tr>\n",
       "      <th>4</th>\n",
       "      <td>A</td>\n",
       "      <td>11.1</td>\n",
       "    </tr>\n",
       "  </tbody>\n",
       "</table>\n",
       "</div>"
      ],
      "text/plain": [
       "  비료    성장\n",
       "0  A  10.5\n",
       "1  A  11.3\n",
       "2  A  10.8\n",
       "3  A   9.6\n",
       "4  A  11.1"
      ]
     },
     "execution_count": 3,
     "metadata": {},
     "output_type": "execute_result"
    }
   ],
   "source": [
    "import pandas as pd\n",
    "df = pd.read_csv('./data/fertilizer.csv')\n",
    "df.head()"
   ]
  },
  {
   "cell_type": "code",
   "execution_count": 4,
   "metadata": {},
   "outputs": [
    {
     "name": "stdout",
     "output_type": "stream",
     "text": [
      "            df    sum_sq    mean_sq          F        PR(>F)\n",
      "C(비료)      3.0  43.21875  14.406250  89.126139  1.001838e-16\n",
      "Residual  36.0   5.81900   0.161639        NaN           NaN\n"
     ]
    }
   ],
   "source": [
    "from statsmodels.formula.api import ols\n",
    "from statsmodels.stats.anova import anova_lm\n",
    "model = ols('성장 ~ C(비료)', df).fit()\n",
    "print(anova_lm(model))"
   ]
  },
  {
   "cell_type": "markdown",
   "metadata": {},
   "source": [
    "### SECTION02"
   ]
  },
  {
   "cell_type": "code",
   "execution_count": 5,
   "metadata": {},
   "outputs": [
    {
     "name": "stdout",
     "output_type": "stream",
     "text": [
      "    나무  비료        성장률\n",
      "36   B   1  57.088636\n",
      "68   C   1  63.616360\n",
      "52   B   3  54.230780\n",
      "59   B   3  70.755451\n",
      "90   D   1  65.970775\n",
      "108  D   2  70.575504\n",
      "116  D   3  70.652882\n",
      "94   D   1  61.078918\n",
      "115  D   3  74.015473\n",
      "60   C   1  55.208258\n"
     ]
    }
   ],
   "source": [
    "import pandas as pd\n",
    "df = pd.read_csv('./data/tree.csv')\n",
    "print(df.sample(10))"
   ]
  },
  {
   "cell_type": "code",
   "execution_count": 7,
   "metadata": {},
   "outputs": [
    {
     "name": "stdout",
     "output_type": "stream",
     "text": [
      "             df       sum_sq      mean_sq          F        PR(>F)\n",
      "나무          3.0  4783.353938  1594.451313  18.391274  9.016693e-10\n",
      "비료          1.0   873.322002   873.322002  10.073374  1.942421e-03\n",
      "나무:비료       3.0   394.801585   131.600528   1.517952  2.137666e-01\n",
      "Residual  112.0  9709.960792    86.696078        NaN           NaN\n"
     ]
    }
   ],
   "source": [
    "# 주어진 선형 모델에 대한 ANOVA 테이블 생성\n",
    "import statsmodels.api as sm\n",
    "from statsmodels.formula.api import ols\n",
    "\n",
    "model = ols('성장률 ~ 나무 + 비료 + 나무:비료', data=df).fit()\n",
    "anova_table = sm.stats.anova_lm(model)\n",
    "print(anova_table)"
   ]
  },
  {
   "cell_type": "code",
   "execution_count": 8,
   "metadata": {},
   "outputs": [
    {
     "name": "stdout",
     "output_type": "stream",
     "text": [
      "                df       sum_sq      mean_sq          F        PR(>F)\n",
      "C(나무)          3.0  4783.353938  1594.451313  18.855528  6.600012e-10\n",
      "C(비료)          2.0  1127.924259   563.962129   6.669256  1.857612e-03\n",
      "C(나무):C(비료)    6.0   717.520672   119.586779   1.414199  2.157357e-01\n",
      "Residual     108.0  9132.639448    84.561476        NaN           NaN\n"
     ]
    }
   ],
   "source": [
    "import statsmodels.api as sm\n",
    "from statsmodels.formula.api import ols\n",
    "\n",
    "model = ols('성장률 ~ C(나무) + C(비료) + C(나무):C(비료)', data=df).fit()\n",
    "anova_table = sm.stats.anova_lm(model)\n",
    "print(anova_table)"
   ]
  },
  {
   "cell_type": "code",
   "execution_count": 9,
   "metadata": {},
   "outputs": [
    {
     "name": "stdout",
     "output_type": "stream",
     "text": [
      "0.00000000066\n",
      "0.00185761200\n",
      "0.21573570000\n"
     ]
    }
   ],
   "source": [
    "print(format(6.600012e-10, '.11f'))\n",
    "print(format(1.857612e-03, '.11f'))\n",
    "print(format(2.157357e-01, '.11f'))"
   ]
  },
  {
   "cell_type": "code",
   "execution_count": 13,
   "metadata": {},
   "outputs": [
    {
     "name": "stdout",
     "output_type": "stream",
     "text": [
      "                df       sum_sq      mean_sq          F        PR(>F)\n",
      "C(나무)          3.0  4783.353938  1594.451313  18.855528  6.600012e-10\n",
      "C(비료)          2.0  1127.924259   563.962129   6.669256  1.857612e-03\n",
      "C(나무):C(비료)    6.0   717.520672   119.586779   1.414199  2.157357e-01\n",
      "Residual     108.0  9132.639448    84.561476        NaN           NaN\n"
     ]
    }
   ],
   "source": [
    "model = ols('성장률 ~ C(나무) * C(비료)', data=df).fit()\n",
    "anova_table = sm.stats.anova_lm(model)\n",
    "print(anova_table)"
   ]
  },
  {
   "cell_type": "code",
   "execution_count": null,
   "metadata": {},
   "outputs": [],
   "source": []
  }
 ],
 "metadata": {
  "kernelspec": {
   "display_name": "base",
   "language": "python",
   "name": "python3"
  },
  "language_info": {
   "codemirror_mode": {
    "name": "ipython",
    "version": 3
   },
   "file_extension": ".py",
   "mimetype": "text/x-python",
   "name": "python",
   "nbconvert_exporter": "python",
   "pygments_lexer": "ipython3",
   "version": "3.12.4"
  }
 },
 "nbformat": 4,
 "nbformat_minor": 2
}
