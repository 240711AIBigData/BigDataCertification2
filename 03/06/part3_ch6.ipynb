{
 "cells": [
  {
   "cell_type": "markdown",
   "metadata": {},
   "source": [
    "## SECTION01"
   ]
  },
  {
   "cell_type": "code",
   "execution_count": 1,
   "metadata": {},
   "outputs": [],
   "source": [
    "# 데이터\n",
    "import pandas as pd\n",
    "df = pd.DataFrame({\n",
    "    'Caffeine(mg)' : [\n",
    "        94.2, 93.7, 95.5, 93.9, 94.0, 95.2, 94.7, 93.5, 92.8, 94.4,\n",
    "        93.8, 94.6, 93.3, 95.1, 94.3, 94.9, 93.9, 94.8, 95.0, 94.2,\n",
    "        93.7, 94.4, 95.1, 94.0, 93.6\n",
    "    ]\n",
    "})"
   ]
  },
  {
   "cell_type": "code",
   "execution_count": 6,
   "metadata": {},
   "outputs": [
    {
     "name": "stdout",
     "output_type": "stream",
     "text": [
      "Caffeine(mg)    94.264\n",
      "dtype: float64\n",
      "ShapiroResult(statistic=0.9826578166170536, pvalue=0.9322031137746971)\n",
      "TtestResult(statistic=-5.501737036221897, pvalue=5.8686553916715e-06, df=24)\n",
      " \n",
      "0.0000058687\n"
     ]
    }
   ],
   "source": [
    "# 1. 표본 평균\n",
    "print(df.mean())\n",
    "\n",
    "# 2. 정규성 검정\n",
    "from scipy import stats\n",
    "print(stats.shapiro(df['Caffeine(mg)']))\n",
    "\n",
    "# 3~5. 단일 표본 t-검정\n",
    "print(stats.ttest_1samp(df['Caffeine(mg)'], 95, alternative='less'))\n",
    "\n",
    "print(' ')\n",
    "\n",
    "statistic, pvalue = stats.ttest_1samp(df['Caffeine(mg)'], 95, alternative='less')\n",
    "print('{:.10f}'.format(pvalue))"
   ]
  },
  {
   "cell_type": "markdown",
   "metadata": {},
   "source": [
    "## SECTION02"
   ]
  },
  {
   "cell_type": "code",
   "execution_count": 7,
   "metadata": {},
   "outputs": [
    {
     "name": "stdout",
     "output_type": "stream",
     "text": [
      "   충전기  충전시간\n",
      "0  New   1.5\n",
      "1  New   1.6\n"
     ]
    }
   ],
   "source": [
    "# 데이터\n",
    "import pandas as pd\n",
    "df = pd.DataFrame({\n",
    "    '충전기' : ['New'] * 10 + ['Old'] * 10,\n",
    "    '충전시간' : [\n",
    "        1.5, 1.6, 1.4, 1.7, 1.5, 1.6, 1.7, 1.4, 1.6, 1.5,\n",
    "        1.7, 1.8, 1.7, 1.9, 1.8, 1.7, 1.8, 1.9, 1.7, 1.6\n",
    "    ]\n",
    "})\n",
    "print(df.head(2))"
   ]
  },
  {
   "cell_type": "code",
   "execution_count": null,
   "metadata": {},
   "outputs": [
    {
     "name": "stdout",
     "output_type": "stream",
     "text": [
      "0    1.5\n",
      "1    1.6\n",
      "Name: 충전시간, dtype: float64\n",
      "10    1.7\n",
      "11    1.8\n",
      "Name: 충전시간, dtype: float64\n",
      " \n",
      "TtestResult(statistic=-4.582575694955849, pvalue=0.00011546547787696304, df=18.0)\n"
     ]
    }
   ],
   "source": [
    "# 1~3. 독립 표본 t-검정\n",
    "new_cond = df['충전기'] == 'New'\n",
    "old_cond = df['충전기'] == 'Old'\n",
    "print(df[new_cond]['충전시간'].head(2))\n",
    "print(df[old_cond]['충전시간'].head(2))\n",
    "\n",
    "print(' ')\n",
    "\n",
    "from scipy import stats\n",
    "print(stats.ttest_ind(df[new_cond]['충전시간'], df[old_cond]['충전시간'], alternative='less', equal_var=True))"
   ]
  },
  {
   "cell_type": "code",
   "execution_count": null,
   "metadata": {},
   "outputs": [],
   "source": []
  }
 ],
 "metadata": {
  "kernelspec": {
   "display_name": "base",
   "language": "python",
   "name": "python3"
  },
  "language_info": {
   "codemirror_mode": {
    "name": "ipython",
    "version": 3
   },
   "file_extension": ".py",
   "mimetype": "text/x-python",
   "name": "python",
   "nbconvert_exporter": "python",
   "pygments_lexer": "ipython3",
   "version": "3.12.4"
  }
 },
 "nbformat": 4,
 "nbformat_minor": 2
}
