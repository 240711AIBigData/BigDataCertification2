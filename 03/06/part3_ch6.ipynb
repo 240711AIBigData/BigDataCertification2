{
 "cells": [
  {
   "cell_type": "markdown",
   "metadata": {},
   "source": [
    "## SECTION01"
   ]
  },
  {
   "cell_type": "code",
   "execution_count": 1,
   "metadata": {},
   "outputs": [],
   "source": [
    "# 데이터\n",
    "import pandas as pd\n",
    "df = pd.DataFrame({\n",
    "    'Caffeine(mg)' : [\n",
    "        94.2, 93.7, 95.5, 93.9, 94.0, 95.2, 94.7, 93.5, 92.8, 94.4,\n",
    "        93.8, 94.6, 93.3, 95.1, 94.3, 94.9, 93.9, 94.8, 95.0, 94.2,\n",
    "        93.7, 94.4, 95.1, 94.0, 93.6\n",
    "    ]\n",
    "})"
   ]
  },
  {
   "cell_type": "code",
   "execution_count": 6,
   "metadata": {},
   "outputs": [
    {
     "name": "stdout",
     "output_type": "stream",
     "text": [
      "Caffeine(mg)    94.264\n",
      "dtype: float64\n",
      "ShapiroResult(statistic=0.9826578166170536, pvalue=0.9322031137746971)\n",
      "TtestResult(statistic=-5.501737036221897, pvalue=5.8686553916715e-06, df=24)\n",
      " \n",
      "0.0000058687\n"
     ]
    }
   ],
   "source": [
    "# 1. 표본 평균\n",
    "print(df.mean())\n",
    "\n",
    "# 2. 정규성 검정\n",
    "from scipy import stats\n",
    "print(stats.shapiro(df['Caffeine(mg)']))\n",
    "\n",
    "# 3~5. 단일 표본 t-검정\n",
    "print(stats.ttest_1samp(df['Caffeine(mg)'], 95, alternative='less'))\n",
    "\n",
    "print(' ')\n",
    "\n",
    "statistic, pvalue = stats.ttest_1samp(df['Caffeine(mg)'], 95, alternative='less')\n",
    "print('{:.10f}'.format(pvalue))"
   ]
  },
  {
   "cell_type": "markdown",
   "metadata": {},
   "source": [
    "## SECTION02"
   ]
  },
  {
   "cell_type": "code",
   "execution_count": 7,
   "metadata": {},
   "outputs": [
    {
     "name": "stdout",
     "output_type": "stream",
     "text": [
      "   충전기  충전시간\n",
      "0  New   1.5\n",
      "1  New   1.6\n"
     ]
    }
   ],
   "source": [
    "# 데이터\n",
    "import pandas as pd\n",
    "df = pd.DataFrame({\n",
    "    '충전기' : ['New'] * 10 + ['Old'] * 10,\n",
    "    '충전시간' : [\n",
    "        1.5, 1.6, 1.4, 1.7, 1.5, 1.6, 1.7, 1.4, 1.6, 1.5,\n",
    "        1.7, 1.8, 1.7, 1.9, 1.8, 1.7, 1.8, 1.9, 1.7, 1.6\n",
    "    ]\n",
    "})\n",
    "print(df.head(2))"
   ]
  },
  {
   "cell_type": "code",
   "execution_count": null,
   "metadata": {},
   "outputs": [
    {
     "name": "stdout",
     "output_type": "stream",
     "text": [
      "0    1.5\n",
      "1    1.6\n",
      "Name: 충전시간, dtype: float64\n",
      "10    1.7\n",
      "11    1.8\n",
      "Name: 충전시간, dtype: float64\n",
      " \n",
      "TtestResult(statistic=-4.582575694955849, pvalue=0.00011546547787696304, df=18.0)\n"
     ]
    }
   ],
   "source": [
    "# 1~3. 독립 표본 t-검정\n",
    "new_cond = df['충전기'] == 'New'\n",
    "old_cond = df['충전기'] == 'Old'\n",
    "print(df[new_cond]['충전시간'].head(2))\n",
    "print(df[old_cond]['충전시간'].head(2))\n",
    "\n",
    "print(' ')\n",
    "\n",
    "from scipy import stats\n",
    "print(stats.ttest_ind(df[new_cond]['충전시간'], df[old_cond]['충전시간'], alternative='less', equal_var=True))"
   ]
  },
  {
   "cell_type": "markdown",
   "metadata": {},
   "source": [
    "## SECTION03"
   ]
  },
  {
   "cell_type": "code",
   "execution_count": 18,
   "metadata": {},
   "outputs": [
    {
     "name": "stdout",
     "output_type": "stream",
     "text": [
      "   User  기존방법  새로운방법\n",
      "0     1  60.4   59.8\n",
      "1     2  60.7   60.2\n"
     ]
    }
   ],
   "source": [
    "# 데이터\n",
    "import pandas as pd\n",
    "df = pd.DataFrame({\n",
    "    'User' : list(range(1, 11)),\n",
    "    '기존방법' : [60.4, 60.7, 60.5, 60.3, 60.8, 60.6, 60.2, 60.5, 60.7, 60.4],\n",
    "    '새로운방법' : [59.8, 60.2, 60.1, 59.9, 59.7, 58.4, 57.0, 60.3, 59.6, 59.8]\n",
    "})\n",
    "print(df.head(2))"
   ]
  },
  {
   "cell_type": "code",
   "execution_count": 21,
   "metadata": {},
   "outputs": [
    {
     "name": "stdout",
     "output_type": "stream",
     "text": [
      "-1.0300000000000005\n",
      "TtestResult(statistic=-3.407973078114844, pvalue=0.0038872633380070652, df=9)\n"
     ]
    }
   ],
   "source": [
    "# 1. 표본 평균\n",
    "df['diff'] = df['새로운방법'] - df['기존방법']\n",
    "print(df['diff'].mean())\n",
    "\n",
    "# 2~4. 대응 표본 t-검정\n",
    "from scipy import stats\n",
    "print(stats.ttest_rel(df['새로운방법'], df['기존방법'], alternative='less'))"
   ]
  },
  {
   "cell_type": "markdown",
   "metadata": {},
   "source": [
    "## SECTION04"
   ]
  },
  {
   "cell_type": "code",
   "execution_count": 22,
   "metadata": {},
   "outputs": [
    {
     "name": "stdout",
     "output_type": "stream",
     "text": [
      "    groups  scores\n",
      "0  group_A      85\n",
      "1  group_A      88\n",
      "2  group_A      90\n",
      "3  group_A      82\n",
      "4  group_A      87\n"
     ]
    }
   ],
   "source": [
    "# 데이터\n",
    "import pandas as pd\n",
    "df = pd.read_csv('./data/math.csv')\n",
    "print(df.head())"
   ]
  },
  {
   "cell_type": "code",
   "execution_count": null,
   "metadata": {},
   "outputs": [
    {
     "name": "stdout",
     "output_type": "stream",
     "text": [
      "ShapiroResult(statistic=0.9715896670696531, pvalue=0.9051800443853569)\n"
     ]
    }
   ],
   "source": [
    "from scipy import stats \n",
    "\n",
    "# 1. Shapiro-Wilk 검정 (정규성)\n",
    "condA = df['groups'] == 'group_A'\n",
    "print(stats.shapiro(df[condA]['scores']))"
   ]
  },
  {
   "cell_type": "markdown",
   "metadata": {},
   "source": [
    "## SECTION04"
   ]
  },
  {
   "cell_type": "code",
   "execution_count": 24,
   "metadata": {},
   "outputs": [
    {
     "name": "stdout",
     "output_type": "stream",
     "text": [
      "    groups  scores\n",
      "0  group_A      85\n",
      "1  group_A      88\n",
      "2  group_A      90\n",
      "3  group_A      82\n",
      "4  group_A      87\n"
     ]
    }
   ],
   "source": [
    "# 데이터\n",
    "import pandas as pd\n",
    "df = pd.read_csv('./data/math.csv')\n",
    "print(df.head())"
   ]
  },
  {
   "cell_type": "code",
   "execution_count": null,
   "metadata": {},
   "outputs": [
    {
     "name": "stdout",
     "output_type": "stream",
     "text": [
      "ShapiroResult(statistic=0.9715896670696531, pvalue=0.9051800443853569)\n",
      "ShapiroResult(statistic=0.9499422438060351, pvalue=0.6678172590861611)\n",
      "ShapiroResult(statistic=0.9299424104842702, pvalue=0.44732595113862045)\n",
      "ShapiroResult(statistic=0.9065684572704982, pvalue=0.25824165549017347)\n",
      "\n",
      "LeveneResult(statistic=1.757685352622062, pvalue=0.17270284963232108)\n",
      "\n",
      "             df  sum_sq     mean_sq          F        PR(>F)\n",
      "C(groups)   3.0   411.8  137.266667  34.174274  1.240642e-10\n",
      "Residual   36.0   144.6    4.016667        NaN           NaN\n"
     ]
    }
   ],
   "source": [
    "from scipy import stats\n",
    "\n",
    "# 1. Shapiro-Wilk 검정 (정규성)\n",
    "condA = df['groups'] == 'group_A'\n",
    "print(stats.shapiro(df[condA]['scores']))\n",
    "\n",
    "condB = df['groups'] == 'group_B'\n",
    "print(stats.shapiro(df[condB]['scores']))\n",
    "\n",
    "condC = df['groups'] == 'group_C'\n",
    "print(stats.shapiro(df[condC]['scores']))\n",
    "\n",
    "condD = df['groups'] == 'group_D'\n",
    "print(stats.shapiro(df[condD]['scores']))\n",
    "\n",
    "print('')\n",
    "\n",
    "# 2. Levene 검정 (등분산성)\n",
    "print(stats.levene(df[condA]['scores'], df[condB]['scores'], df[condC]['scores'], df[condD]['scores']))\n",
    "\n",
    "print('')\n",
    "\n",
    "# 일원 분산 분석을 위한 모델 학습\n",
    "from statsmodels.formula.api import ols\n",
    "model = ols('scores ~ groups', df).fit()\n",
    "\n",
    "# 3~9. ANOVA 테이블\n",
    "from statsmodels.stats.anova import anova_lm    # 선형 모델을 명시적으로 생성한 후, 이를 anova_lm() 함수에 전달\n",
    "print(anova_lm(model))"
   ]
  },
  {
   "cell_type": "markdown",
   "metadata": {},
   "source": [
    "## SECTION05"
   ]
  },
  {
   "cell_type": "code",
   "execution_count": 29,
   "metadata": {},
   "outputs": [
    {
     "name": "stdout",
     "output_type": "stream",
     "text": [
      "  비료유형  물주기  수확량\n",
      "0    A    1  514\n",
      "1    A    1  480\n",
      "2    A    1  507\n",
      "3    A    2  452\n",
      "4    A    2  526\n"
     ]
    }
   ],
   "source": [
    "# 데이터\n",
    "import pandas as pd\n",
    "df = pd.read_csv('./data/tomato2.csv')\n",
    "print(df.head())"
   ]
  },
  {
   "cell_type": "code",
   "execution_count": null,
   "metadata": {},
   "outputs": [
    {
     "name": "stdout",
     "output_type": "stream",
     "text": [
      "                  df        sum_sq      mean_sq         F    PR(>F)\n",
      "C(비료유형)          2.0   5251.722222  2625.861111  3.184685  0.059334\n",
      "C(물주기)           3.0   9057.000000  3019.000000  3.661490  0.026460\n",
      "C(비료유형):C(물주기)   6.0   4271.833333   711.972222  0.863491  0.535426\n",
      "Residual        24.0  19788.666667   824.527778       NaN       NaN\n"
     ]
    }
   ],
   "source": [
    "# R-style 공식(Syntax) 사용하여 모델을 간결하게 정의\n",
    "import statsmodels.api as sm\n",
    "from statsmodels.formula.api import ols\n",
    "\n",
    "# 1~9 이원 분산 분석\n",
    "model = ols('수확량 ~ C(비료유형) * C(물주기)', data=df).fit()\n",
    "anova_table = sm.stats.anova_lm(model)\n",
    "print(anova_table)"
   ]
  },
  {
   "cell_type": "markdown",
   "metadata": {},
   "source": [
    "## SECTION06"
   ]
  },
  {
   "cell_type": "code",
   "execution_count": 34,
   "metadata": {},
   "outputs": [
    {
     "name": "stdout",
     "output_type": "stream",
     "text": [
      "0.03\n",
      "Power_divergenceResult(statistic=22.166666666666668, pvalue=0.00018567620386641427)\n"
     ]
    }
   ],
   "source": [
    "# 1. 교통사고 5회 이상 경험 비율\n",
    "print(30/1000)\n",
    "\n",
    "# 2~4. 적합도 검정\n",
    "from scipy.stats import chisquare\n",
    "observed = [550, 250, 100, 70, 30]\n",
    "expected = [1000*0.60, 1000*0.25, 1000*0.08, 1000*0.05, 1000*0.02]\n",
    "print(chisquare(observed, expected))"
   ]
  },
  {
   "cell_type": "markdown",
   "metadata": {},
   "source": [
    "## SECTION07"
   ]
  },
  {
   "cell_type": "code",
   "execution_count": 41,
   "metadata": {},
   "outputs": [
    {
     "name": "stdout",
     "output_type": "stream",
     "text": [
      "    캠프 등록여부\n",
      "0  빅분기   등록\n",
      "1  빅분기   등록\n",
      "2  빅분기   등록\n",
      "3  빅분기   등록\n",
      "4  빅분기   등록\n"
     ]
    }
   ],
   "source": [
    "# 데이터\n",
    "import pandas as pd\n",
    "df = pd.DataFrame({\n",
    "    '캠프' : ['빅분기']*80 + ['정처기']*100,\n",
    "    '등록여부' : ['등록']*50 + ['등록안함']*30 + ['등록']*60 + ['등록안함']*40\n",
    "})\n",
    "print(df.head())"
   ]
  },
  {
   "cell_type": "code",
   "execution_count": 37,
   "metadata": {},
   "outputs": [
    {
     "name": "stdout",
     "output_type": "stream",
     "text": [
      "Chi2ContingencyResult(statistic=0.03535714285714309, pvalue=0.8508492527705047, dof=1, expected_freq=array([[48.88888889, 31.11111111],\n",
      "       [61.11111111, 38.88888889]]))\n"
     ]
    }
   ],
   "source": [
    "import pandas as pd\n",
    "from scipy.stats import chi2_contingency\n",
    "\n",
    "# 1~3. 독립성 검정\n",
    "observed = pd.DataFrame([[50, 30], [60, 40]])\n",
    "print(chi2_contingency(observed))"
   ]
  },
  {
   "cell_type": "code",
   "execution_count": 42,
   "metadata": {},
   "outputs": [
    {
     "name": "stdout",
     "output_type": "stream",
     "text": [
      "등록여부  등록  등록안함\n",
      "캠프            \n",
      "빅분기   50    30\n",
      "정처기   60    40\n",
      "Chi2ContingencyResult(statistic=0.03535714285714309, pvalue=0.8508492527705047, dof=1, expected_freq=array([[48.88888889, 31.11111111],\n",
      "       [61.11111111, 38.88888889]]))\n"
     ]
    }
   ],
   "source": [
    "# 교차표로 변경\n",
    "df = pd.crosstab(df['캠프'], df['등록여부'])\n",
    "print(df)\n",
    "\n",
    "# 4~6. 독립성 검정\n",
    "print(chi2_contingency(df))"
   ]
  },
  {
   "cell_type": "code",
   "execution_count": null,
   "metadata": {},
   "outputs": [],
   "source": []
  }
 ],
 "metadata": {
  "kernelspec": {
   "display_name": "base",
   "language": "python",
   "name": "python3"
  },
  "language_info": {
   "codemirror_mode": {
    "name": "ipython",
    "version": 3
   },
   "file_extension": ".py",
   "mimetype": "text/x-python",
   "name": "python",
   "nbconvert_exporter": "python",
   "pygments_lexer": "ipython3",
   "version": "3.12.4"
  }
 },
 "nbformat": 4,
 "nbformat_minor": 2
}
