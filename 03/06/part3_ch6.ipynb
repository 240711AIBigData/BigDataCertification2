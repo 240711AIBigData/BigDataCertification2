{
 "cells": [
  {
   "cell_type": "markdown",
   "metadata": {},
   "source": [
    "## SECTION01"
   ]
  },
  {
   "cell_type": "code",
   "execution_count": 1,
   "metadata": {},
   "outputs": [],
   "source": [
    "# 데이터\n",
    "import pandas as pd\n",
    "df = pd.DataFrame({\n",
    "    'Caffeine(mg)' : [\n",
    "        94.2, 93.7, 95.5, 93.9, 94.0, 95.2, 94.7, 93.5, 92.8, 94.4,\n",
    "        93.8, 94.6, 93.3, 95.1, 94.3, 94.9, 93.9, 94.8, 95.0, 94.2,\n",
    "        93.7, 94.4, 95.1, 94.0, 93.6\n",
    "    ]\n",
    "})"
   ]
  },
  {
   "cell_type": "code",
   "execution_count": 6,
   "metadata": {},
   "outputs": [
    {
     "name": "stdout",
     "output_type": "stream",
     "text": [
      "Caffeine(mg)    94.264\n",
      "dtype: float64\n",
      "ShapiroResult(statistic=0.9826578166170536, pvalue=0.9322031137746971)\n",
      "TtestResult(statistic=-5.501737036221897, pvalue=5.8686553916715e-06, df=24)\n",
      " \n",
      "0.0000058687\n"
     ]
    }
   ],
   "source": [
    "# 1. 표본 평균\n",
    "print(df.mean())\n",
    "\n",
    "# 2. 정규성 검정\n",
    "from scipy import stats\n",
    "print(stats.shapiro(df['Caffeine(mg)']))\n",
    "\n",
    "# 3~5. 단일 표본 t-검정\n",
    "print(stats.ttest_1samp(df['Caffeine(mg)'], 95, alternative='less'))\n",
    "\n",
    "print(' ')\n",
    "\n",
    "statistic, pvalue = stats.ttest_1samp(df['Caffeine(mg)'], 95, alternative='less')\n",
    "print('{:.10f}'.format(pvalue))"
   ]
  },
  {
   "cell_type": "markdown",
   "metadata": {},
   "source": [
    "## SECTION02"
   ]
  },
  {
   "cell_type": "code",
   "execution_count": 7,
   "metadata": {},
   "outputs": [
    {
     "name": "stdout",
     "output_type": "stream",
     "text": [
      "   충전기  충전시간\n",
      "0  New   1.5\n",
      "1  New   1.6\n"
     ]
    }
   ],
   "source": [
    "# 데이터\n",
    "import pandas as pd\n",
    "df = pd.DataFrame({\n",
    "    '충전기' : ['New'] * 10 + ['Old'] * 10,\n",
    "    '충전시간' : [\n",
    "        1.5, 1.6, 1.4, 1.7, 1.5, 1.6, 1.7, 1.4, 1.6, 1.5,\n",
    "        1.7, 1.8, 1.7, 1.9, 1.8, 1.7, 1.8, 1.9, 1.7, 1.6\n",
    "    ]\n",
    "})\n",
    "print(df.head(2))"
   ]
  },
  {
   "cell_type": "code",
   "execution_count": null,
   "metadata": {},
   "outputs": [
    {
     "name": "stdout",
     "output_type": "stream",
     "text": [
      "0    1.5\n",
      "1    1.6\n",
      "Name: 충전시간, dtype: float64\n",
      "10    1.7\n",
      "11    1.8\n",
      "Name: 충전시간, dtype: float64\n",
      " \n",
      "TtestResult(statistic=-4.582575694955849, pvalue=0.00011546547787696304, df=18.0)\n"
     ]
    }
   ],
   "source": [
    "# 1~3. 독립 표본 t-검정\n",
    "new_cond = df['충전기'] == 'New'\n",
    "old_cond = df['충전기'] == 'Old'\n",
    "print(df[new_cond]['충전시간'].head(2))\n",
    "print(df[old_cond]['충전시간'].head(2))\n",
    "\n",
    "print(' ')\n",
    "\n",
    "from scipy import stats\n",
    "print(stats.ttest_ind(df[new_cond]['충전시간'], df[old_cond]['충전시간'], alternative='less', equal_var=True))"
   ]
  },
  {
   "cell_type": "markdown",
   "metadata": {},
   "source": [
    "## SECTION03"
   ]
  },
  {
   "cell_type": "code",
   "execution_count": 18,
   "metadata": {},
   "outputs": [
    {
     "name": "stdout",
     "output_type": "stream",
     "text": [
      "   User  기존방법  새로운방법\n",
      "0     1  60.4   59.8\n",
      "1     2  60.7   60.2\n"
     ]
    }
   ],
   "source": [
    "# 데이터\n",
    "import pandas as pd\n",
    "df = pd.DataFrame({\n",
    "    'User' : list(range(1, 11)),\n",
    "    '기존방법' : [60.4, 60.7, 60.5, 60.3, 60.8, 60.6, 60.2, 60.5, 60.7, 60.4],\n",
    "    '새로운방법' : [59.8, 60.2, 60.1, 59.9, 59.7, 58.4, 57.0, 60.3, 59.6, 59.8]\n",
    "})\n",
    "print(df.head(2))"
   ]
  },
  {
   "cell_type": "code",
   "execution_count": 21,
   "metadata": {},
   "outputs": [
    {
     "name": "stdout",
     "output_type": "stream",
     "text": [
      "-1.0300000000000005\n",
      "TtestResult(statistic=-3.407973078114844, pvalue=0.0038872633380070652, df=9)\n"
     ]
    }
   ],
   "source": [
    "# 1. 표본 평균\n",
    "df['diff'] = df['새로운방법'] - df['기존방법']\n",
    "print(df['diff'].mean())\n",
    "\n",
    "# 2~4. 대응 표본 t-검정\n",
    "from scipy import stats\n",
    "print(stats.ttest_rel(df['새로운방법'], df['기존방법'], alternative='less'))"
   ]
  },
  {
   "cell_type": "markdown",
   "metadata": {},
   "source": [
    "## SECTION04"
   ]
  },
  {
   "cell_type": "code",
   "execution_count": 22,
   "metadata": {},
   "outputs": [
    {
     "name": "stdout",
     "output_type": "stream",
     "text": [
      "    groups  scores\n",
      "0  group_A      85\n",
      "1  group_A      88\n",
      "2  group_A      90\n",
      "3  group_A      82\n",
      "4  group_A      87\n"
     ]
    }
   ],
   "source": [
    "# 데이터\n",
    "import pandas as pd\n",
    "df = pd.read_csv('./data/math.csv')\n",
    "print(df.head())"
   ]
  },
  {
   "cell_type": "code",
   "execution_count": null,
   "metadata": {},
   "outputs": [
    {
     "name": "stdout",
     "output_type": "stream",
     "text": [
      "ShapiroResult(statistic=0.9715896670696531, pvalue=0.9051800443853569)\n"
     ]
    }
   ],
   "source": [
    "from scipy import stats \n",
    "\n",
    "# 1. Shapiro-Wilk 검정 (정규성)\n",
    "condA = df['groups'] == 'group_A'\n",
    "print(stats.shapiro(df[condA]['scores']))"
   ]
  },
  {
   "cell_type": "markdown",
   "metadata": {},
   "source": [
    "## SECTION04"
   ]
  },
  {
   "cell_type": "code",
   "execution_count": 24,
   "metadata": {},
   "outputs": [
    {
     "name": "stdout",
     "output_type": "stream",
     "text": [
      "    groups  scores\n",
      "0  group_A      85\n",
      "1  group_A      88\n",
      "2  group_A      90\n",
      "3  group_A      82\n",
      "4  group_A      87\n"
     ]
    }
   ],
   "source": [
    "# 데이터\n",
    "import pandas as pd\n",
    "df = pd.read_csv('./data/math.csv')\n",
    "print(df.head())"
   ]
  },
  {
   "cell_type": "code",
   "execution_count": null,
   "metadata": {},
   "outputs": [
    {
     "name": "stdout",
     "output_type": "stream",
     "text": [
      "ShapiroResult(statistic=0.9715896670696531, pvalue=0.9051800443853569)\n",
      "ShapiroResult(statistic=0.9499422438060351, pvalue=0.6678172590861611)\n",
      "ShapiroResult(statistic=0.9299424104842702, pvalue=0.44732595113862045)\n",
      "ShapiroResult(statistic=0.9065684572704982, pvalue=0.25824165549017347)\n",
      "\n",
      "LeveneResult(statistic=1.757685352622062, pvalue=0.17270284963232108)\n",
      "\n",
      "             df  sum_sq     mean_sq          F        PR(>F)\n",
      "C(groups)   3.0   411.8  137.266667  34.174274  1.240642e-10\n",
      "Residual   36.0   144.6    4.016667        NaN           NaN\n"
     ]
    }
   ],
   "source": [
    "from scipy import stats\n",
    "\n",
    "# 1. Shapiro-Wilk 검정 (정규성)\n",
    "condA = df['groups'] == 'group_A'\n",
    "print(stats.shapiro(df[condA]['scores']))\n",
    "\n",
    "condB = df['groups'] == 'group_B'\n",
    "print(stats.shapiro(df[condB]['scores']))\n",
    "\n",
    "condC = df['groups'] == 'group_C'\n",
    "print(stats.shapiro(df[condC]['scores']))\n",
    "\n",
    "condD = df['groups'] == 'group_D'\n",
    "print(stats.shapiro(df[condD]['scores']))\n",
    "\n",
    "print('')\n",
    "\n",
    "# 2. Levene 검정 (등분산성)\n",
    "print(stats.levene(df[condA]['scores'], df[condB]['scores'], df[condC]['scores'], df[condD]['scores']))\n",
    "\n",
    "print('')\n",
    "\n",
    "# 일원 분산 분석을 위한 모델 학습\n",
    "from statsmodels.formula.api import ols\n",
    "model = ols('scores ~ groups', df).fit()\n",
    "\n",
    "# 3~9. ANOVA 테이블\n",
    "from statsmodels.stats.anova import anova_lm    # 선형 모델을 명시적으로 생성한 후, 이를 anova_lm() 함수에 전달\n",
    "print(anova_lm(model))"
   ]
  },
  {
   "cell_type": "markdown",
   "metadata": {},
   "source": [
    "## SECTION05"
   ]
  },
  {
   "cell_type": "code",
   "execution_count": 29,
   "metadata": {},
   "outputs": [
    {
     "name": "stdout",
     "output_type": "stream",
     "text": [
      "  비료유형  물주기  수확량\n",
      "0    A    1  514\n",
      "1    A    1  480\n",
      "2    A    1  507\n",
      "3    A    2  452\n",
      "4    A    2  526\n"
     ]
    }
   ],
   "source": [
    "# 데이터\n",
    "import pandas as pd\n",
    "df = pd.read_csv('./data/tomato2.csv')\n",
    "print(df.head())"
   ]
  },
  {
   "cell_type": "code",
   "execution_count": null,
   "metadata": {},
   "outputs": [
    {
     "name": "stdout",
     "output_type": "stream",
     "text": [
      "                  df        sum_sq      mean_sq         F    PR(>F)\n",
      "C(비료유형)          2.0   5251.722222  2625.861111  3.184685  0.059334\n",
      "C(물주기)           3.0   9057.000000  3019.000000  3.661490  0.026460\n",
      "C(비료유형):C(물주기)   6.0   4271.833333   711.972222  0.863491  0.535426\n",
      "Residual        24.0  19788.666667   824.527778       NaN       NaN\n"
     ]
    }
   ],
   "source": [
    "# R-style 공식(Syntax) 사용하여 모델을 간결하게 정의\n",
    "import statsmodels.api as sm\n",
    "from statsmodels.formula.api import ols\n",
    "\n",
    "# 1~9 이원 분산 분석\n",
    "model = ols('수확량 ~ C(비료유형) * C(물주기)', data=df).fit()\n",
    "anova_table = sm.stats.anova_lm(model)\n",
    "print(anova_table)"
   ]
  },
  {
   "cell_type": "markdown",
   "metadata": {},
   "source": [
    "## SECTION06"
   ]
  },
  {
   "cell_type": "code",
   "execution_count": 34,
   "metadata": {},
   "outputs": [
    {
     "name": "stdout",
     "output_type": "stream",
     "text": [
      "0.03\n",
      "Power_divergenceResult(statistic=22.166666666666668, pvalue=0.00018567620386641427)\n"
     ]
    }
   ],
   "source": [
    "# 1. 교통사고 5회 이상 경험 비율\n",
    "print(30/1000)\n",
    "\n",
    "# 2~4. 적합도 검정\n",
    "from scipy.stats import chisquare\n",
    "observed = [550, 250, 100, 70, 30]\n",
    "expected = [1000*0.60, 1000*0.25, 1000*0.08, 1000*0.05, 1000*0.02]\n",
    "print(chisquare(observed, expected))"
   ]
  },
  {
   "cell_type": "markdown",
   "metadata": {},
   "source": [
    "## SECTION07"
   ]
  },
  {
   "cell_type": "code",
   "execution_count": 41,
   "metadata": {},
   "outputs": [
    {
     "name": "stdout",
     "output_type": "stream",
     "text": [
      "    캠프 등록여부\n",
      "0  빅분기   등록\n",
      "1  빅분기   등록\n",
      "2  빅분기   등록\n",
      "3  빅분기   등록\n",
      "4  빅분기   등록\n"
     ]
    }
   ],
   "source": [
    "# 데이터\n",
    "import pandas as pd\n",
    "df = pd.DataFrame({\n",
    "    '캠프' : ['빅분기']*80 + ['정처기']*100,\n",
    "    '등록여부' : ['등록']*50 + ['등록안함']*30 + ['등록']*60 + ['등록안함']*40\n",
    "})\n",
    "print(df.head())"
   ]
  },
  {
   "cell_type": "code",
   "execution_count": 37,
   "metadata": {},
   "outputs": [
    {
     "name": "stdout",
     "output_type": "stream",
     "text": [
      "Chi2ContingencyResult(statistic=0.03535714285714309, pvalue=0.8508492527705047, dof=1, expected_freq=array([[48.88888889, 31.11111111],\n",
      "       [61.11111111, 38.88888889]]))\n"
     ]
    }
   ],
   "source": [
    "import pandas as pd\n",
    "from scipy.stats import chi2_contingency\n",
    "\n",
    "# 1~3. 독립성 검정\n",
    "observed = pd.DataFrame([[50, 30], [60, 40]])\n",
    "print(chi2_contingency(observed))"
   ]
  },
  {
   "cell_type": "code",
   "execution_count": 42,
   "metadata": {},
   "outputs": [
    {
     "name": "stdout",
     "output_type": "stream",
     "text": [
      "등록여부  등록  등록안함\n",
      "캠프            \n",
      "빅분기   50    30\n",
      "정처기   60    40\n",
      "Chi2ContingencyResult(statistic=0.03535714285714309, pvalue=0.8508492527705047, dof=1, expected_freq=array([[48.88888889, 31.11111111],\n",
      "       [61.11111111, 38.88888889]]))\n"
     ]
    }
   ],
   "source": [
    "# 교차표로 변경\n",
    "df = pd.crosstab(df['캠프'], df['등록여부'])\n",
    "print(df)\n",
    "\n",
    "# 4~6. 독립성 검정\n",
    "print(chi2_contingency(df))"
   ]
  },
  {
   "cell_type": "markdown",
   "metadata": {},
   "source": [
    "## SECTION08"
   ]
  },
  {
   "cell_type": "code",
   "execution_count": null,
   "metadata": {},
   "outputs": [
    {
     "name": "stdout",
     "output_type": "stream",
     "text": [
      "   할인율  온도  광고비  주문량\n",
      "0   28  15  342  635\n",
      "1   24  34  666  958\n",
      "2   13  15  224  525\n"
     ]
    }
   ],
   "source": [
    "# 데이터\n",
    "import pandas as pd\n",
    "df = pd.DataFrame({ \n",
    "    '할인율' : [28, 24, 13, 0, 27, 30, 10, 16, 6, 5, 7, 11, 11, 30, 25,\n",
    "            4, 7, 24, 19, 21, 6, 10, 26, 13, 15, 6, 12, 6, 20, 2],\n",
    "    '온도' : [15, 34, 15, 22, 29, 30, 14, 17, 28, 29, 19, 19, 34, 10, 29,\n",
    "            28, 12, 25, 32, 28, 22, 16, 30, 11, 16, 18, 16, 33, 12, 22],\n",
    "    '광고비' : [342, 666, 224, 764, 148, 499, 711, 596, 797, 484, 986, 347, 146, 362, 642,\n",
    "            591, 846, 260, 560, 941, 469, 309, 730, 305, 892, 147, 887, 526, 525, 884],\n",
    "    '주문량' : [635, 958, 525, 25, 607, 872, 858, 732, 1082, 863, 904, 686, 699, 615, 893,\n",
    "            830, 856, 679, 918, 951, 789, 583, 988, 631, 866, 549, 910, 946, 647, 943]\n",
    "})\n",
    "print(df.head(3))"
   ]
  },
  {
   "cell_type": "code",
   "execution_count": 57,
   "metadata": {},
   "outputs": [
    {
     "name": "stdout",
     "output_type": "stream",
     "text": [
      "1. 상관 계수 : 0.09\n",
      "2. 결정 계수(R-squared) : 0.4\n",
      "3. 회귀 계수 :\n",
      " Intercept    267.6609\n",
      "할인율            4.2068\n",
      "온도             9.4798\n",
      "광고비            0.4148\n",
      "dtype: float64\n",
      "4. 절편 : 267.6609\n",
      "5. p-value : 0.0289\n",
      "6. 새로운 데이터 : 706\n",
      "7. 잔차 제곱합 : 732197.9\n",
      "8. MSE : 24406.5966\n",
      "9. 신뢰구간 :\n",
      "                    0           1\n",
      "Intercept  45.955720  489.366084\n",
      "할인율        -1.847229   10.260887\n",
      "온도          2.490702   16.468984\n",
      "광고비         0.201064    0.628589\n",
      "10. 예측값의 신뢰 구간과 예측 구간 :\n",
      "          mean    mean_se  mean_ci_lower  mean_ci_upper  obs_ci_lower  \\\n",
      "0  692.207386  45.555397     614.507283     769.907488    395.622293   \n",
      "\n",
      "   obs_ci_upper  \n",
      "0    988.792478  \n",
      "11. 귀무가설 : 기각\n",
      "                            OLS Regression Results                            \n",
      "==============================================================================\n",
      "Dep. Variable:                    주문량   R-squared:                       0.400\n",
      "Model:                            OLS   Adj. R-squared:                  0.330\n",
      "Method:                 Least Squares   F-statistic:                     5.770\n",
      "Date:                Wed, 20 Nov 2024   Prob (F-statistic):            0.00366\n",
      "Time:                        17:01:17   Log-Likelihood:                -194.11\n",
      "No. Observations:                  30   AIC:                             396.2\n",
      "Df Residuals:                      26   BIC:                             401.8\n",
      "Df Model:                           3                                         \n",
      "Covariance Type:            nonrobust                                         \n",
      "==============================================================================\n",
      "                 coef    std err          t      P>|t|      [0.025      0.975]\n",
      "------------------------------------------------------------------------------\n",
      "Intercept    267.6609    129.985      2.059      0.050       0.472     534.849\n",
      "할인율            4.2068      3.549      1.185      0.247      -3.089      11.503\n",
      "온도             9.4798      4.098      2.313      0.029       1.057      17.903\n",
      "광고비            0.4148      0.125      3.310      0.003       0.157       0.672\n",
      "==============================================================================\n",
      "Omnibus:                       56.788   Durbin-Watson:                   1.647\n",
      "Prob(Omnibus):                  0.000   Jarque-Bera (JB):              419.005\n",
      "Skew:                          -3.845   Prob(JB):                     1.03e-91\n",
      "Kurtosis:                      19.616   Cond. No.                     2.58e+03\n",
      "==============================================================================\n",
      "\n",
      "Notes:\n",
      "[1] Standard Errors assume that the covariance matrix of the errors is correctly specified.\n",
      "[2] The condition number is large, 2.58e+03. This might indicate that there are\n",
      "strong multicollinearity or other numerical problems.\n"
     ]
    }
   ],
   "source": [
    "# 다중 선형 회귀 모델 적합\n",
    "from statsmodels.formula.api import ols\n",
    "model = ols('주문량 ~ 할인율 + 온도 + 광고비', data=df).fit()\n",
    "\n",
    "# 1. 상관 계수\n",
    "print('1. 상관 계수 :', round(df['할인율'].corr(df['온도']), 2))\n",
    "\n",
    "# 2. 결정 계수\n",
    "print('2. 결정 계수(R-squared) :', round(model.rsquared, 2))\n",
    "\n",
    "# 3. 회귀 계수(기울기)\n",
    "print('3. 회귀 계수 :\\n', round(model.params, 4))\n",
    "\n",
    "# 4. 절편\n",
    "print('4. 절편 :', round(model.params['Intercept'], 4))\n",
    "\n",
    "# 5. 회귀 계수 검정\n",
    "print('5. p-value :', round(model.pvalues['온도'], 4))\n",
    "\n",
    "# 6. 예측 판매량\n",
    "new_data = pd.DataFrame({\n",
    "    '할인율' : [10],\n",
    "    '온도' : [20],\n",
    "    '광고비' : [500]\n",
    "})\n",
    "result = model.predict(new_data)\n",
    "print('6. 새로운 데이터 :', int(result[0]))\n",
    "\n",
    "# 7. 잔차 제곱합\n",
    "df['잔차'] = df['주문량'] - model.predict(df)\n",
    "print('7. 잔차 제곱합 :', round(sum(df['잔차']**2), 2))\n",
    "\n",
    "# 8. MSE(Mean Squared Error)\n",
    "MSE = (df['잔차']**2).mean()\n",
    "print('8. MSE :', round(MSE, 4))\n",
    "\n",
    "# 9. 각 변수에 대한 90% 신뢰 구간\n",
    "print('9. 신뢰구간 :\\n', model.conf_int(alpha=0.1))\n",
    "\n",
    "# 10. 새로운 데이터의 예측값의 90% 신뢰 구간과 예측 구간\n",
    "new_data = pd.DataFrame({\n",
    "    '할인율' : [15],\n",
    "    '온도' : [25],\n",
    "    '광고비' : [300]\n",
    "})\n",
    "pred = model.get_prediction(new_data)\n",
    "result = pred.summary_frame(alpha=0.1)\n",
    "print('10. 예측값의 신뢰 구간과 예측 구간 :\\n', result)\n",
    "\n",
    "# 11. 광고비는 배달 주문량에 영향을 주는지 가설 검정\n",
    "cond = model.pvalues['광고비']<0.05\n",
    "if cond:\n",
    "    result = '기각'\n",
    "else :\n",
    "    result = '채택'\n",
    "print('11. 귀무가설 :', result)\n",
    "\n",
    "# 선형 회귀 모델의 요약 결과\n",
    "print(model.summary())"
   ]
  },
  {
   "cell_type": "code",
   "execution_count": null,
   "metadata": {},
   "outputs": [],
   "source": []
  }
 ],
 "metadata": {
  "kernelspec": {
   "display_name": "base",
   "language": "python",
   "name": "python3"
  },
  "language_info": {
   "codemirror_mode": {
    "name": "ipython",
    "version": 3
   },
   "file_extension": ".py",
   "mimetype": "text/x-python",
   "name": "python",
   "nbconvert_exporter": "python",
   "pygments_lexer": "ipython3",
   "version": "3.12.4"
  }
 },
 "nbformat": 4,
 "nbformat_minor": 2
}
