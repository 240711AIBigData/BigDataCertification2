{
 "cells": [
  {
   "cell_type": "markdown",
   "metadata": {},
   "source": [
    "## 제1유형\n",
    "\n",
    "### ✏️ mcars 데이터셋의 qsec 컬럼을 최소-최대 척도(Min-Max Scale)로 변환한 후 0.5 보다 큰 값을 갖는 레코드 수를 구하시오."
   ]
  },
  {
   "cell_type": "code",
   "execution_count": 10,
   "metadata": {},
   "outputs": [
    {
     "name": "stdout",
     "output_type": "stream",
     "text": [
      "                    mpg  cyl   disp   hp  drat     wt   qsec  vs  am  gear  \\\n",
      "Unnamed: 0                                                                   \n",
      "Mazda RX4          21.0    6  160.0  110  3.90  2.620  16.46   0   1     4   \n",
      "Mazda RX4 Wag      21.0    6  160.0  110  3.90  2.875  17.02   0   1     4   \n",
      "Datsun 710         22.8    4  108.0   93  3.85  2.320  18.61   1   1     4   \n",
      "Hornet 4 Drive     21.4    6  258.0  110  3.08  3.215  19.44   1   0     3   \n",
      "Hornet Sportabout  18.7    8  360.0  175  3.15  3.440  17.02   0   0     3   \n",
      "\n",
      "                   carb  \n",
      "Unnamed: 0               \n",
      "Mazda RX4             4  \n",
      "Mazda RX4 Wag         4  \n",
      "Datsun 710            1  \n",
      "Hornet 4 Drive        1  \n",
      "Hornet Sportabout     2  \n"
     ]
    }
   ],
   "source": [
    "# 데이터 불러오기\n",
    "import pandas as pd\n",
    "df = pd.read_csv('./data/mcars.csv', index_col=0)\n",
    "print(df.head())"
   ]
  },
  {
   "cell_type": "markdown",
   "metadata": {},
   "source": [
    "- qsec 컬럼에 min-max 스케일로 변환하고, 0.5 보다 큰 값 찾기\n",
    "\n",
    "- 사이킷런의 MinMaxScaler 사용시 0과 1 사이로 변환 가능\n",
    "\n",
    "- MinMaxScaler() 를 scaler 변수에 담고 scaler.fit_transform(df[['qsec']]) t사용해 qsec 컬럼 값 변환\n",
    "\n",
    "    - fit_transform() 함수는 데이터프레임 형태로 입력해야 함\n",
    "\n",
    "        - df[['qsec']] 처럼 대괄호 두 번 사용해 데이터프레임 형태로 만듦\n",
    "\n",
    "- 1개 컬럼 선택 시 데이터프레임과 시리즈 자료형\n",
    "\n",
    "    - df[['qsec']] : 데이터프레임\n",
    "\n",
    "    - df['qsec'] : 시리즈"
   ]
  },
  {
   "cell_type": "code",
   "execution_count": 11,
   "metadata": {},
   "outputs": [
    {
     "name": "stdout",
     "output_type": "stream",
     "text": [
      "MinMax Scale 변환 전 :\n",
      " Unnamed: 0\n",
      "Mazda RX4            16.46\n",
      "Mazda RX4 Wag        17.02\n",
      "Datsun 710           18.61\n",
      "Hornet 4 Drive       19.44\n",
      "Hornet Sportabout    17.02\n",
      "Name: qsec, dtype: float64\n",
      "\n",
      "MinMax Scale 변환 후 :\n",
      " Unnamed: 0\n",
      "Mazda RX4            0.233333\n",
      "Mazda RX4 Wag        0.300000\n",
      "Datsun 710           0.489286\n",
      "Hornet 4 Drive       0.588095\n",
      "Hornet Sportabout    0.300000\n",
      "Name: qsec, dtype: float64\n"
     ]
    }
   ],
   "source": [
    "# MinMaxScaler 활용\n",
    "from sklearn.preprocessing import MinMaxScaler\n",
    "scaler = MinMaxScaler()\n",
    "print('MinMax Scale 변환 전 :\\n', df['qsec'].head())\n",
    "df['qsec'] = scaler.fit_transform(df[['qsec']])\n",
    "print('\\nMinMax Scale 변환 후 :\\n', df['qsec'].head())"
   ]
  },
  {
   "cell_type": "code",
   "execution_count": null,
   "metadata": {},
   "outputs": [
    {
     "name": "stdout",
     "output_type": "stream",
     "text": [
      "9\n"
     ]
    }
   ],
   "source": [
    "# sum 활용\n",
    "cond = df['qsec'] > 0.5     # True(1), False(0) 로 반환됨\n",
    "print(sum(cond))            # True 인 데이터의 개수(조건을 만족하는 데이터의 개수)"
   ]
  },
  {
   "cell_type": "code",
   "execution_count": null,
   "metadata": {},
   "outputs": [
    {
     "name": "stdout",
     "output_type": "stream",
     "text": [
      "9\n"
     ]
    }
   ],
   "source": [
    "# len 활용\n",
    "cond = df['qsec'] > 0.5     # 데이터프레임 필터링\n",
    "print(len(df[cond]))        # len() : 데이터프레임에 있는 행(레코드) 수 반환"
   ]
  },
  {
   "cell_type": "code",
   "execution_count": null,
   "metadata": {},
   "outputs": [],
   "source": []
  }
 ],
 "metadata": {
  "kernelspec": {
   "display_name": "base",
   "language": "python",
   "name": "python3"
  },
  "language_info": {
   "codemirror_mode": {
    "name": "ipython",
    "version": 3
   },
   "file_extension": ".py",
   "mimetype": "text/x-python",
   "name": "python",
   "nbconvert_exporter": "python",
   "pygments_lexer": "ipython3",
   "version": "3.12.4"
  }
 },
 "nbformat": 4,
 "nbformat_minor": 2
}
