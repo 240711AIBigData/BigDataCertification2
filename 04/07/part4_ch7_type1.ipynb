{
 "cells": [
  {
   "cell_type": "markdown",
   "metadata": {},
   "source": [
    "# 제 7회 기출 문제\n",
    "\n",
    "## 작업형 제 1 유형\n",
    "\n",
    "### ✏️ 결측치가 있는 행을 제거한 후 학생이 가장 많이 수강한 과목을 찾고, 해당 과목 점수를 표준화(스탠더드 스케일)한 다음 가장 큰 표준화된 값을 구하시오.(반올림하여 소수 셋째 자리까지 계산)"
   ]
  },
  {
   "cell_type": "code",
   "execution_count": 1,
   "metadata": {},
   "outputs": [
    {
     "name": "stdout",
     "output_type": "stream",
     "text": [
      "   id_assessment  student_id  study_period_days  score\n",
      "0            103           0                 22   87.0\n",
      "1             93           1                 70   92.0\n",
      "2             15           2                 22    2.0\n",
      "3            107           3                 22   51.0\n",
      "4             72           4                 22   73.0\n"
     ]
    }
   ],
   "source": [
    "import pandas as pd\n",
    "df = pd.read_csv('./data/student_assessment.csv')\n",
    "print(df.head())"
   ]
  },
  {
   "cell_type": "code",
   "execution_count": 2,
   "metadata": {},
   "outputs": [
    {
     "name": "stdout",
     "output_type": "stream",
     "text": [
      "(2565, 4)\n",
      "(2544, 4)\n",
      "id_assessment\n",
      "12     33\n",
      "47     32\n",
      "8      31\n",
      "113    29\n",
      "39     28\n",
      "       ..\n",
      "77     11\n",
      "18     10\n",
      "43     10\n",
      "83      9\n",
      "71      9\n",
      "Name: count, Length: 133, dtype: int64\n",
      "12\n",
      "2.183\n"
     ]
    }
   ],
   "source": [
    "# 1. 결측치 제거\n",
    "## dropna()를 활용해 결측치가 있는 모든 행 제거\n",
    "## 결측치 제거 전후의 데이터프레임 크기를 출력해 제거된 행의 수 확인\n",
    "print(df.shape)\n",
    "df = df.dropna()\n",
    "print(df.shape)\n",
    "\n",
    "# 2. 가장 많이 수강한 과목 필터링\n",
    "## value_counts() 사용해 각 과목별 수강한 학생의 수를 계산하고, idxmax()로 가장 많이 수강한 과목 ID 찾기\n",
    "print(df['id_assessment'].value_counts())\n",
    "id = df['id_assessment'].value_counts().idxmax()\n",
    "print(id)\n",
    "cond = df['id_assessment'] == id\n",
    "df = df[cond]\n",
    "\n",
    "# 3. 과목 점수 스탠더드 스케일\n",
    "## 사이킷런의 StandardScaler 사용해 과목 점수를 스탠더드 스케일로 변환\n",
    "from sklearn.preprocessing import StandardScaler\n",
    "scaler = StandardScaler()\n",
    "df['score'] = scaler.fit_transform(df[['score']])\n",
    "## 주의 : StandardScaler가 입력 데이터를 2차원 배열 형태로 처리해야 하기 때문에 대괄호 2개 사용\n",
    "## df['score'] : Series 객체를 반환 (1차원 데이터)\n",
    "## df[['score']] : DataFrame 객체를 반환 (2차원 데이터(하나의 열만 포함))\n",
    "\n",
    "# 4. 가장 큰 값\n",
    "## max() 사용해 가장 큰 값을 찾고, 이를 round()로 소수점 셋째 자리까지 반올림해 출력\n",
    "print(round(df['score'].max(), 3))"
   ]
  },
  {
   "cell_type": "markdown",
   "metadata": {},
   "source": [
    "---\n",
    "\n",
    "#### 💡 idxmax() vs max()\n",
    "- idxmax()\n",
    "\n",
    "    - 목적: 최대값을 가지는 인덱스를 반환\n",
    "    \n",
    "    - 적용 대상: Series 또는 DataFrame\n",
    "    \n",
    "    - 결과: 최대값이 위치한 인덱스(또는 행/열 이름)\n",
    "\n",
    "-  max()\n",
    "\n",
    "    - 목적: 최대값을 반환\n",
    "\n",
    "    - 적용 대상: Series 또는 DataFrame\n",
    "\n",
    "    - 결과: Series에서는 최대값 자체, DataFrame에서는 축(axis)에 따라 최대값의 집합\n",
    "\n",
    "<br>\n",
    "\n",
    "|기능|idxmax()|max()|\n",
    "|:-:|:-:|:-:|\n",
    "|반환값|최대값의 인덱스 또는 행/열 이름|최대값 자체|\n",
    "|주요 목적|최대값이 어디에 위치하는지 찾을 때|최대값의 크기를 확인할 때|\n",
    "|적용 가능 대상|Series와 DataFrame|Series와 DataFrame|\n",
    "\n",
    "---"
   ]
  },
  {
   "cell_type": "markdown",
   "metadata": {},
   "source": [
    "### ✏️ DE1 ~ DE77 컬럼 중 주가지수의 종가 'close'와 가장 상관 관계가 높은 변수를 찾아 해당 변수의 평균값을 구하시오. (반올림하여 소수 넷째 자리까지 계산)"
   ]
  },
  {
   "cell_type": "code",
   "execution_count": 3,
   "metadata": {},
   "outputs": [
    {
     "name": "stdout",
     "output_type": "stream",
     "text": [
      "        DE1       DE2       DE3       DE4       DE5       DE6       DE7  \\\n",
      "0  1.764052  0.400157  0.978738  2.240893  1.867558 -0.977278  0.950088   \n",
      "1 -0.578850 -0.311553  0.056165 -1.165150  0.900826  0.465662 -1.536244   \n",
      "2 -0.098453 -0.663478  1.126636 -1.079932 -1.147469 -0.437820 -0.498032   \n",
      "3 -0.493320 -0.542861  0.416050 -1.156182  0.781198  1.494485 -2.069985   \n",
      "4  0.693773 -0.159573 -0.133702  1.077744 -1.126826 -0.730678 -0.384880   \n",
      "\n",
      "        DE8       DE9      DE10  ...      DE71      DE72      DE73      DE74  \\\n",
      "0 -0.151357 -0.103219  0.410599  ...  0.729091  0.128983  1.139401 -1.234826   \n",
      "1  1.488252  1.895889  1.178780  ...  1.117016 -1.315907 -0.461585 -0.068242   \n",
      "2  1.929532  0.949421  0.087551  ... -1.540797  0.063262  0.156507  0.232181   \n",
      "3  0.426259  0.676908 -0.637437  ...  1.658131 -0.118164 -0.680178  0.666383   \n",
      "4  0.094352 -0.042171 -0.286887  ... -0.206904  0.880179 -1.698106  0.387280   \n",
      "\n",
      "       DE75      DE76      DE77        open       close    volume  \n",
      "0  0.402342 -0.684810 -0.870797  129.549102  126.502056  981466.0  \n",
      "1  1.713343 -0.744755 -0.826439  126.502056  128.041811  473416.0  \n",
      "2 -0.597316 -0.237922 -1.424061  128.041811  128.957651   46597.0  \n",
      "3 -0.460720 -1.334258 -1.346718  128.957651  122.965246  455747.0  \n",
      "4 -2.255564 -1.022507  0.038631  122.965246  114.922790  242198.0  \n",
      "\n",
      "[5 rows x 80 columns]\n"
     ]
    }
   ],
   "source": [
    "import pandas as pd\n",
    "df = pd.read_csv('./data/stock_market.csv')\n",
    "print(df.head())"
   ]
  },
  {
   "cell_type": "code",
   "execution_count": 4,
   "metadata": {},
   "outputs": [
    {
     "name": "stdout",
     "output_type": "stream",
     "text": [
      "DE1       0.034633\n",
      "DE2       0.052457\n",
      "DE3       0.021811\n",
      "DE4       0.025823\n",
      "DE5       0.001282\n",
      "            ...   \n",
      "DE76      0.012707\n",
      "DE77      0.020981\n",
      "open      0.996873\n",
      "close     1.000000\n",
      "volume    0.022469\n",
      "Name: close, Length: 80, dtype: float64\n",
      "DE14\n",
      "-0.0004\n"
     ]
    }
   ],
   "source": [
    "# 1. close 와의 상관 관계(절대값)\n",
    "## corr()는 데이터프레임의 모든 숫자형 변수 간의 상관 계수 계산\n",
    "## 상관 계수는 -1 부터 1까지의 값을 가지며, -1에 가까울수록 강한 음의 상관관계, 1에 가까울수록 강한 양의 상관관계\n",
    "## 0은 상관관계가 없음을 나타냄\n",
    "## df.corr()['close'] 를 통해 'close' 컬럼과 다른 모든 컬럼 간의 상관 계수 계산 후 abs() 사용해 절대값 구하기\n",
    "## 절대값 찾는 이유 : 상관 관계의 방향성(음/양)에 관계없이 크기만 고려하기 위함\n",
    "df_corr = df.corr()['close'].abs()\n",
    "print(df_corr)\n",
    "\n",
    "# 2. 상관 관계가 높은 변수명\n",
    "## loc['DE1':'DE77'] 사용해 DE1 부터 DE77 까지의 변수들 중에서 'close' 컬럼과의 상관 계수 계산\n",
    "## 계산된 상관 계수들 중 가장 큰 값을 idxmax() 활용해 컬럼의 이름(변수명) 구하기\n",
    "col = df_corr.loc['DE1':'DE77'].idxmax()\n",
    "print(col)\n",
    "\n",
    "# 3. 2번에서 구한 변수명의 평균값\n",
    "## 2번에서 구한 변수명의 평균값 구한 후 결과값을 반올림하여 소수 넷째 자리까지 출력\n",
    "print(round(df[col].mean(), 4))"
   ]
  },
  {
   "cell_type": "markdown",
   "metadata": {},
   "source": [
    "### ✏️ IQR 을 이용해 이산화탄소(CO2) 이상치 수를 찾으시오\n",
    "\n",
    "- Q1(제1사분위수) : 하위 25%값\n",
    "\n",
    "- Q3(제3사분위수) : 상위 25%값\n",
    "\n",
    "- IQR(사분위수 범위) : IQR = Q3 - Q1\n",
    "\n",
    "- lower(하한선) : Q1 - 1.5 * IQR, 이 값보다 작은 데이터는 이상치로 간주\n",
    "\n",
    "- upper(상한선) : Q3 + 1.5 * IQR, 이 값보다 큰 데이터는 이상치로 간주"
   ]
  },
  {
   "cell_type": "code",
   "execution_count": 5,
   "metadata": {},
   "outputs": [
    {
     "name": "stdout",
     "output_type": "stream",
     "text": [
      "                  Date        CO         CO2         O2\n",
      "0  2024-01-01 00:00:00  0.549671  383.037632  21.248286\n",
      "1  2024-01-01 01:00:00  0.486174  392.362513  21.183324\n",
      "2  2024-01-01 02:00:00  0.564769  385.065473  19.963480\n",
      "3  2024-01-01 03:00:00  0.652303  402.760451  21.479584\n",
      "4  2024-01-01 04:00:00  0.476585  429.929463  19.409917\n"
     ]
    }
   ],
   "source": [
    "import pandas as pd\n",
    "df = pd.read_csv('./data/air_quality.csv')\n",
    "print(df.head())"
   ]
  },
  {
   "cell_type": "code",
   "execution_count": 6,
   "metadata": {},
   "outputs": [
    {
     "name": "stdout",
     "output_type": "stream",
     "text": [
      "383.8502072254157 418.7784333384595 34.92822611304376\n",
      "                     Date        CO         CO2         O2\n",
      "88    2024-01-04 16:00:00  0.447024  603.471090  20.712496\n",
      "155   2024-01-07 11:00:00  0.428565  588.211313  22.013521\n",
      "185   2024-01-08 17:00:00  0.571400  472.852730  21.667225\n",
      "196   2024-01-09 04:00:00  0.411614  607.631613  21.072704\n",
      "228   2024-01-10 12:00:00  0.428470  595.429242  20.319365\n",
      "...                   ...       ...         ...        ...\n",
      "9908  2025-02-16 20:00:00  0.606182  595.889840  21.572550\n",
      "9938  2025-02-18 02:00:00  0.373704  627.451289  20.840325\n",
      "9953  2025-02-18 17:00:00  0.403922  639.521653  19.060725\n",
      "9962  2025-02-19 02:00:00  0.568850  328.099193  21.601589\n",
      "9966  2025-02-19 06:00:00  0.451337  646.129551  20.328131\n",
      "\n",
      "[304 rows x 4 columns]\n",
      "304\n"
     ]
    }
   ],
   "source": [
    "# 1. IQR 계산\n",
    "Q1 = df['CO2'].quantile(0.25)\n",
    "Q3 = df['CO2'].quantile(.75)\n",
    "IQR = Q3 - Q1\n",
    "print(Q1, Q3, IQR)\n",
    "\n",
    "# 2. 상한 및 하한 게산\n",
    "upper = Q3 + 1.5 * IQR\n",
    "lower = Q1 - 1.5 * IQR\n",
    "\n",
    "# 3. 이상치 식별\n",
    "cond1 = df['CO2'] > upper\n",
    "cond2 = df['CO2'] < lower\n",
    "이상치 = df[cond1 | cond2]\n",
    "print(이상치)\n",
    "\n",
    "# 4. 이상치 수\n",
    "## len() 사용해 식별된 이상치 개수 구하기\n",
    "print(len(이상치))"
   ]
  }
 ],
 "metadata": {
  "kernelspec": {
   "display_name": "base",
   "language": "python",
   "name": "python3"
  },
  "language_info": {
   "codemirror_mode": {
    "name": "ipython",
    "version": 3
   },
   "file_extension": ".py",
   "mimetype": "text/x-python",
   "name": "python",
   "nbconvert_exporter": "python",
   "pygments_lexer": "ipython3",
   "version": "3.12.4"
  }
 },
 "nbformat": 4,
 "nbformat_minor": 2
}
