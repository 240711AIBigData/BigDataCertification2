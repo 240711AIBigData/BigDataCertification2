{
 "cells": [
  {
   "cell_type": "markdown",
   "metadata": {},
   "source": [
    "## 작업형 제 2 유형\n",
    "\n",
    "### ✏️ W-mart 매장의 판매 데이터를 기반으로 판매액을 예측하시오.\n",
    "- 제공된 데이터 목록 : mart_train.csv(훈련 데이터), mart_test.csv(평가용 데이터)\n",
    "\n",
    "- 예측할 컬럼 : total(총 판매액)\n",
    "\n",
    "- 학습용 데이터(mart_train.csv)를 이용하여 총 판매액을 예측하는 모델을 만든 후 이를 평가용 데이터(mart_test.csv)에 적용해 얻은 예측값을 다음과 같은 형식의 csv 파일로 생성하시오\n",
    "\n",
    "    - 제출 파일은 다음 1개의 컬럼을 포함해야 한다\n",
    "\n",
    "        - pred : 예측된 총 판매액\n",
    "\n",
    "        - 제출 파일명 : result.csv\n",
    "\n",
    "    - 제출한 모델의 성능은 RMSE(Root Mean Sqaure Error) 평가지표에 따라 채점"
   ]
  },
  {
   "cell_type": "code",
   "execution_count": null,
   "metadata": {},
   "outputs": [
    {
     "name": "stdout",
     "output_type": "stream",
     "text": [
      "(700, 10) (300, 9) \n",
      "\n",
      "  branch       city customer_type  gender            product_line  \\\n",
      "0      A     Yangon        Member  Female       Health and beauty   \n",
      "1      C  Naypyitaw        Normal  Female  Electronic accessories   \n",
      "2      A     Yangon        Normal    Male      Home and lifestyle   \n",
      "\n",
      "              total payment_method       rating time_of_day  day_name  \n",
      "0 823457.2500000000        Ewallet 9.1000000000   afternoon  Saturday  \n",
      "1 120330.0000000000           Cash 9.6000000000     morning    Friday  \n",
      "2 510788.2500000001    Credit card 7.4000000000   afternoon    Sunday   \n",
      "\n",
      "  branch       city customer_type  gender         product_line payment_method  \\\n",
      "0      C  Naypyitaw        Normal  Female  Fashion accessories        Ewallet   \n",
      "1      B   Mandalay        Normal    Male   Food and beverages    Credit card   \n",
      "2      B   Mandalay        Member  Female  Fashion accessories    Credit card   \n",
      "\n",
      "        rating time_of_day   day_name  \n",
      "0 9.6000000000   afternoon   Thursday  \n",
      "1 4.3000000000     evening  Wednesday  \n",
      "2 5.0000000000     evening  Wednesday   \n",
      "\n",
      "<class 'pandas.core.frame.DataFrame'>\n",
      "RangeIndex: 700 entries, 0 to 699\n",
      "Data columns (total 10 columns):\n",
      " #   Column          Non-Null Count  Dtype  \n",
      "---  ------          --------------  -----  \n",
      " 0   branch          700 non-null    object \n",
      " 1   city            700 non-null    object \n",
      " 2   customer_type   700 non-null    object \n",
      " 3   gender          700 non-null    object \n",
      " 4   product_line    700 non-null    object \n",
      " 5   total           700 non-null    float64\n",
      " 6   payment_method  700 non-null    object \n",
      " 7   rating          700 non-null    float64\n",
      " 8   time_of_day     700 non-null    object \n",
      " 9   day_name        700 non-null    object \n",
      "dtypes: float64(2), object(8)\n",
      "memory usage: 54.8+ KB\n",
      "None\n",
      "                   total         rating\n",
      "count     700.0000000000 700.0000000000\n",
      "mean   485078.0175000000   7.0034285714\n",
      "std    364390.7265411937   1.7130784358\n",
      "min     19041.7500000000   4.0000000000\n",
      "25%    200119.5000000000   5.5000000000\n",
      "50%    381874.5000000000   7.0000000000\n",
      "75%    706127.6250000000   8.4250000000\n",
      "max   1563975.0000000002  10.0000000000 \n",
      "\n",
      "       branch    city customer_type gender       product_line payment_method  \\\n",
      "count     700     700           700    700                700            700   \n",
      "unique      3       3             2      2                  6              3   \n",
      "top         A  Yangon        Normal   Male  Sports and travel           Cash   \n",
      "freq      236     236           354    356                127            246   \n",
      "\n",
      "       time_of_day  day_name  \n",
      "count          700       700  \n",
      "unique           3         7  \n",
      "top        evening  Saturday  \n",
      "freq           309       114   \n",
      "\n",
      "       branch    city customer_type  gender            product_line  \\\n",
      "count     300     300           300     300                     300   \n",
      "unique      3       3             2       2                       6   \n",
      "top         A  Yangon        Member  Female  Electronic accessories   \n",
      "freq      104     104           155     157                      58   \n",
      "\n",
      "       payment_method time_of_day  day_name  \n",
      "count             300         300       300  \n",
      "unique              3           3         7  \n",
      "top           Ewallet     evening  Saturday  \n",
      "freq              110         123        50   \n",
      "\n",
      "branch            0\n",
      "city              0\n",
      "customer_type     0\n",
      "gender            0\n",
      "product_line      0\n",
      "total             0\n",
      "payment_method    0\n",
      "rating            0\n",
      "time_of_day       0\n",
      "day_name          0\n",
      "dtype: int64 \n",
      "\n",
      "branch            0\n",
      "city              0\n",
      "customer_type     0\n",
      "gender            0\n",
      "product_line      0\n",
      "payment_method    0\n",
      "rating            0\n",
      "time_of_day       0\n",
      "day_name          0\n",
      "dtype: int64 \n",
      "\n",
      "total\n",
      "283641.7500000000     2\n",
      "263875.5000000000     2\n",
      "415422.0000000000     2\n",
      "326450.2500000000     2\n",
      "130851.0000000000     2\n",
      "                     ..\n",
      "293391.0000000000     1\n",
      "137103.7500000000     1\n",
      "348232.5000000000     1\n",
      "104107.5000000000     1\n",
      "1535625.0000000000    1\n",
      "Name: count, Length: 695, dtype: int64 \n",
      "\n",
      "count       700.0000000000\n",
      "mean     485078.0175000000\n",
      "std      364390.7265411937\n",
      "min       19041.7500000000\n",
      "25%      200119.5000000000\n",
      "50%      381874.5000000000\n",
      "75%      706127.6250000000\n",
      "max     1563975.0000000002\n",
      "Name: total, dtype: float64\n"
     ]
    }
   ],
   "source": [
    "# 1. 문제 정의\n",
    "## W-mart 매장의 판매 데이터를 활용해 총 판매액(total) 예측\n",
    "\n",
    "# 2. 라이브러리 및 데이터 불러오기\n",
    "import pandas as pd\n",
    "train = pd.read_csv('./data/mart_train.csv')\n",
    "test = pd.read_csv('./data/mart_test.csv')\n",
    "\n",
    "# 3. 탐색적 데이터 분석(EDA)\n",
    "## 데이터 크기\n",
    "print(train.shape, test.shape, '\\n')\n",
    "\n",
    "## 데이터 샘플\n",
    "print(train.head(3), '\\n')\n",
    "print(test.head(3), '\\n')\n",
    "\n",
    "## 데이터 자료형(타입)\n",
    "print(train.info())\n",
    "\n",
    "## 기초통계량\n",
    "print(train.describe(), '\\n')\n",
    "\n",
    "## object 자료형의 unique 개수\n",
    "print(train.describe(include='object'), '\\n')\n",
    "print(test.describe(include='object'), '\\n')\n",
    "\n",
    "## 결측치 개수\n",
    "print(train.isnull().sum(), '\\n')\n",
    "print(test.isnull().sum(), '\\n')\n",
    "\n",
    "## total 컬럼의 종류에 따른 개수 : 695개이므로 회귀 문제\n",
    "print(train['total'].value_counts(), '\\n')\n",
    "\n",
    "## total 컬럼 지수표기법이 아닌 일반표기법으로 출력하여 기초통계량 확인\n",
    "pd.set_option('display.float_format', '{:.10f}'.format)\n",
    "print(train['total'].describe())"
   ]
  },
  {
   "cell_type": "code",
   "execution_count": 8,
   "metadata": {},
   "outputs": [
    {
     "name": "stdout",
     "output_type": "stream",
     "text": [
      "(700, 9) (300, 9)\n",
      "(700, 30) (300, 30)\n"
     ]
    }
   ],
   "source": [
    "# 4. 데이터 전처리\n",
    "target = train.pop('total')\n",
    "\n",
    "## 원-핫 인코딩\n",
    "print(train.shape, test.shape)\n",
    "train = pd.get_dummies(train)\n",
    "test = pd.get_dummies(test)\n",
    "print(train.shape, test.shape)"
   ]
  },
  {
   "cell_type": "code",
   "execution_count": 9,
   "metadata": {},
   "outputs": [
    {
     "name": "stdout",
     "output_type": "stream",
     "text": [
      "(560, 30) (140, 30) (560,) (140,)\n"
     ]
    }
   ],
   "source": [
    "# 5. 데이터 분할\n",
    "from sklearn.model_selection import train_test_split\n",
    "X_train, X_val, y_train, y_val = train_test_split(train, target, test_size=0.2, random_state=0)\n",
    "print(X_train.shape, X_val.shape, y_train.shape, y_val.shape)"
   ]
  },
  {
   "cell_type": "code",
   "execution_count": 13,
   "metadata": {},
   "outputs": [
    {
     "name": "stdout",
     "output_type": "stream",
     "text": [
      "Requirement already satisfied: xgboost in c:\\users\\babys\\anaconda3\\lib\\site-packages (2.1.2)\n",
      "Requirement already satisfied: numpy in c:\\users\\babys\\anaconda3\\lib\\site-packages (from xgboost) (1.26.4)\n",
      "Requirement already satisfied: scipy in c:\\users\\babys\\anaconda3\\lib\\site-packages (from xgboost) (1.13.1)\n",
      "선형 회귀 : 374016.3661648522\n",
      "랜덤포레스트 : 385935.56337360526\n",
      "xgboost : 442570.7070483747\n",
      "lightGBM : 404369.88780394377\n"
     ]
    }
   ],
   "source": [
    "# 6. 모델 학습 및 평가\n",
    "from sklearn.linear_model import LinearRegression\n",
    "from sklearn.ensemble import RandomForestRegressor\n",
    "!pip install xgboost\n",
    "import xgboost as xgb\n",
    "import lightgbm as lgb\n",
    "from sklearn.metrics import root_mean_squared_error as rmse     # 0 에 가까울수록 성능 좋은 모델\n",
    "\n",
    "# from sklearn.metrics import mean_squared_error\n",
    "# def rmse(y_true, y_pred):\n",
    "#     return mean_squared_error(y_true, y_pred)**0.5\n",
    "\n",
    "## 선형 회귀\n",
    "lr = LinearRegression()\n",
    "lr.fit(X_train, y_train)\n",
    "pred = lr.predict(X_val)\n",
    "print('선형 회귀 :', rmse(y_val, pred))\n",
    "\n",
    "## 랜덤포레스트\n",
    "rf = RandomForestRegressor(random_state=0)\n",
    "rf.fit(X_train, y_train)\n",
    "pred = rf.predict(X_val)\n",
    "print('랜덤포레스트 :', rmse(y_val, pred))\n",
    "\n",
    "## Xgboost\n",
    "xg = xgb.XGBRegressor(random_state=0)\n",
    "xg.fit(X_train, y_train)\n",
    "pred = xg.predict(X_val)\n",
    "print('xgboost :', rmse(y_val, pred))\n",
    "\n",
    "## lightGBM\n",
    "lg = lgb.LGBMRegressor(random_state=0, verbose=-1)\n",
    "lg.fit(X_train, y_train)\n",
    "pred = lg.predict(X_val)\n",
    "print('lightGBM :', rmse(y_val, pred))"
   ]
  },
  {
   "cell_type": "code",
   "execution_count": 15,
   "metadata": {},
   "outputs": [
    {
     "name": "stdout",
     "output_type": "stream",
     "text": [
      "                 pred\n",
      "0   485484.5740277334\n",
      "1   474683.4165377702\n",
      "2   486669.1574532854\n",
      "3   426407.8222290425\n",
      "4   599942.9042138031\n",
      "..                ...\n",
      "295 501132.5887398273\n",
      "296 554273.9221195823\n",
      "297 540502.7549631428\n",
      "298 550704.8821613132\n",
      "299 506543.6684025062\n",
      "\n",
      "[300 rows x 1 columns]\n"
     ]
    }
   ],
   "source": [
    "# 7. 예측 및 결과 파일 생성\n",
    "pred = lr.predict(test)\n",
    "submit = pd.DataFrame({'pred':pred})\n",
    "submit.to_csv('result.csv', index=False)\n",
    "\n",
    "print(pd.read_csv('result.csv'))     # 회귀 문제인 경우 제출 양식에 있는 샘플이 정수형이라서 소수점 처리하지 않아도 ok"
   ]
  },
  {
   "cell_type": "code",
   "execution_count": null,
   "metadata": {},
   "outputs": [
    {
     "name": "stdout",
     "output_type": "stream",
     "text": [
      "(560, 9) (140, 9) (560,) (140,)\n",
      "371070.13447345496\n"
     ]
    }
   ],
   "source": [
    "# 8-1. 성능개선\n",
    "## 원-핫 인코딩(374016.3661648522) -> 레이블 인코딩(371070.13447345496) 이므로 레이블 인코딩 채택\n",
    "\n",
    "# 데이터 불러오기\n",
    "import pandas as pd\n",
    "train = pd.read_csv('./data/mart_train.csv')\n",
    "test = pd.read_csv('./data/mart_test.csv')\n",
    "\n",
    "# target 분리\n",
    "target = train.pop('total')\n",
    "\n",
    "# 레이블 인코딩\n",
    "from sklearn.preprocessing import LabelEncoder\n",
    "cols = train.select_dtypes(include='object').columns\n",
    "for col in cols:\n",
    "    le = LabelEncoder()\n",
    "    train[col] = le.fit_transform(train[col])\n",
    "    test[col] = le.transform(test[col])\n",
    "\n",
    "# 검증 데이터 분할\n",
    "from sklearn.model_selection import train_test_split\n",
    "X_train, X_val, y_train, y_val = train_test_split(train, target, test_size=0.2, random_state=0)\n",
    "print(X_train.shape, X_val.shape, y_train.shape, y_val.shape)\n",
    "\n",
    "# 모델 학습 및 평가\n",
    "from sklearn.linear_model import LinearRegression\n",
    "from sklearn.metrics import root_mean_squared_error as rmse\n",
    "lr = LinearRegression()\n",
    "lr.fit(X_train, y_train)\n",
    "pred = lr.predict(X_val)\n",
    "print(rmse(y_val, pred))"
   ]
  },
  {
   "cell_type": "code",
   "execution_count": 20,
   "metadata": {},
   "outputs": [
    {
     "name": "stdout",
     "output_type": "stream",
     "text": [
      "(560, 9) (140, 9) (560,) (140,)\n",
      "371070.13447345496\n"
     ]
    }
   ],
   "source": [
    "# 8-2. 성능개선\n",
    "## 스케일링 전(371070.13447345496) -> 스케일링 후(371070.1344734549) 차이 없으므로 생략가능\n",
    "\n",
    "# 데이터 불러오기\n",
    "import pandas as pd\n",
    "train = pd.read_csv('./data/mart_train.csv')\n",
    "test = pd.read_csv('./data/mart_test.csv')\n",
    "\n",
    "# target 분리\n",
    "target = train.pop('total')\n",
    "\n",
    "# # 스케일링\n",
    "# from sklearn.preprocessing import StandardScaler    # 371070.13447345496\n",
    "# from sklearn.preprocessing import MinMaxScaler      # 371070.1344734549\n",
    "# from sklearn.preprocessing import RobustScaler      # 371070.1344734549\n",
    "# scaler = RobustScaler()\n",
    "# cols = train.select_dtypes(exclude='object').columns\n",
    "# train[cols] = scaler.fit_transform(train[cols])\n",
    "# test[cols] = scaler.transform(test[cols])\n",
    "\n",
    "# 레이블 인코딩\n",
    "from sklearn.preprocessing import LabelEncoder\n",
    "cols = train.select_dtypes(include='object').columns\n",
    "for col in cols:\n",
    "    le = LabelEncoder()\n",
    "    train[col] = le.fit_transform(train[col])\n",
    "    test[col] = le.transform(test[col])\n",
    "\n",
    "# 검증 데이터 분할\n",
    "from sklearn.model_selection import train_test_split\n",
    "X_train, X_val, y_train, y_val = train_test_split(train, target, test_size=0.2, random_state=0)\n",
    "print(X_train.shape, X_val.shape, y_train.shape, y_val.shape)\n",
    "\n",
    "# 모델 학습 및 평가\n",
    "from sklearn.linear_model import LinearRegression\n",
    "from sklearn.metrics import root_mean_squared_error as rmse\n",
    "lr = LinearRegression()\n",
    "lr.fit(X_train, y_train)\n",
    "pred = lr.predict(X_val)\n",
    "print(rmse(y_val, pred))"
   ]
  },
  {
   "cell_type": "code",
   "execution_count": 21,
   "metadata": {},
   "outputs": [
    {
     "name": "stdout",
     "output_type": "stream",
     "text": [
      "               pred\n",
      "0 511234.1312016704\n",
      "1 430822.6320119977\n",
      "2 490155.0304542824\n",
      "3 418695.6750565688\n",
      "4 563949.9897618481\n"
     ]
    }
   ],
   "source": [
    "# 9. 최종 제출 파일\n",
    "pred = lr.predict(test)\n",
    "submit = pd.DataFrame({'pred':pred})\n",
    "submit.to_csv('result.csv', index=False)\n",
    "\n",
    "print(pd.read_csv('result.csv').head())"
   ]
  }
 ],
 "metadata": {
  "kernelspec": {
   "display_name": "base",
   "language": "python",
   "name": "python3"
  },
  "language_info": {
   "codemirror_mode": {
    "name": "ipython",
    "version": 3
   },
   "file_extension": ".py",
   "mimetype": "text/x-python",
   "name": "python",
   "nbconvert_exporter": "python",
   "pygments_lexer": "ipython3",
   "version": "3.12.4"
  }
 },
 "nbformat": 4,
 "nbformat_minor": 2
}
