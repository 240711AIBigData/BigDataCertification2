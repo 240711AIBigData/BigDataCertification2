{
 "cells": [
  {
   "cell_type": "markdown",
   "metadata": {},
   "source": [
    "# 제 8회 기출 문제\n",
    "\n",
    "## 작업형 제 1 유형\n",
    "\n",
    "### ✏️ (1) 대륙(continent)별 맥주 소비량('beer_servings')의 평균을 계산하고, 평균이 가장 큰 대륙을 찾으시오.<br>✏️ (2) 1번에서 찾은 대륙에서 맥주 소비량이 5번째로 많은 국가('country')의 맥주 소비량을 구하시오."
   ]
  },
  {
   "cell_type": "code",
   "execution_count": 1,
   "metadata": {},
   "outputs": [
    {
     "name": "stdout",
     "output_type": "stream",
     "text": [
      "       country  beer_servings  spirit_servings  wine_servings  \\\n",
      "0  Afghanistan              0                0              0   \n",
      "1      Albania             89              132             54   \n",
      "2      Algeria             25                0             14   \n",
      "3      Andorra            245              138            312   \n",
      "4       Angola            217               57             45   \n",
      "\n",
      "   total_litres_of_pure_alcohol continent  \n",
      "0                           0.0      Asia  \n",
      "1                           4.9    Europe  \n",
      "2                           0.7    Africa  \n",
      "3                          12.4    Europe  \n",
      "4                           5.9    Africa  \n"
     ]
    }
   ],
   "source": [
    "import pandas as pd\n",
    "df = pd.read_csv('./data/drinks.csv')\n",
    "print(df.head())"
   ]
  },
  {
   "cell_type": "code",
   "execution_count": null,
   "metadata": {},
   "outputs": [
    {
     "name": "stdout",
     "output_type": "stream",
     "text": [
      "continent\n",
      "Europe    193.777778\n",
      "Name: beer_servings, dtype: float64\n",
      "정답 : Europe \n",
      "\n",
      "            country  beer_servings  spirit_servings  wine_servings  \\\n",
      "45   Czech Republic            361              170            134   \n",
      "65          Germany            346              117            175   \n",
      "135          Poland            343              215             56   \n",
      "98        Lithuania            343              244             56   \n",
      "81          Ireland            313              118            165   \n",
      "\n",
      "     total_litres_of_pure_alcohol continent  \n",
      "45                           11.8    Europe  \n",
      "65                           11.3    Europe  \n",
      "135                          10.9    Europe  \n",
      "98                           12.9    Europe  \n",
      "81                           11.4    Europe   \n",
      "\n",
      "정답 : 313\n"
     ]
    }
   ],
   "source": [
    "# 1. 대륙별 맥주 소비량의 평균\n",
    "## groupby() 를 사용해 대륙별로 그룹핑하고, 각 그룹(대륙)별 맥주 소비량의 평균 계산\n",
    "## idxmax() 는 시리즈에서 가장 큰 값의 인덱스 반환 => 맥주 소비량 평균이 가장 큰 대륙의 이름 반환\n",
    "continent_mean = df.groupby('continent')['beer_servings'].mean()\n",
    "print(continent_mean)\n",
    "top_continent = continent_mean.idxmax()\n",
    "print('정답 :', top_continent, '\\n')\n",
    "\n",
    "# 2. 국가별 맥주 소비량\n",
    "## 해당 대륙의 데이터만 필터링하고, 맥주 소비량을 기준으로 내림차순 정렬\n",
    "## iloc 를 사용해 맥주 소비량이 5번째로 많은 국가의 맥주 소비량 구하기\n",
    "cond = df['continent'] == top_continent\n",
    "df = df[cond]\n",
    "\n",
    "df = df.sort_values('beer_servings', ascending=False)\n",
    "print(df.head(), '\\n')\n",
    "print('정답 :', df.iloc[4, 1])"
   ]
  },
  {
   "cell_type": "markdown",
   "metadata": {},
   "source": [
    "### ✏️ (1) '관광객비율'이 두 번째로 높은 국가의 '사업' 방문객 수를 a 라고 정의하시오.<br>✏️ (2) '관광'이 두 번째로 높은 국가의 '공무' 방문객 수를 b 라고 정의하시오.<br>✏️ (3) a 와 b 의 합을 구하시오\n",
    "- 방문객 합계 = 관광 + 공무 + 사업 + 기타\n",
    "\n",
    "- 관광객 비율 = 관광 / 방문객 합계"
   ]
  },
  {
   "cell_type": "code",
   "execution_count": 14,
   "metadata": {},
   "outputs": [
    {
     "name": "stdout",
     "output_type": "stream",
     "text": [
      "    나라    관광   공무   사업   기타\n",
      "0  국가1  1184  270  380   55\n",
      "1  국가2  1059  184  267   86\n",
      "2  국가3  1129  168  261   50\n",
      "3  국가4   692  106  214  125\n",
      "4  국가5  1335  296  296   84\n"
     ]
    }
   ],
   "source": [
    "import pandas as pd\n",
    "df = pd.read_csv('./data/tourist.csv')\n",
    "print(df.head())"
   ]
  },
  {
   "cell_type": "code",
   "execution_count": null,
   "metadata": {},
   "outputs": [
    {
     "name": "stdout",
     "output_type": "stream",
     "text": [
      "    나라    관광   공무   사업   기타  방문객합계     관광객비율\n",
      "0  국가1  1184  270  380   55   1889  0.626787\n",
      "1  국가2  1059  184  267   86   1596  0.663534\n",
      "2  국가3  1129  168  261   50   1608  0.702114\n",
      "3  국가4   692  106  214  125   1137  0.608619\n",
      "4  국가5  1335  296  296   84   2011  0.663849\n",
      "203 238\n",
      "정답(a + b) : 441\n"
     ]
    }
   ],
   "source": [
    "# [풀이1]\n",
    "\n",
    "# 1. 방문객 합계 및 관광객 비율 계산\n",
    "## 방문객 합계를 계산한 후 '관광객비율' 계산\n",
    "df['방문객합계'] = df['관광'] + df['공무'] + df['사업'] + df['기타']\n",
    "df['관광객비율'] = df['관광'] / df['방문객합계']\n",
    "print(df.head())\n",
    "\n",
    "# 2. 조건에 맞는 값 찾기\n",
    "## '관광객비율'이 두 번째로 높은 '사업' 방문객 수를 a로 정의하고, '관광'이 두 번째로 높은 국가의 '공무' 방문객 수를 b로 정의\n",
    "a = df.sort_values('관광객비율', ascending=False).iloc[1, 3]\n",
    "b = df.sort_values('관광', ascending=False).iloc[1]['공무']\n",
    "\n",
    "print(a, b)\n",
    "print('정답(a + b) :', a + b)"
   ]
  },
  {
   "cell_type": "code",
   "execution_count": 18,
   "metadata": {},
   "outputs": [
    {
     "name": "stdout",
     "output_type": "stream",
     "text": [
      "441\n"
     ]
    }
   ],
   "source": [
    "# [풀이2]\n",
    "## sort_values 로 두 번째로 높은 국가의 방문객 수를 찾는 대신 nlargest 사용 가능\n",
    "## nlargest : 특정 열에서 상위 n개의 값을 가진 행 반환\n",
    "\n",
    "# 1. 방문객 합계 및 관광객 비율 계산\n",
    "df['방문객합계'] = df['관광'] + df['공무'] + df['사업'] + df['기타']\n",
    "df['관광객비율'] = df['관광'] / df['방문객합계']\n",
    "\n",
    "# 2. 조건에 맞는 값 찾기\n",
    "a = df.nlargest(2, '관광객비율').iloc[1]['사업']\n",
    "b = df.nlargest(2, '관광').iloc[1]['공무']\n",
    "\n",
    "print(a + b)"
   ]
  },
  {
   "cell_type": "markdown",
   "metadata": {},
   "source": [
    "### ✏️ (1) 주어진 데이터에서 'co'와 'nmhc' 컬럼을 각각 Min-Max 스케일링하시오.<br>✏️ (2) 스케일링된 'co', 'nmhc' 컬럼의 표준편차를 각각 구하시오.<br>✏️ (3) 'co' 컬럼의 표준편차에서 'nmhc' 컬럼의 표준편차를 뺀 값을 소수점 3자리로 반올림하여 구하시오.\n",
    "- Min-Max 스케일링 = (X - min_X) / (max_X - min_X)\n",
    "\n",
    "- X 변수의 최솟값 : min_X\n",
    "\n",
    "- X 변수의 최댓값 : max_X"
   ]
  },
  {
   "cell_type": "code",
   "execution_count": 20,
   "metadata": {},
   "outputs": [
    {
     "name": "stdout",
     "output_type": "stream",
     "text": [
      "  sample   co  nmhc  etc\n",
      "0    샘플1   79    54   31\n",
      "1    샘플2   84    57   58\n",
      "2    샘플3  109    74  113\n",
      "3    샘플4   15    77   21\n",
      "4    샘플5   65    77  115\n"
     ]
    }
   ],
   "source": [
    "import pandas as pd\n",
    "df = pd.read_csv('./data/chem.csv')\n",
    "print(df.head())"
   ]
  },
  {
   "cell_type": "code",
   "execution_count": null,
   "metadata": {},
   "outputs": [
    {
     "name": "stdout",
     "output_type": "stream",
     "text": [
      "  sample   co  nmhc  etc  co_scaler  nmhc_scaler  co_scaled  nmhc_scaled\n",
      "0    샘플1   79    54   31   0.680851     0.500000   0.680851     0.500000\n",
      "1    샘플2   84    57   58   0.734043     0.534091   0.734043     0.534091\n",
      "2    샘플3  109    74  113   1.000000     0.727273   1.000000     0.727273\n",
      "3    샘플4   15    77   21   0.000000     0.761364   0.000000     0.761364\n",
      "4    샘플5   65    77  115   0.531915     0.761364   0.531915     0.761364 \n",
      "\n",
      "0.2856516497116944 0.3030617020578397 \n",
      "\n",
      "-0.017\n"
     ]
    }
   ],
   "source": [
    "# [풀이1]\n",
    "\n",
    "# 1. Min-Max 스케일링(데이터프레임으로 만들기)\n",
    "## 'co'와 'nmhc' 컬럼을 Min-Max 스케일링해 'co_scaled' 와 'nmhc_scaled' 컬럼 생성\n",
    "## scaler.fit_transform() 의 입력값은 데이터프레임이므로 df[['co']] 와 같이 넣기\n",
    "## 출력은 넘파이 배열이므로 df['co_scaled']와 같이 데이터프레임의 새로운 컬럼으로 할당\n",
    "from sklearn.preprocessing import MinMaxScaler\n",
    "scaler = MinMaxScaler()\n",
    "df['co_scaled'] = scaler.fit_transform(df[['co']])\n",
    "df['nmhc_scaled'] = scaler.fit_transform(df[['nmhc']])\n",
    "print(df.head(), '\\n')\n",
    "\n",
    "# 2. 표준편차 계산(판다스 표준편차)\n",
    "## 스케일링된 'co_scaled'와 'nmhc_scaled' 컬럼의 표준편차를 판다스의 std() 함수를 사용해 계산\n",
    "co_std = df['co_scaled'].std()\n",
    "nmhc_std = df['nmhc_scaled'].std()\n",
    "print(co_std, nmhc_std, '\\n')\n",
    "\n",
    "# 3. 표준편차 차이 계산 및 반올림\n",
    "## 'co_scaled' 컬럼의 표준편차에서 'nmhc_scaled' 컬럼의 표준편차를 뺀 값을 계산\n",
    "## round() 함수를 사용해 결과를 소수점 3자리로 반올림하여 출력\n",
    "std_diff = round(co_std - nmhc_std, 3)\n",
    "print(std_diff)"
   ]
  },
  {
   "cell_type": "code",
   "execution_count": 26,
   "metadata": {},
   "outputs": [
    {
     "name": "stdout",
     "output_type": "stream",
     "text": [
      "0.2842198028519168 0.3015425862157\n",
      "-0.017\n"
     ]
    }
   ],
   "source": [
    "# [풀이2]\n",
    "## 만약 scaler.fit_transform(df[['co']]) 의 결과를 데이터프레임이 아닌 변수에 담는다면 이는 numpy 배열 형태가 됨\n",
    "## 따라서 이 변수의 표준편차를 구하면 numpy 의 표준편차 계산 방식이 적용됨\n",
    "## 판다스와 넘파이의 표준편차 계산 방식은 분모 값에서 차이가 있음\n",
    "##  - 판다스 : 기본적으로 샘플 표준편차(Sample Standard Deviation)를 계산, ddof=1(자유도 1)을 사용하고 분모는 n-1\n",
    "##  - 넘파이 : 기본적으로 모집단 표준편차(Population Standard Deviation)를 계산, ddof=0(자유도 0)을 사용하고 분모는 n\n",
    "## 단, 이 문제에서는 두 컬럼의 표준편차 차이를 계산했기 때문에 판다스와 넘파이의 표준편차 결과가 동일하게 나타낼 수 있음\n",
    "## 그러니 각각의 계산은 다를 수 있으므로 표준편차 계산 시 판다스 방식을 사용하는 것을 추천\n",
    "from sklearn.preprocessing import MinMaxScaler\n",
    "\n",
    "# 1. Min-Max 스케일링(transform 의 결과는 넘파이)\n",
    "scaler = MinMaxScaler()\n",
    "co_scaled = scaler.fit_transform(df[['co']])\n",
    "nmhc_scaled = scaler.fit_transform(df[['nmhc']])\n",
    "\n",
    "# 2. 표준편차 계산(넘파이 표준편차)\n",
    "co_std = co_scaled.std()\n",
    "nmhc_std = nmhc_scaled.std()\n",
    "print(co_std, nmhc_std)\n",
    "\n",
    "# 3. 표준편차 차이 계산 및 반올림\n",
    "std_diff = round(co_std - nmhc_std, 3)\n",
    "print(std_diff)"
   ]
  }
 ],
 "metadata": {
  "kernelspec": {
   "display_name": "base",
   "language": "python",
   "name": "python3"
  },
  "language_info": {
   "codemirror_mode": {
    "name": "ipython",
    "version": 3
   },
   "file_extension": ".py",
   "mimetype": "text/x-python",
   "name": "python",
   "nbconvert_exporter": "python",
   "pygments_lexer": "ipython3",
   "version": "3.12.4"
  }
 },
 "nbformat": 4,
 "nbformat_minor": 2
}
