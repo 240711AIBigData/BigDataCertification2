{
 "cells": [
  {
   "cell_type": "markdown",
   "metadata": {},
   "source": [
    "## 작업형 제 3 유형\n",
    "\n",
    "### ✏️ [로지스틱 회귀]\n",
    "\n",
    "#### [1-1] 주어진 데이터에서 로지스틱 회귀 분석을 수행해 유의확률(p-value)이 0.05 이상인 유의하지 않은 독립변수의 개수를 구하시오.\n",
    "\n",
    "#### [1-2] 유의확률(p-value)이 0.05 미만인 유의한 변수만을 사용해 다시 로지스틱 회귀 분석을 수행하시오. 이 회귀식의 유의한 회귀 계수(상수항 포함)의 합계를 구하시오. (반올림하여 소수 셋째 자리까지 계산)\n",
    "\n",
    "#### [1-3] 문제 1-2에서 수행한 로지스틱 회귀식에서 'DataUsage' 변수가 5만큼 증가할 때 오즈비(Odds Ratio)를 구하시오. (반올림하여 소수 셋째 자리까지 계산)"
   ]
  },
  {
   "cell_type": "code",
   "execution_count": 1,
   "metadata": {},
   "outputs": [
    {
     "name": "stdout",
     "output_type": "stream",
     "text": [
      "   Churn  AccountWeeks  ContractRenewal  DataPlan  DataUsage  CustServCalls  \\\n",
      "0      0            51                1         0        1.0              0   \n",
      "1      1            61                1         0       -0.2              2   \n",
      "2      0            84                1         1       -1.3              2   \n",
      "3      0            65                1         0        1.0              1   \n",
      "4      0           154                1         0        1.0              0   \n",
      "\n",
      "   DayMins  DayCalls  MonthlyCharge  OverageFee  RoamMins  \n",
      "0    303.7        83           72.5         9.3       3.8  \n",
      "1    194.8        89           66.3        10.9      13.3  \n",
      "2    157.6       109           35.7        10.0      12.5  \n",
      "3    223.1       129           64.2         9.1       5.1  \n",
      "4    137.0       115           40.0         7.7       4.6  \n"
     ]
    }
   ],
   "source": [
    "import pandas as pd\n",
    "df = pd.read_csv('./data/churn.csv')\n",
    "print(df.head())"
   ]
  },
  {
   "cell_type": "code",
   "execution_count": null,
   "metadata": {},
   "outputs": [
    {
     "name": "stdout",
     "output_type": "stream",
     "text": [
      "Optimization terminated successfully.\n",
      "         Current function value: 0.393603\n",
      "         Iterations 6\n",
      "                           Logit Regression Results                           \n",
      "==============================================================================\n",
      "Dep. Variable:                  Churn   No. Observations:                 1000\n",
      "Model:                          Logit   Df Residuals:                      989\n",
      "Method:                           MLE   Df Model:                           10\n",
      "Date:                Fri, 29 Nov 2024   Pseudo R-squ.:                 0.02367\n",
      "Time:                        01:20:15   Log-Likelihood:                -393.60\n",
      "converged:                       True   LL-Null:                       -403.14\n",
      "Covariance Type:            nonrobust   LLR p-value:                   0.03924\n",
      "===================================================================================\n",
      "                      coef    std err          z      P>|z|      [0.025      0.975]\n",
      "-----------------------------------------------------------------------------------\n",
      "Intercept          -2.2146      0.913     -2.425      0.015      -4.005      -0.424\n",
      "AccountWeeks        0.0026      0.002      1.114      0.265      -0.002       0.007\n",
      "ContractRenewal     0.1603      0.325      0.493      0.622      -0.477       0.798\n",
      "DataPlan            0.2874      0.198      1.454      0.146      -0.100       0.675\n",
      "DataUsage          -0.1698      0.072     -2.343      0.019      -0.312      -0.028\n",
      "CustServCalls       0.1374      0.074      1.858      0.063      -0.008       0.282\n",
      "DayMins            -0.0036      0.002     -2.092      0.036      -0.007      -0.000\n",
      "DayCalls            0.0023      0.004      0.526      0.599      -0.006       0.011\n",
      "MonthlyCharge       0.0042      0.005      0.778      0.436      -0.006       0.015\n",
      "OverageFee         -0.0127      0.036     -0.352      0.725      -0.084       0.058\n",
      "RoamMins            0.0098      0.034      0.292      0.770      -0.056       0.076\n",
      "===================================================================================\n",
      "정답 : 8\n"
     ]
    }
   ],
   "source": [
    "# [1-1]\n",
    "# 1. 로지스틱 회귀 분석을 위한 포뮬라 생성\n",
    "formula = 'Churn ~ AccountWeeks + ContractRenewal + DataPlan + DataUsage + CustServCalls \\\n",
    "            + DayMins + DayCalls + MonthlyCharge + OverageFee + RoamMins'\n",
    "\n",
    "# 2. 로지스틱 회귀 모델 생성 및 학습\n",
    "from statsmodels.formula.api import logit\n",
    "model = logit(formula, data=df).fit()\n",
    "\n",
    "# 3. 유의하지 않은 독립변수의 개수 구하기\n",
    "## 각 독립변수의 p-value 를 확인해 p-value 가 0.05 보다 큰(즉, 유의하지 않은) 변수의 개수 파악\n",
    "## Intercept 항은 독립변수가 아니므로 제외\n",
    "print(model.summary())\n",
    "print('정답 :', sum(model.pvalues[1:] > 0.05))    # Intercept (model.pvalues[0]) 는 독립변수가 아니므로 제외"
   ]
  },
  {
   "cell_type": "code",
   "execution_count": null,
   "metadata": {},
   "outputs": [
    {
     "name": "stdout",
     "output_type": "stream",
     "text": [
      "Intercept    True\n",
      "DataUsage    True\n",
      "DayMins      True\n",
      "dtype: bool\n",
      "Optimization terminated successfully.\n",
      "         Current function value: 0.397599\n",
      "         Iterations 6\n",
      "                           Logit Regression Results                           \n",
      "==============================================================================\n",
      "Dep. Variable:                  Churn   No. Observations:                 1000\n",
      "Model:                          Logit   Df Residuals:                      997\n",
      "Method:                           MLE   Df Model:                            2\n",
      "Date:                Fri, 29 Nov 2024   Pseudo R-squ.:                 0.01375\n",
      "Time:                        01:24:22   Log-Likelihood:                -397.60\n",
      "converged:                       True   LL-Null:                       -403.14\n",
      "Covariance Type:            nonrobust   LLR p-value:                  0.003908\n",
      "==============================================================================\n",
      "                 coef    std err          z      P>|z|      [0.025      0.975]\n",
      "------------------------------------------------------------------------------\n",
      "Intercept     -1.0395      0.303     -3.434      0.001      -1.633      -0.446\n",
      "DataUsage     -0.1697      0.071     -2.376      0.017      -0.310      -0.030\n",
      "DayMins       -0.0039      0.002     -2.264      0.024      -0.007      -0.001\n",
      "==============================================================================\n",
      "정답 : -1.213\n"
     ]
    }
   ],
   "source": [
    "# [1-2]\n",
    "# 1. 유의한 변수 선택\n",
    "## 이전 회귀 분석 결과에서 유의확률(p-value)이 0.05 미만인 유의한 변수만 선택\n",
    "## 유의한 변수들만 포함한 새로운 포뮬라 생성\n",
    "print(model.pvalues < 0.05)\n",
    "formula = 'Churn ~ DataUsage + DayMins'\n",
    "\n",
    "# 2. 로지스틱 회귀\n",
    "## 새로운 포뮬라를 사용해 다시 로지스틱 회귀 분석 수행\n",
    "from statsmodels.formula.api import logit\n",
    "model = logit(formula, data=df).fit()\n",
    "\n",
    "# 3. 유의한 회귀 계수 합계\n",
    "## 상수항(Intercept, 절편)을 포함한 유의한 회귀 계수의 합계 계산\n",
    "print(model.summary())\n",
    "print('정답 :', round(sum(model.params), 3))"
   ]
  },
  {
   "cell_type": "code",
   "execution_count": null,
   "metadata": {},
   "outputs": [
    {
     "name": "stdout",
     "output_type": "stream",
     "text": [
      "정답 : 0.428\n"
     ]
    }
   ],
   "source": [
    "# [1-3]\n",
    "# 1. 변수의 회귀 계수 추출\n",
    "## 'DataUsage' 변수의 회귀 계수 추출\n",
    "coef = model.params['DataUsage']\n",
    "\n",
    "# 2. 오즈비 계산\n",
    "## 'DataUsage' 변수가 5만큼 증가할 때의 오즈비는 exp(coef * 5) 로 계산\n",
    "## np.exp(x)는 자연로그의 밑 e의 거듭제곱 𝑒^𝑥 를 계산하는 함수\n",
    "## np.exp(coef * 5)=e^(coef*5)\n",
    "import numpy as np\n",
    "print('정답 :', round(np.exp(coef * 5), 3))"
   ]
  },
  {
   "cell_type": "markdown",
   "metadata": {},
   "source": [
    "### ✏️ [다중 선형 회귀]\n",
    "\n",
    "#### [2-1] 주어진 데이터를 이용해 종속변수(PIQ)와 독립변수(Brain, Height, Weight)로 다중 선형 회귀 분석을 수행<br>이때 유의확률(p-value)이 가장 작은 변수의 회귀 계수 값을 구하시오. (반올림하여 소수 셋째 자리까지 계산)\n",
    "\n",
    "#### [2-2] 문제 2-1 에 적합한 모델의 결정 계수(R-squared) 값을 구하시오. (반올림하여 소수 둘째 자리까지 계산)\n",
    "\n",
    "#### [2-3] 뇌 크기(Brain)가 90, 키(Height)가 70, 몸무게(Weight)가 150일 때의 PIQ 를 예측하시오. (반올림하여 정수로 계산)"
   ]
  },
  {
   "cell_type": "code",
   "execution_count": 9,
   "metadata": {},
   "outputs": [
    {
     "name": "stdout",
     "output_type": "stream",
     "text": [
      "   PIQ  Brain  Height  Weight\n",
      "0  132  85.78    62.5     127\n",
      "1   96  86.54    68.0     135\n",
      "2   84  90.49    66.3     134\n",
      "3  134  79.06    62.0     122\n",
      "4   86  88.91    70.0     180\n"
     ]
    }
   ],
   "source": [
    "import pandas as pd\n",
    "df = pd.read_csv('./data/piq.csv')\n",
    "print(df.head())"
   ]
  },
  {
   "cell_type": "code",
   "execution_count": null,
   "metadata": {},
   "outputs": [
    {
     "name": "stdout",
     "output_type": "stream",
     "text": [
      "                            OLS Regression Results                            \n",
      "==============================================================================\n",
      "Dep. Variable:                    PIQ   R-squared:                       0.370\n",
      "Model:                            OLS   Adj. R-squared:                  0.329\n",
      "Method:                 Least Squares   F-statistic:                     9.024\n",
      "Date:                Fri, 29 Nov 2024   Prob (F-statistic):           8.25e-05\n",
      "Time:                        01:49:44   Log-Likelihood:                -217.27\n",
      "No. Observations:                  50   AIC:                             442.5\n",
      "Df Residuals:                      46   BIC:                             450.2\n",
      "Df Model:                           3                                         \n",
      "Covariance Type:            nonrobust                                         \n",
      "==============================================================================\n",
      "                 coef    std err          t      P>|t|      [0.025      0.975]\n",
      "------------------------------------------------------------------------------\n",
      "Intercept     74.5114     50.564      1.474      0.147     -27.269     176.292\n",
      "Brain          2.3431      0.456      5.141      0.000       1.426       3.261\n",
      "Height        -2.6444      1.064     -2.485      0.017      -4.786      -0.503\n",
      "Weight         0.0406      0.167      0.243      0.809      -0.296       0.377\n",
      "==============================================================================\n",
      "Omnibus:                        8.608   Durbin-Watson:                   2.386\n",
      "Prob(Omnibus):                  0.014   Jarque-Bera (JB):                2.629\n",
      "Skew:                           0.041   Prob(JB):                        0.269\n",
      "Kurtosis:                       1.880   Cond. No.                     3.48e+03\n",
      "==============================================================================\n",
      "\n",
      "Notes:\n",
      "[1] Standard Errors assume that the covariance matrix of the errors is correctly specified.\n",
      "[2] The condition number is large, 3.48e+03. This might indicate that there are\n",
      "strong multicollinearity or other numerical problems.\n",
      "Brain\n",
      "정답 : 2.343\n"
     ]
    }
   ],
   "source": [
    "# [2-1]\n",
    "# 1. 다중 선형 회귀 분석\n",
    "## 주어진 데이터를 사용해 종속변수(PIQ)와 독립변수(Brain, Height, Weight)로 회귀 모델을 생성하고 적합(fit) 시키기\n",
    "from statsmodels.formula.api import ols\n",
    "model = ols('PIQ ~ Brain + Height + Weight', data=df).fit()\n",
    "\n",
    "# 2. 가장 작은 p-value 를 가진 변수의 회귀 계수 찾기\n",
    "## 회귀 분석 결과에서 유의확률(p-value)이 가장 작은 변수를 찾고, 해당 변수의 회귀 계수 값을 추출해 출력\n",
    "print(model.summary())\n",
    "id = model.pvalues.idxmin()\n",
    "print(id)\n",
    "print('정답 :', round(model.params[id], 3))"
   ]
  },
  {
   "cell_type": "code",
   "execution_count": null,
   "metadata": {},
   "outputs": [
    {
     "name": "stdout",
     "output_type": "stream",
     "text": [
      "정답 : 0.37\n"
     ]
    }
   ],
   "source": [
    "# [2-2]\n",
    "# 결정 계수(R-squared) 값\n",
    "## model.rsquared 사용해 모델의 결정 계수 값 추출 가능\n",
    "## 결정 계수(R-squared)는 모델이 종속변수의 변동을 얼마나 잘 설명하는지를 나타내는 지표\n",
    "print('정답 :',round(model.rsquared, 2))"
   ]
  },
  {
   "cell_type": "code",
   "execution_count": null,
   "metadata": {},
   "outputs": [
    {
     "name": "stdout",
     "output_type": "stream",
     "text": [
      "0    106.38302\n",
      "dtype: float64\n",
      "정답 : 106\n"
     ]
    }
   ],
   "source": [
    "# [2-3]\n",
    "# 1. 새로운 데이터 생성\n",
    "## pandas 라이브러리를 사용해 새로운 데이터 생성\n",
    "new_data = pd.DataFrame({\n",
    "    'Brain' : [90],\n",
    "    'Height' : [70],\n",
    "    'Weight' : [150]\n",
    "})\n",
    "\n",
    "# 2. PIQ 예측\n",
    "## model.predict() 함수를 사용해 생성된 새로운 데이터의 PIQ 값 예측\n",
    "pred = model.predict(new_data)\n",
    "print(pred)\n",
    "print('정답 :', round(pred[0]))"
   ]
  }
 ],
 "metadata": {
  "kernelspec": {
   "display_name": "base",
   "language": "python",
   "name": "python3"
  },
  "language_info": {
   "codemirror_mode": {
    "name": "ipython",
    "version": 3
   },
   "file_extension": ".py",
   "mimetype": "text/x-python",
   "name": "python",
   "nbconvert_exporter": "python",
   "pygments_lexer": "ipython3",
   "version": "3.12.4"
  }
 },
 "nbformat": 4,
 "nbformat_minor": 2
}
