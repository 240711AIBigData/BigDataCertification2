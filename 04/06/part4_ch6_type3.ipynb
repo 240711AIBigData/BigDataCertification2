{
 "cells": [
  {
   "cell_type": "markdown",
   "metadata": {},
   "source": [
    "## 작업형 제 3유형\n",
    "\n",
    "### ✏️ 감기약 위약(플라시보)을 투여받은 환자의 부작용은 항암약 위약(플라시보)을 투여받은 환자의 부작용과 차이가 있는가?\n",
    "\n",
    "- 효과가 없는 위약(가짜약)을 환자에게 제안하지만, 환자의 심리적인 요인에 의해 병세가 호전되기도 하고 부작용을 느끼기도 한다. 감기약(위약)을 투여받은 환자들 중 일부는 부작용을 경험했는데, 이 부작용의 알려진 발생 비율은 다음과 같다\n",
    "\n",
    "|구분|부작용|비율|\n",
    "|:-:|:-:|:-:|\n",
    "|1|아픔|10%|\n",
    "|2|조금 아픔|5%|\n",
    "|3|속쓰림|15%|\n",
    "|4|이상 없음|70%|"
   ]
  },
  {
   "cell_type": "code",
   "execution_count": 2,
   "metadata": {},
   "outputs": [
    {
     "name": "stdout",
     "output_type": "stream",
     "text": [
      "   항암약\n",
      "0    4\n",
      "1    4\n",
      "2    3\n"
     ]
    }
   ],
   "source": [
    "# 항암약(위약)을 투여받은 실제 환자 그룹에서 관찰된 부작용은 다음과 같다\n",
    "import pandas as pd\n",
    "df = pd.DataFrame({\n",
    "    '항암약' : [4, 4, 3, 4, 1, 4, 1, 4, 1, 4, 4, 2, 1, 4, 2, 3, 2, 4, 4, 4]\n",
    "})\n",
    "print(df.head(3))"
   ]
  },
  {
   "cell_type": "markdown",
   "metadata": {},
   "source": [
    "- 귀무가설(H₀) : 감기약(위약)의 부작용과 항암약(위약)의 부작용은 동일하다\n",
    "\n",
    "- 대립가설(H₁) : 감기약(위약)의 부작용과 항암약(위약)의 부작용은 다르다\n",
    "\n",
    "#### 문제1-1 : 항암약을 투여받은 환자 중 '이상 없음'의 비율을 0과 1사이로 구하시오\n",
    "\n",
    "#### 문제1-2 : 감기약의 예상 부작용 비율과 항암약의 부작용 관찰값이 통계적으로 유의미하게 차이가 있는지 확인한다\n",
    "- 카이제곱 검정을 사용해 검정 통계량을 구하시오\n",
    "\n",
    "#### 문제1-3 : 위의 p-value 를 구하시오"
   ]
  },
  {
   "cell_type": "code",
   "execution_count": null,
   "metadata": {},
   "outputs": [
    {
     "name": "stdout",
     "output_type": "stream",
     "text": [
      "11 \n",
      "\n",
      "0.55\n"
     ]
    }
   ],
   "source": [
    "# 문제1-1 : 풀이1\n",
    "# 1. 이상 없음(4)의 빈도 계산\n",
    "## df['항암약']==4 조건의 결과는 True(1)/False(0) 로 반환\n",
    "## 이 결과를 모두 더하면 True 의 수가 되므로 4의 빈도가 계산됨\n",
    "cnt = sum(df['항암약']==4)\n",
    "print(cnt, '\\n')\n",
    "\n",
    "# 2. 항암약을 투여받은 환자 중 '이상 없음' 비율 계산\n",
    "## 전체 데이터 수를 len() 함수로 구하고, 앞서 구한 빈도를 전체 수로 나누면 비율 계산됨\n",
    "ratio = cnt / len(df)\n",
    "print(ratio)"
   ]
  },
  {
   "cell_type": "code",
   "execution_count": 5,
   "metadata": {},
   "outputs": [
    {
     "name": "stdout",
     "output_type": "stream",
     "text": [
      "항암약\n",
      "4    0.55\n",
      "1    0.20\n",
      "2    0.15\n",
      "3    0.10\n",
      "Name: proportion, dtype: float64\n"
     ]
    }
   ],
   "source": [
    "# 문제1-1 : 풀이2\n",
    "# 1. 카테고리별 비율 계산\n",
    "## value_counts() 는 빈도 계산해줌\n",
    "## normalize=True 옵션을 설정하면 각 값의 상대적 비율(총합은 1)로 반환됨\n",
    "print(df['항암약'].value_counts(normalize=True))"
   ]
  },
  {
   "cell_type": "code",
   "execution_count": null,
   "metadata": {},
   "outputs": [
    {
     "name": "stdout",
     "output_type": "stream",
     "text": [
      "데이터 수 : 20\n",
      "[2.0, 1.0, 3.0, 14.0]\n",
      "[2.0, 1.0, 3.0, 14.0]\n",
      "[4, 3, 2, 11]\n",
      "Power_divergenceResult(statistic=6.976190476190476, pvalue=0.07266054733847573)\n"
     ]
    }
   ],
   "source": [
    "# 문제1-2\n",
    "# 1. 각 카테고리의 비율을 리스트로 만들기\n",
    "## 문제에서 표로 제시된 값을 카테고리 1, 2, 3, 4 순서대로 리스트로 생성\n",
    "prob = [0.1, 0.05, 0.15, 0.7]\n",
    "\n",
    "# 2-1. 기대 빈도 수 계산\n",
    "## 감기약의 부작용으로 알려진 비율에 항암약 데이터 수를 곱해 기대 빈도 수를 구함\n",
    "print('데이터 수 :', len(df))\n",
    "expected_counts = [0.1*20, 0.05*20, 0.15*20, 0.7*20]\n",
    "print(expected_counts)\n",
    "\n",
    "# 2-2. 기대 빈도 수 게산\n",
    "## 리스트 컴프리헨션(List Comprehension) 방법\n",
    "expected_counts = [x*len(df) for x in prob]\n",
    "print(expected_counts)\n",
    "\n",
    "# 3. 관찰 빈도 수 계산\n",
    "## value_counts() 결과값만 가지고 리스트 만들기\n",
    "## value_counts() 결과를 index 순서로 정렬한 후 리스트화\n",
    "observed_counts = df['항암약'].value_counts().sort_index().to_list()\n",
    "print(observed_counts)\n",
    "\n",
    "# 4. 카이제곱 검정 수행\n",
    "## 카이제곱 검정 수행 결과, 검정 통계량은 6.976190476190476\n",
    "## 카이제곱 검정을 수행할 때 관찰된 빈도와 기대 빈도를 정확하게 파악해야 실수가 없음\n",
    "## 관찰 빈도가 첫 번재, 기대 빈도가 두 번째로 입력됨\n",
    "## chisquare(observed_counts, expected_counts) 와 같이 작성도 가능\n",
    "from scipy.stats import chisquare\n",
    "print(chisquare(f_obs=observed_counts, f_exp=expected_counts))"
   ]
  },
  {
   "cell_type": "code",
   "execution_count": null,
   "metadata": {},
   "outputs": [],
   "source": [
    "# 문제1-3\n",
    "## 위의 문제풀이로 p-value 확인 가능 : 0.07266054733847573"
   ]
  },
  {
   "cell_type": "markdown",
   "metadata": {},
   "source": [
    "### ✏️ 다음 선형 회귀 모델을 구축하고, 각 소문제에 답하시오.\n",
    "- data = data6-3-2.csv\n",
    "\n",
    "- 독립변수 : solar(태양 에너지), wind(바람의 세기), o3(오존 농도)\n",
    "\n",
    "- 종속변수 : temperature(온도)"
   ]
  },
  {
   "cell_type": "code",
   "execution_count": 10,
   "metadata": {},
   "outputs": [
    {
     "name": "stdout",
     "output_type": "stream",
     "text": [
      "    solar  wind     o3  temperature\n",
      "0   89.14  6.28  33.52         23.0\n",
      "1  109.97  1.04  27.01         20.7\n",
      "2  102.83  6.42  41.00         20.5\n"
     ]
    }
   ],
   "source": [
    "import pandas as pd\n",
    "df = pd.read_csv('./data/data6-3-2.csv')\n",
    "print(df.head(3))"
   ]
  },
  {
   "cell_type": "markdown",
   "metadata": {},
   "source": [
    "#### 문제2-1 : 주어진 데이터를 기반으로 다중 선형 회귀 모델을 구축하고, 독립변수 o3의 회귀 계수를 구하시오.\n",
    "\n",
    "#### 문제2-2 : 문제 2-1에서 적합한 모델에서 'solar'와 'o3'이 고정된 상태에서 'wind'의 세기가 증가함에 따라 'temperature'가 감소한다. 이 회귀 모델에서 'wind'의 회귀 계수에 대한 p-value 를 구하시오.\n",
    "\n",
    "#### 문제2-3 : 문제 2-1에서 적합한 모델에서 solarL100, wind:5, o3:30 일 때, 예측값을 구하시오"
   ]
  },
  {
   "cell_type": "code",
   "execution_count": null,
   "metadata": {},
   "outputs": [
    {
     "name": "stdout",
     "output_type": "stream",
     "text": [
      "                            OLS Regression Results                            \n",
      "==============================================================================\n",
      "Dep. Variable:            temperature   R-squared:                       0.044\n",
      "Model:                            OLS   Adj. R-squared:                  0.014\n",
      "Method:                 Least Squares   F-statistic:                     1.464\n",
      "Date:                Wed, 27 Nov 2024   Prob (F-statistic):              0.229\n",
      "Time:                        17:41:36   Log-Likelihood:                -195.45\n",
      "No. Observations:                 100   AIC:                             398.9\n",
      "Df Residuals:                      96   BIC:                             409.3\n",
      "Df Model:                           3                                         \n",
      "Covariance Type:            nonrobust                                         \n",
      "==============================================================================\n",
      "                 coef    std err          t      P>|t|      [0.025      0.975]\n",
      "------------------------------------------------------------------------------\n",
      "Intercept     19.0507      1.994      9.555      0.000      15.093      23.008\n",
      "solar          0.0039      0.015      0.251      0.802      -0.027       0.035\n",
      "wind          -0.0252      0.090     -0.280      0.780      -0.204       0.153\n",
      "o3             0.0749      0.036      2.079      0.040       0.003       0.146\n",
      "==============================================================================\n",
      "Omnibus:                        0.654   Durbin-Watson:                   2.328\n",
      "Prob(Omnibus):                  0.721   Jarque-Bera (JB):                0.672\n",
      "Skew:                           0.187   Prob(JB):                        0.715\n",
      "Kurtosis:                       2.855   Cond. No.                     1.20e+03\n",
      "==============================================================================\n",
      "\n",
      "Notes:\n",
      "[1] Standard Errors assume that the covariance matrix of the errors is correctly specified.\n",
      "[2] The condition number is large, 1.2e+03. This might indicate that there are\n",
      "strong multicollinearity or other numerical problems.\n"
     ]
    }
   ],
   "source": [
    "# 문제2-1 : 풀이1\n",
    "# 1. R 스타일 formula\n",
    "## formula 를 문자열로 작성한다. '종속변수 ~ 독립변수1 + 독립변수2 + 독립변수3'\n",
    "formula = 'temperature ~ solar + wind + o3'\n",
    "\n",
    "# 2. 회귀 모델 학습\n",
    "## statsmodels 의 ols()로 선형 회귀 모델을 학습 (formula 와 data 를 입력값으로 대입)\n",
    "from statsmodels.formula.api import ols\n",
    "model = ols(formula, data=df).fit()\n",
    "\n",
    "# 3. 회귀 모델 요약 정보\n",
    "## 회귀 모델 요약 정보에는 모델의 성능, 변수별 회귀 계수, 통계적 유의성 검정, 신뢰 구간 등 다양한 내용을 담고 있음\n",
    "## 그 중에서 독립변수 o3에 대한 회귀 계수 찾기 : 0.0749\n",
    "summary = model.summary()\n",
    "print(summary)"
   ]
  },
  {
   "cell_type": "code",
   "execution_count": 12,
   "metadata": {},
   "outputs": [
    {
     "name": "stdout",
     "output_type": "stream",
     "text": [
      "2-1. o3의 회귀계수 : 0.07493854378136539\n"
     ]
    }
   ],
   "source": [
    "# 문제2-1 : 풀이2\n",
    "## params['o3'] 사용해 학습된 모델에서 o3의 회귀 계수 출력\n",
    "print('2-1. o3의 회귀계수 :', model.params['o3'])"
   ]
  },
  {
   "cell_type": "code",
   "execution_count": null,
   "metadata": {},
   "outputs": [
    {
     "name": "stdout",
     "output_type": "stream",
     "text": [
      "2-2. wind 의 p-value : 0.7797177202071623\n"
     ]
    }
   ],
   "source": [
    "# 문제2-2 : wind 와 temperature 의 선형 관계 p-value\n",
    "## 다중 선형 회귀 분석은 문제 2-1에서 분석한 모델 사용\n",
    "## 'wind'와 'temperature' 간의 선형 관계에 대한 p-value : 0.7797177202071623\n",
    "print('2-2. wind 의 p-value :', model.pvalues['wind'])"
   ]
  },
  {
   "cell_type": "code",
   "execution_count": 23,
   "metadata": {},
   "outputs": [
    {
     "name": "stdout",
     "output_type": "stream",
     "text": [
      "   solar  wind  o3\n",
      "0    100     5  30 \n",
      "\n",
      "2-3. 예측값 : 21.561630469479688\n",
      "2-3. 예측값 : 21.561630469479688\n"
     ]
    }
   ],
   "source": [
    "# 문제2-3\n",
    "# 1. 새 데이터를 데이터프레임으로 만들기\n",
    "## solar 값은 100, wind 값은 5, o3 값은 30 으로 데이터 프레임 생성\n",
    "## 문제 2-1에서 모델을 구축했을 때와 같은 컬럼명 사용\n",
    "new_data = pd.DataFrame({\n",
    "    'solar' : [100],\n",
    "    'wind' : [5],\n",
    "    'o3' : [30]\n",
    "})\n",
    "print(new_data, '\\n')\n",
    "\n",
    "# 2. 적합(구축)한 모델을 사용해 예측\n",
    "## 예측값을 구하기 위해 model.predict() 사용\n",
    "pred = model.predict(new_data)\n",
    "print('2-3. 예측값 :', pred.values[0])\n",
    "print('2-3. 예측값 :', pred.iloc[0])"
   ]
  }
 ],
 "metadata": {
  "kernelspec": {
   "display_name": "base",
   "language": "python",
   "name": "python3"
  },
  "language_info": {
   "codemirror_mode": {
    "name": "ipython",
    "version": 3
   },
   "file_extension": ".py",
   "mimetype": "text/x-python",
   "name": "python",
   "nbconvert_exporter": "python",
   "pygments_lexer": "ipython3",
   "version": "3.12.4"
  }
 },
 "nbformat": 4,
 "nbformat_minor": 2
}
