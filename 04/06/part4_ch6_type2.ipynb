{
 "cells": [
  {
   "cell_type": "markdown",
   "metadata": {},
   "source": [
    "## 작업형 제 2 유향\n",
    "\n",
    "### ✏️ 건물 데이터를 기반으로 건물의 난방 부하(에너지 효율성)를 예측하시오.\n",
    "\n",
    "- 제공된 데이터 목록 : train.csv, test.csv\n",
    "\n",
    "- 예측할 컬럼 : Heat_Load(Very Low, Low, Medium, High, Very High)\n",
    "\n",
    "- 학습용 데이터(energy_train.csv)를 이용하여 난방 부하 결과를 예측하는 모델을 만든 후 이를 평가용 데이터(energy_test.csv)에 적용해 얻은 예측값을 다음과 같은 형식의 csv 파일로 생성하시오.\n",
    "\n",
    "    - 제출 파일은 다음 1개의 컬럼만 포함해야 한다\n",
    "\n",
    "        - pred : 예측 결과\n",
    "\n",
    "        - 제출 파일명 : result.csv\n",
    "\n",
    "    - 제출한 모델의 성능은 Macro F1-Score 평가지표에 따라 채점"
   ]
  },
  {
   "cell_type": "code",
   "execution_count": null,
   "metadata": {},
   "outputs": [
    {
     "name": "stdout",
     "output_type": "stream",
     "text": [
      "(537, 10) (231, 9) \n",
      "\n",
      "   Compac  Surf_Area  Wall_Area    Roof Height Orient  Glaze_Area  \\\n",
      "0    0.74      686.0      245.0   220.5  Short  South        0.25   \n",
      "1    0.98      514.5      294.0   Small   Tall  South        0.40   \n",
      "2    0.90      563.5      318.5  Medium   Tall   West        0.25   \n",
      "3    0.74      686.0      245.0   220.5  Short  South        0.25   \n",
      "4    0.98      514.5      294.0   Small   Tall   East        0.25   \n",
      "\n",
      "   Glaze_Distr  Cool_Load Heat_Load  \n",
      "0            3      14.72  Very Low  \n",
      "1            2      33.94      High  \n",
      "2            1      37.58      High  \n",
      "3            2      15.18  Very Low  \n",
      "4            2      29.69      High   \n",
      "\n",
      "   Compac  Surf_Area  Wall_Area    Roof Height Orient  Glaze_Area  \\\n",
      "0    0.64      784.0      343.0   220.5  Short  South        0.40   \n",
      "1    0.82      612.5      318.5   Large   Tall  North        0.40   \n",
      "2    0.76      661.5      416.5  Medium   Tall  South        0.10   \n",
      "3    0.74      686.0      245.0   220.5  Short   East        0.40   \n",
      "4    0.64      784.0      343.0   220.5  Short  North        0.25   \n",
      "\n",
      "   Glaze_Distr  Cool_Load  \n",
      "0            4      22.25  \n",
      "1            3      32.43  \n",
      "2            5      33.64  \n",
      "3            1      17.25  \n",
      "4            5      20.13   \n",
      "\n",
      "<class 'pandas.core.frame.DataFrame'>\n",
      "RangeIndex: 537 entries, 0 to 536\n",
      "Data columns (total 10 columns):\n",
      " #   Column       Non-Null Count  Dtype  \n",
      "---  ------       --------------  -----  \n",
      " 0   Compac       537 non-null    float64\n",
      " 1   Surf_Area    537 non-null    float64\n",
      " 2   Wall_Area    537 non-null    float64\n",
      " 3   Roof         537 non-null    object \n",
      " 4   Height       537 non-null    object \n",
      " 5   Orient       537 non-null    object \n",
      " 6   Glaze_Area   537 non-null    float64\n",
      " 7   Glaze_Distr  537 non-null    int64  \n",
      " 8   Cool_Load    537 non-null    float64\n",
      " 9   Heat_Load    537 non-null    object \n",
      "dtypes: float64(5), int64(1), object(4)\n",
      "memory usage: 42.1+ KB\n",
      "None\n",
      "          Compac   Surf_Area   Wall_Area  Glaze_Area  Glaze_Distr   Cool_Load\n",
      "count  537.00000  537.000000  537.000000  537.000000   537.000000  537.000000\n",
      "mean     0.76879  667.796089  318.271881    0.237244     2.808194   24.939628\n",
      "std      0.10636   88.123635   42.447824    0.132183     1.541251    9.600170\n",
      "min      0.62000  514.500000  245.000000    0.000000     0.000000   11.170000\n",
      "25%      0.69000  588.000000  294.000000    0.100000     2.000000   15.770000\n",
      "50%      0.76000  661.500000  318.500000    0.250000     3.000000   25.160000\n",
      "75%      0.86000  735.000000  343.000000    0.400000     4.000000   33.540000\n",
      "max      0.98000  808.500000  416.500000    0.400000     5.000000   48.030000 \n",
      "\n",
      "         Roof Height Orient Heat_Load\n",
      "count     537    537    537       537\n",
      "unique      4      2      4         5\n",
      "top     220.5   Tall  South  Very Low\n",
      "freq      257    280    145       142 \n",
      "\n",
      "         Roof Height Orient\n",
      "count     231    231    231\n",
      "unique      4      2      4\n",
      "top     220.5  Short  North\n",
      "freq      127    127     74 \n",
      "\n",
      "0 \n",
      "\n",
      "0 \n",
      "\n",
      "Heat_Load\n",
      "Very Low     142\n",
      "Low          123\n",
      "High         122\n",
      "Very High     79\n",
      "Medium        71\n",
      "Name: count, dtype: int64\n"
     ]
    }
   ],
   "source": [
    "# 1. 문제 정의\n",
    "## 에너지 효율성을 평가하기 위한 난방 부하 예측\n",
    "\n",
    "# 2. 라이브러리 및 데이터 불러오기\n",
    "import pandas as pd\n",
    "train = pd.read_csv('./data/energy_train.csv')\n",
    "test = pd.read_csv('./data/energy_test.csv')\n",
    "\n",
    "# 3. 탐색적 데이터 분석(EDA)\n",
    "## 데이터 크기\n",
    "print(train.shape, test.shape, '\\n')\n",
    "\n",
    "## 데이터 샘플\n",
    "print(train.head(), '\\n')\n",
    "print(test.head(), '\\n')\n",
    "\n",
    "## 데이터 자료형(타입)\n",
    "print(train.info())\n",
    "\n",
    "## 기초통계량\n",
    "print(train.describe(), '\\n')\n",
    "\n",
    "## object 형의 unique 개수\n",
    "print(train.describe(include='object'), '\\n')\n",
    "print(test.describe(include='object'), '\\n')\n",
    "\n",
    "## 결측치 여부\n",
    "print(train.isnull().sum().sum(), '\\n')\n",
    "print(test.isnull().sum().sum(), '\\n')\n",
    "\n",
    "## Heat_Load 컬럼의 종류에 따른 개수\n",
    "print(train['Heat_Load'].value_counts())"
   ]
  },
  {
   "cell_type": "code",
   "execution_count": null,
   "metadata": {},
   "outputs": [
    {
     "name": "stdout",
     "output_type": "stream",
     "text": [
      "(537, 9) (231, 9)\n",
      "(537, 16) (231, 16)\n"
     ]
    }
   ],
   "source": [
    "# 4. 데이터 전처리\n",
    "## 인코딩 전 예측할 값이 object 라면 다른 변수에 옮겨두기\n",
    "## train 에는 Heat_Load 가 있고, test 에는 없기 때문에, 원-핫 인코딩시 컬럼수가 달라지게 됨\n",
    "target = train.pop('Heat_Load')\n",
    "print(train.shape, test.shape)\n",
    "\n",
    "train = pd.get_dummies(train)\n",
    "test = pd.get_dummies(test)\n",
    "print(train.shape, test.shape)"
   ]
  },
  {
   "cell_type": "code",
   "execution_count": null,
   "metadata": {},
   "outputs": [
    {
     "name": "stdout",
     "output_type": "stream",
     "text": [
      "(429, 16) (108, 16) (429,) (108,)\n"
     ]
    }
   ],
   "source": [
    "# 5. 검증 데이터 분할\n",
    "from sklearn.model_selection import train_test_split\n",
    "X_train, X_val, y_train, y_val = train_test_split(train, target, test_size=0.2, random_state=0)\n",
    "print(X_train.shape, X_val.shape, y_train.shape, y_val.shape)"
   ]
  },
  {
   "cell_type": "code",
   "execution_count": 13,
   "metadata": {},
   "outputs": [
    {
     "name": "stdout",
     "output_type": "stream",
     "text": [
      "Requirement already satisfied: xgboost in c:\\users\\babys\\anaconda3\\lib\\site-packages (2.1.2)\n",
      "Requirement already satisfied: numpy in c:\\users\\babys\\anaconda3\\lib\\site-packages (from xgboost) (1.26.4)\n",
      "Requirement already satisfied: scipy in c:\\users\\babys\\anaconda3\\lib\\site-packages (from xgboost) (1.13.1)\n",
      "의사결정 나무 : 0.9167995817564094\n",
      "랜덤 포레스트 : 0.9277616846430405\n",
      "xgboost : 0.9374839068652628\n",
      "LightGBM : 0.9319703995747778\n"
     ]
    }
   ],
   "source": [
    "# 6. 머신러닝 학습 및 평가\n",
    "from sklearn.tree import DecisionTreeClassifier\n",
    "from sklearn.ensemble import RandomForestClassifier\n",
    "!pip install xgboost\n",
    "import xgboost as xgb\n",
    "import lightgbm as lgb\n",
    "from sklearn.metrics import f1_score\n",
    "\n",
    "dt = DecisionTreeClassifier(random_state=0)\n",
    "dt.fit(X_train, y_train)\n",
    "pred = dt.predict(X_val)\n",
    "print('의사결정 나무 :', f1_score(y_val, pred, average='macro'))\n",
    "\n",
    "rf = RandomForestClassifier(random_state=0)\n",
    "rf.fit(X_train, y_train)\n",
    "pred = rf.predict(X_val)\n",
    "print('랜덤 포레스트 :', f1_score(y_val, pred, average='macro'))\n",
    "\n",
    "# target 인코딩\n",
    "from sklearn.preprocessing import LabelEncoder\n",
    "le = LabelEncoder()\n",
    "y_train_adjusted = le.fit_transform(y_train)\n",
    "\n",
    "# xgboost 모델 학습 및 예측 : xgboost 모델은 예측 클래스가 0부터 시작해야 함\n",
    "xg = xgb.XGBClassifier(random_state=0)\n",
    "xg.fit(X_train, y_train_adjusted)\n",
    "pred = xg.predict(X_val)\n",
    "\n",
    "# 예측 값을 원래 문자로 변경\n",
    "pred = le.inverse_transform(pred)\n",
    "\n",
    "print(\"xgboost :\", f1_score(y_val, pred, average='macro'))\n",
    "\n",
    "lg = lgb.LGBMClassifier(random_state=0, verbose=-1)\n",
    "lg.fit(X_train, y_train)\n",
    "pred = lg.predict(X_val)\n",
    "print('LightGBM :', f1_score(y_val, pred, average='macro'))"
   ]
  },
  {
   "cell_type": "code",
   "execution_count": null,
   "metadata": {},
   "outputs": [
    {
     "name": "stdout",
     "output_type": "stream",
     "text": [
      "   pred\n",
      "0   Low\n",
      "1  High\n",
      "2  High\n",
      "3   Low\n",
      "4   Low\n"
     ]
    }
   ],
   "source": [
    "# 7. 예측 및 결과 파일 생성\n",
    "## xgboost 모델 선택해 제출하려면 인코딩을 한 번 더 해야하는 번거로움이 있으므로 사용 어려움\n",
    "## LightGBM 도 0.9 점대로 높은 성능을 보이고 있어 이것으로 제출해도 OK\n",
    "pred = lg.predict(test)\n",
    "submit = pd.DataFrame({'pred':pred})\n",
    "submit.to_csv('result.csv', index=False)\n",
    "\n",
    "print(pd.read_csv('result.csv').head())"
   ]
  },
  {
   "cell_type": "code",
   "execution_count": 18,
   "metadata": {},
   "outputs": [
    {
     "name": "stdout",
     "output_type": "stream",
     "text": [
      "[0.91726901 0.90856297 0.92346084 0.95283204 0.95716959]\n",
      "0.9318588885917534\n",
      "   pred\n",
      "0   Low\n",
      "1  High\n",
      "2  High\n",
      "3   Low\n",
      "4   Low\n"
     ]
    }
   ],
   "source": [
    "# 8. 크로스 밸리데이션\n",
    "\n",
    "# K-fold 크로스 밸리데이션(Cross-Validation)\n",
    "## train 데이터를 K개로 동일한 크기로 나눈 후 나눈 데이터를 K개의 세트라 부를 때, 각각의 세트를 모두 검증용으로 한 번씩 사용하면서\n",
    "## 나머지 K-1개 세트를 훈련 데이터로 사용\n",
    "## 모든 데이터가 훈련 데이터와 검증 데이터로 사용되도록 함\n",
    "## ex. K가 5라면 이 과정은 다섯 번 거쳐 5개의 평가 결과를 얻게 되고 최종적으로 5개의 평가 결과의 평균을 내어 모델의 성능 평가\n",
    "import pandas as pd\n",
    "from sklearn.ensemble import RandomForestClassifier\n",
    "from sklearn.model_selection import cross_val_score\n",
    "\n",
    "train = pd.read_csv('./data/energy_train.csv')\n",
    "test= pd.read_csv('./data/energy_test.csv')\n",
    "\n",
    "# 데이터 전처리\n",
    "target = train.pop('Heat_Load')\n",
    "\n",
    "# 원-핫 인코딩\n",
    "train = pd.get_dummies(train)\n",
    "test = pd.get_dummies(test)\n",
    "\n",
    "# 모델 준비\n",
    "rf = RandomForestClassifier(random_state=0)\n",
    "\n",
    "# 크로스 밸리데이션 수행(K-fold)\n",
    "scores = cross_val_score(rf, train, target, cv=5, scoring='f1_macro')\n",
    "print(scores)\n",
    "\n",
    "# 평균 F1 스코어 출력\n",
    "print(scores.mean())\n",
    "\n",
    "# 모델 학습 및 예측\n",
    "## 크로스 밸리데이션은 모델의 성능을 평가하는 단계에 불과하므로 모델 학습과 예측은 별도 진행\n",
    "## 크로스밸리데이션에서 평가된 랜덤포레스트 모델을 사용해 전체 데이터에 대해 다시 학습 진행 후 예측 결과를 csv 파일로 저장\n",
    "rf.fit(train, target)\n",
    "pred = rf.predict(test)\n",
    "submit = pd.DataFrame({'pred':pred})\n",
    "submit.to_csv('result.csv', index=False)\n",
    "\n",
    "print(pd.read_csv('result.csv').head())"
   ]
  }
 ],
 "metadata": {
  "kernelspec": {
   "display_name": "base",
   "language": "python",
   "name": "python3"
  },
  "language_info": {
   "codemirror_mode": {
    "name": "ipython",
    "version": 3
   },
   "file_extension": ".py",
   "mimetype": "text/x-python",
   "name": "python",
   "nbconvert_exporter": "python",
   "pygments_lexer": "ipython3",
   "version": "3.12.4"
  }
 },
 "nbformat": 4,
 "nbformat_minor": 2
}
