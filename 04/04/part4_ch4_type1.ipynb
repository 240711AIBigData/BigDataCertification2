{
 "cells": [
  {
   "cell_type": "markdown",
   "metadata": {},
   "source": [
    "# 제 4회 기출 문제\n",
    "\n",
    "## 작업형 제 1 유형\n",
    "\n",
    "### ✏️ 'age' 컬럼의 3사분위수와 1사분위수의 차이를 절댓값으로 구하고, 소수점 이하를 버리고, 정수로 출력하시오."
   ]
  },
  {
   "cell_type": "code",
   "execution_count": 1,
   "metadata": {},
   "outputs": [
    {
     "name": "stdout",
     "output_type": "stream",
     "text": [
      "     id   age city    f1  f2   f3    f4         f5\n",
      "0  id01   2.0   서울   NaN   0  NaN  ENFJ  91.297791\n",
      "1  id02   9.0   서울  70.0   1  NaN  ENFJ  60.339826\n",
      "2  id03  27.0   서울  61.0   1  NaN  ISTJ  17.252986\n",
      "3  id04  75.0   서울   NaN   2  NaN  INFP  52.667078\n",
      "4  id05  24.0   서울  85.0   2  NaN  ISFJ  29.269869\n"
     ]
    }
   ],
   "source": [
    "import pandas as pd\n",
    "df = pd.read_csv('./data/data4-1.csv')\n",
    "print(df.head())"
   ]
  },
  {
   "cell_type": "code",
   "execution_count": null,
   "metadata": {},
   "outputs": [
    {
     "name": "stdout",
     "output_type": "stream",
     "text": [
      "50\n"
     ]
    }
   ],
   "source": [
    "# 1. 3사분위수와 1사분위수의 차이를 절댓값으로 계산\n",
    "q1 = df['age'].quantile(.25)\n",
    "q3 = df['age'].quantile(.75)\n",
    "result = abs(q1 - q3)\n",
    "\n",
    "# 2. 소수점 이하를 버리고, 정수로 출력\n",
    "print(int(result))"
   ]
  },
  {
   "cell_type": "markdown",
   "metadata": {},
   "source": [
    "### ✏️ 모든 reactions 중 loves 와 wows 를 합한 반응 비율이 40% 보다 크고 50% 보다 작은 데이터를 찾고, 이 중 type 컬럼이 'video' 인 데이터의 개수를 구하시오."
   ]
  },
  {
   "cell_type": "code",
   "execution_count": 10,
   "metadata": {},
   "outputs": [
    {
     "name": "stdout",
     "output_type": "stream",
     "text": [
      "   id   type  reactions  comments  shares  likes  loves  wows  hahas  sads  \\\n",
      "0   1  video        529       512     262    432     92     3      1     1   \n",
      "1   2  photo        150         0       0    150      0     0      0     0   \n",
      "2   3  video        227       236      57    204     21     1      1     0   \n",
      "3   4  photo        111         0       0    111      0     0      0     0   \n",
      "4   5  photo        213         0       0    204      9     0      0     0   \n",
      "\n",
      "   angrys  \n",
      "0       0  \n",
      "1       0  \n",
      "2       0  \n",
      "3       0  \n",
      "4       0  \n"
     ]
    }
   ],
   "source": [
    "import pandas as pd\n",
    "df = pd.read_csv('./data/data4-2.csv')\n",
    "print(df.head())"
   ]
  },
  {
   "cell_type": "code",
   "execution_count": null,
   "metadata": {},
   "outputs": [
    {
     "name": "stdout",
     "output_type": "stream",
     "text": [
      "90\n"
     ]
    }
   ],
   "source": [
    "# 1. 비율이 40% 보다 크고 50% 보다 작은 조건\n",
    "## likes + loves + wows + hahas + sads + angrys = reactions -> 분모를 reaction, 분자를 loves + wows 로 계산해 40~50% 비율 구하기\n",
    "cond1 = (df['loves'] + df['wows']) / df['reactions'] > 0.4\n",
    "cond2 = (df['loves'] + df['wows']) / df['reactions'] < 0.5\n",
    "\n",
    "# 2. type 이 video 인 조건\n",
    "cond3 = df['type'] == 'video'\n",
    "\n",
    "# 3. 조건에 맞는 데이터 수 구하기\n",
    "## len() 함수를 활용해 조건에 맞는 데이터의 개수 구하기\n",
    "print(len(df[cond1 & cond2 & cond3]))"
   ]
  },
  {
   "cell_type": "markdown",
   "metadata": {},
   "source": [
    "### ✏️ 'date_added' 컬럼의 날짜가 2018년 1월이면서 'country' 에서 'United Kingdom' 단독 제작인 데이터의 개수를 구하시오."
   ]
  },
  {
   "cell_type": "code",
   "execution_count": 13,
   "metadata": {},
   "outputs": [
    {
     "name": "stdout",
     "output_type": "stream",
     "text": [
      "  show_id     type                  title         director  \\\n",
      "0      s1    Movie   Dick Johnson Is Dead  Kirsten Johnson   \n",
      "1      s2  TV Show          Blood & Water              NaN   \n",
      "2      s3  TV Show              Ganglands  Julien Leclercq   \n",
      "3      s4  TV Show  Jailbirds New Orleans              NaN   \n",
      "4      s5  TV Show           Kota Factory              NaN   \n",
      "\n",
      "                                                cast        country  \\\n",
      "0                                                NaN  United States   \n",
      "1  Ama Qamata, Khosi Ngema, Gail Mabalane, Thaban...   South Africa   \n",
      "2  Sami Bouajila, Tracy Gotoas, Samuel Jouy, Nabi...            NaN   \n",
      "3                                                NaN            NaN   \n",
      "4  Mayur More, Jitendra Kumar, Ranjan Raj, Alam K...          India   \n",
      "\n",
      "           date_added  release_year rating   duration  \\\n",
      "0  September 25, 2021          2020  PG-13     90 min   \n",
      "1  September 24, 2021          2021  TV-MA  2 Seasons   \n",
      "2  September 24, 2021          2021  TV-MA   1 Season   \n",
      "3  September 24, 2021          2021  TV-MA   1 Season   \n",
      "4  September 24, 2021          2021  TV-MA  2 Seasons   \n",
      "\n",
      "                                           listed_in  \n",
      "0                                      Documentaries  \n",
      "1    International TV Shows, TV Dramas, TV Mysteries  \n",
      "2  Crime TV Shows, International TV Shows, TV Act...  \n",
      "3                             Docuseries, Reality TV  \n",
      "4  International TV Shows, Romantic TV Shows, TV ...  \n"
     ]
    }
   ],
   "source": [
    "import pandas as pd\n",
    "df = pd.read_csv('./data/data4-3.csv')\n",
    "print(df.head())"
   ]
  },
  {
   "cell_type": "code",
   "execution_count": null,
   "metadata": {},
   "outputs": [
    {
     "name": "stdout",
     "output_type": "stream",
     "text": [
      "  show_id     type                 title         director  \\\n",
      "0      s1    Movie  Dick Johnson Is Dead  Kirsten Johnson   \n",
      "1      s2  TV Show         Blood & Water              NaN   \n",
      "2      s3  TV Show             Ganglands  Julien Leclercq   \n",
      "\n",
      "                                                cast        country  \\\n",
      "0                                                NaN  United States   \n",
      "1  Ama Qamata, Khosi Ngema, Gail Mabalane, Thaban...   South Africa   \n",
      "2  Sami Bouajila, Tracy Gotoas, Samuel Jouy, Nabi...            NaN   \n",
      "\n",
      "  date_added  release_year rating   duration  \\\n",
      "0 2021-09-25          2020  PG-13     90 min   \n",
      "1 2021-09-24          2021  TV-MA  2 Seasons   \n",
      "2 2021-09-24          2021  TV-MA   1 Season   \n",
      "\n",
      "                                           listed_in    year  month  \n",
      "0                                      Documentaries  2021.0    9.0  \n",
      "1    International TV Shows, TV Dramas, TV Mysteries  2021.0    9.0  \n",
      "2  Crime TV Shows, International TV Shows, TV Act...  2021.0    9.0   \n",
      "\n",
      "6\n"
     ]
    }
   ],
   "source": [
    "# [풀이1]\n",
    "# 1. datetime 으로 형 변환\n",
    "## pd.to_datetime 활용해 object 자료형을 datetime 자료형으로 변경\n",
    "df['date_added'] = pd.to_datetime(df['date_added'])\n",
    "\n",
    "# 2. dt 활용해 year 과 month 파생변수 생성\n",
    "## datetime 자료형에서 dt 활용해 year 와 month 뽑아내기\n",
    "df['year'] = df['date_added'].dt.year\n",
    "df['month'] = df['date_added'].dt.month\n",
    "print(df.head(3), '\\n')\n",
    "\n",
    "# 3. 조건\n",
    "cond1 = df['year'] == 2018\n",
    "cond2 = df['month'] == 1\n",
    "cond3 = df['country'] == 'United Kingdom'\n",
    "\n",
    "# 4. 조건에 맞는 데이터 수 출력\n",
    "## len() 함수를 활용해 3개의 조건에 맞는 데이터 개수 출력\n",
    "print(len(df[cond1 & cond2 & cond3]))"
   ]
  },
  {
   "cell_type": "code",
   "execution_count": 20,
   "metadata": {},
   "outputs": [
    {
     "name": "stdout",
     "output_type": "stream",
     "text": [
      "6\n"
     ]
    }
   ],
   "source": [
    "# [풀이2] : datetime 으로 변환된 데이터는 대소 관계를 나타내는 <, > ,= 를 활용해 1월 1일부터 1월 31일까지 기간 선택 가능\n",
    "df = pd.read_csv('./data/data4-3.csv')\n",
    "\n",
    "# 1. datetime 으로 형 변환\n",
    "df['date_added'] = pd.to_datetime(df['date_added'])\n",
    "\n",
    "# 2. 조건\n",
    "cond1 = df['country'] == 'United Kingdom'\n",
    "cond2 = df['date_added'] >= '2018-1-1'\n",
    "cond3 = df['date_added'] <= '2018-1-31'\n",
    "\n",
    "# 3. 조건에 맞는 데이터 수 출력\n",
    "print(len(df[cond1 & cond2 & cond3]))"
   ]
  }
 ],
 "metadata": {
  "kernelspec": {
   "display_name": "base",
   "language": "python",
   "name": "python3"
  },
  "language_info": {
   "codemirror_mode": {
    "name": "ipython",
    "version": 3
   },
   "file_extension": ".py",
   "mimetype": "text/x-python",
   "name": "python",
   "nbconvert_exporter": "python",
   "pygments_lexer": "ipython3",
   "version": "3.12.4"
  }
 },
 "nbformat": 4,
 "nbformat_minor": 2
}
