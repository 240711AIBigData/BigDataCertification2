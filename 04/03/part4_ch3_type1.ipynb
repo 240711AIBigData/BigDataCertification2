{
 "cells": [
  {
   "cell_type": "markdown",
   "metadata": {},
   "source": [
    "# 제 3회 기출\n",
    "\n",
    "## 작업형 제 1 유형\n",
    "\n",
    "### ✏️ 결측치가 있는 데이터의 행(레코드)를 제거하고, 앞에서부터 70% 데이터만 활용해 'f1' 컬럼 1사분윅 값을 구하시오. (소수점 제거 후 정수 출력)"
   ]
  },
  {
   "cell_type": "code",
   "execution_count": 2,
   "metadata": {},
   "outputs": [
    {
     "name": "stdout",
     "output_type": "stream",
     "text": [
      "     id   age city    f1  f2    f3    f4         f5  subscribed   views\n",
      "0  id01   2.0   서울   NaN   0  gold  ENFJ  91.297791  2021-07-16  6820.0\n",
      "1  id02   9.0   서울  70.0   1   NaN  ENFJ  60.339826  2021-05-12  2534.0\n",
      "2  id03  27.0   서울  61.0   1  gold  ISTJ  17.252986  2021-03-16  7312.0\n",
      "3  id04  75.0   서울   NaN   2   NaN  INFP  52.667078  2021-07-21   493.0\n",
      "4  id05  24.0   서울  85.0   2   NaN  ISFJ  29.269869  2021-03-07  1338.0\n"
     ]
    }
   ],
   "source": [
    "import pandas as pd\n",
    "df = pd.read_csv('./data/members.csv');\n",
    "\n",
    "print(df.head())"
   ]
  },
  {
   "cell_type": "code",
   "execution_count": null,
   "metadata": {},
   "outputs": [
    {
     "name": "stdout",
     "output_type": "stream",
     "text": [
      "       id   age city     f1  f2      f3    f4         f5  subscribed    views\n",
      "2    id03  27.0   서울   61.0   1    gold  ISTJ  17.252986  2021-03-16   7312.0\n",
      "5    id06  22.0   서울   57.0   0     vip  INTP  20.129444  2021-09-12  21550.0\n",
      "7    id08  38.0   서울  101.0   1  silver  INFJ  83.685380  2021-03-06   3260.0\n",
      "9    id10  95.0   서울   74.0   1    gold  ISFP  98.429899  2021-04-03   9992.0\n",
      "10  id100  47.0   경기   53.0   0     vip  ESFP  33.308999  2021-02-21  15535.0 \n",
      "\n",
      "57\n"
     ]
    }
   ],
   "source": [
    "# 1. 결측치가 있는 행 제거(기본값 axis=0)\n",
    "## dropna() 활용해 결측치가 있는 모든 행 제거\n",
    "df = df.dropna()\n",
    "\n",
    "print(df.head(), '\\n')\n",
    "\n",
    "# 2. 앞에서부터 70% 데이터 슬라이싱\n",
    "## 전체 행 수를 len() 함수로 구하고, 70% 데이터 인덱스 위치 찾기\n",
    "## 70% 위치가 소수점일 경우 정수형으로 변경\n",
    "df = df.iloc[:int(len(df)*0.7)]\n",
    "\n",
    "# 3. 1사분위 값 계산(정수 출력)\n",
    "## quantile(.25) 통해 1사분위 값을 찾고, 정수형으로 출력(int 는 소수점 제거됨)\n",
    "print(int(df['f1'].quantile(.25)))"
   ]
  },
  {
   "cell_type": "markdown",
   "metadata": {},
   "source": [
    "---\n",
    "\n",
    "#### 💡 전체 데이터 70% 지점이 정수가 아닐때\n",
    "- 소수를 제거한 결과와 반올림 결과는 동일하기 때문에 int() 함수를 활용해 제거\n",
    "\n",
    "---"
   ]
  },
  {
   "cell_type": "markdown",
   "metadata": {},
   "source": [
    "### ✏️ 2000년 데이터 중 2000년 평균보다 큰 값의 데이터 수를 구하시오. (index : 연도)"
   ]
  },
  {
   "cell_type": "code",
   "execution_count": null,
   "metadata": {},
   "outputs": [
    {
     "name": "stdout",
     "output_type": "stream",
     "text": [
      "        0    1    2    3    4    5    6    7    8    9  ...  190  191  192  \\\n",
      "1999  137   74  114  140   80  150   16  133  178  181  ...  124   94  118   \n",
      "2000  176   87   64  110  128   16    8    4  123   87  ...   59   22    3   \n",
      "2001  128  132  123  112  134  160  180   47  115  155  ...  160  111  116   \n",
      "\n",
      "      193  194  195  196  197  198  199  \n",
      "1999   12   50  191  137  174   56  128  \n",
      "2000  108   17  104  101  161  156   43  \n",
      "2001   75   48   51   81  101  194   73  \n",
      "\n",
      "[3 rows x 200 columns]\n"
     ]
    }
   ],
   "source": [
    "import pandas as pd\n",
    "df = pd.read_csv('./data/year.csv', index_col='Unnamed: 0')     # 데이터 불러오는 코드는 시험에서 제공\n",
    "print(df.head())"
   ]
  },
  {
   "cell_type": "code",
   "execution_count": null,
   "metadata": {},
   "outputs": [
    {
     "name": "stdout",
     "output_type": "stream",
     "text": [
      "100.735 \n",
      "\n",
      "100\n"
     ]
    }
   ],
   "source": [
    "# [풀이1]\n",
    "\n",
    "# 1. 행을 기준으로 평균 계산\n",
    "## 일반적으로 컬럼을 기준으로 평균을 계산하거나 최대값, 최소값을 찾는 방법 많이 활용\n",
    "## 행을 기준으로 평균을 찾아야 하므로 loc 또는 iloc 활용해 행 선택\n",
    "m = df.loc[2000].mean()\n",
    "print(m, '\\n')\n",
    "\n",
    "# 2. 평균보다 큰 값의 합 계산\n",
    "## 평균보다 큰 값의 합을 계산할 때도 loc 또는 iloc 활용해 행을 기준으로 평균보다 큰 값 찾기\n",
    "print(sum(df.loc[2000, :] > m))"
   ]
  },
  {
   "cell_type": "code",
   "execution_count": 14,
   "metadata": {},
   "outputs": [
    {
     "name": "stdout",
     "output_type": "stream",
     "text": [
      "   1999  2000  2001\n",
      "0   137   176   128\n",
      "1    74    87   132\n",
      "2   114    64   123\n",
      "3   140   110   112\n",
      "4    80   128   134 \n",
      "\n",
      "100\n"
     ]
    }
   ],
   "source": [
    "df = pd.read_csv('./data/year.csv', index_col='Unnamed: 0')     # 데이터 불러오는 코드는 시험에서 제공\n",
    "\n",
    "# [풀이2]\n",
    "\n",
    "# 1. 행과 열을 변경해 평균 계산\n",
    "## 행과 열의 위치를 변경(Transpose)해 기존에 평균을 구하는 방식(컬럼 기준) 활용\n",
    "df = df.T\n",
    "print(df.head(), '\\n')\n",
    "\n",
    "m = df[2000].mean()\n",
    "\n",
    "# 2. 평균보다 큰 값의 합 계산\n",
    "## 평균보다 큰 값의 합을 계산할 때도 행과 열이 변경되어 있으므로 쉽게 풀 수 있음\n",
    "print(sum(df[2000] > m))"
   ]
  },
  {
   "cell_type": "markdown",
   "metadata": {},
   "source": [
    "### ✏️ 결측치가 가장 많은 컬럼명을 출력하시오"
   ]
  },
  {
   "cell_type": "code",
   "execution_count": 15,
   "metadata": {},
   "outputs": [
    {
     "name": "stdout",
     "output_type": "stream",
     "text": [
      "     id   age city    f1  f2    f3    f4         f5  subscribed   views\n",
      "0  id01   2.0   서울   NaN   0  gold  ENFJ  91.297791  2021-07-16  6820.0\n",
      "1  id02   9.0   서울  70.0   1   NaN  ENFJ  60.339826  2021-05-12  2534.0\n",
      "2  id03  27.0   서울  61.0   1  gold  ISTJ  17.252986  2021-03-16  7312.0\n",
      "3  id04  75.0   서울   NaN   2   NaN  INFP  52.667078  2021-07-21   493.0\n",
      "4  id05  24.0   서울  85.0   2   NaN  ISFJ  29.269869  2021-03-07  1338.0\n"
     ]
    }
   ],
   "source": [
    "import pandas as pd\n",
    "df = pd.read_csv('./data/members.csv')\n",
    "print(df.head())"
   ]
  },
  {
   "cell_type": "code",
   "execution_count": null,
   "metadata": {},
   "outputs": [
    {
     "name": "stdout",
     "output_type": "stream",
     "text": [
      "id             0\n",
      "age            0\n",
      "city           0\n",
      "f1            31\n",
      "f2             0\n",
      "f3            28\n",
      "f4             0\n",
      "f5             0\n",
      "subscribed     0\n",
      "views          4\n",
      "dtype: int64 \n",
      "\n",
      "f1            31\n",
      "f3            28\n",
      "views          4\n",
      "id             0\n",
      "age            0\n",
      "city           0\n",
      "f2             0\n",
      "f4             0\n",
      "f5             0\n",
      "subscribed     0\n",
      "dtype: int64 \n",
      "\n",
      "f1\n"
     ]
    }
   ],
   "source": [
    "# [풀이1]\n",
    "\n",
    "# 1. 결측치 수 컬럼별로 확인 및 변수에 대입\n",
    "## df.isnull().sum() 으로 결측치 확인하고 변수에 대입 (데이터 형태는 시리즈, 컬럼 1개)\n",
    "df_countNull = df.isnull().sum()\n",
    "print(df_countNull, '\\n')\n",
    "\n",
    "# 2. 내림차순 정렬\n",
    "## sort_values(ascending=False) 통해 내림차순 정렬\n",
    "## 가장 상위에 있는 수가 결측치가 가장 많은 수\n",
    "df_countNull = df_countNull.sort_values(ascending=False)\n",
    "print(df_countNull, '\\n')\n",
    "\n",
    "# 3. 가장 상위에 있는 인덱스명 출력\n",
    "## 결측치가 가장 많은 수의 인덱스명 출력 -> 여기서 말하는 인덱스명은 데이터에서는 컬럼명\n",
    "print(df_countNull.index[0])"
   ]
  },
  {
   "cell_type": "code",
   "execution_count": 22,
   "metadata": {},
   "outputs": [
    {
     "name": "stdout",
     "output_type": "stream",
     "text": [
      "id             0\n",
      "age            0\n",
      "city           0\n",
      "f1            31\n",
      "f2             0\n",
      "f3            28\n",
      "f4             0\n",
      "f5             0\n",
      "subscribed     0\n",
      "views          4\n",
      "dtype: int64 \n",
      "\n",
      "        index   0\n",
      "0          id   0\n",
      "1         age   0\n",
      "2        city   0\n",
      "3          f1  31\n",
      "4          f2   0\n",
      "5          f3  28\n",
      "6          f4   0\n",
      "7          f5   0\n",
      "8  subscribed   0\n",
      "9       views   4 \n",
      "\n",
      "f1\n"
     ]
    }
   ],
   "source": [
    "df = pd.read_csv('./data/members.csv')\n",
    "\n",
    "# [풀이2]\n",
    "\n",
    "# 1. 결측치 수 컬럼별로 확인 및 변수에 대입\n",
    "df_countNull = df.isnull().sum()\n",
    "print(df_countNull, '\\n')\n",
    "\n",
    "# 2. 인덱스 리셋을 활용해 기존 인덱스를 새로운 컬럼으로 변경\n",
    "df_countNull = df_countNull.reset_index()\n",
    "print(df_countNull, '\\n')\n",
    "\n",
    "# 3. 출력하고자 하는 값을 찾아 출력\n",
    "print(df_countNull.loc[3, 'index'])"
   ]
  }
 ],
 "metadata": {
  "kernelspec": {
   "display_name": "base",
   "language": "python",
   "name": "python3"
  },
  "language_info": {
   "codemirror_mode": {
    "name": "ipython",
    "version": 3
   },
   "file_extension": ".py",
   "mimetype": "text/x-python",
   "name": "python",
   "nbconvert_exporter": "python",
   "pygments_lexer": "ipython3",
   "version": "3.12.4"
  }
 },
 "nbformat": 4,
 "nbformat_minor": 2
}
