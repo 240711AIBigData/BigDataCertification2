{
 "cells": [
  {
   "cell_type": "markdown",
   "metadata": {},
   "source": [
    "## 작업형 제 2 유형\n",
    "\n",
    "### ✏️ 차량의 특징 기반 데이터를 활용해 test 데이터의 중고차 가격을 예측하시오.\n",
    "- 제공된 데이터 목록 : train.csv, test.csv\n",
    "- 예측할 컬럼 : price(차량 가격)\n",
    "- 학습용 데이터(train.csv)를 이용하여 차량 가격을 예측하는 모델을 만든 후 이를 평가용 데이터(test.csv)에 적용해 얻은 예측값을 다음과 같은 형식의 csv 파일로 생성하시오.\n",
    "    - 제출 파일은 다음 1개의 컬럼을 포함해야 한다\n",
    "        - pred : 예측된 차량 가격\n",
    "        - 제출 파일명 : result.csv\n",
    "    - 제출한 모델의 성능은 RMSE(Root Mean Square Error) 평가지표에 따라 채점한다"
   ]
  },
  {
   "cell_type": "code",
   "execution_count": 1,
   "metadata": {},
   "outputs": [],
   "source": [
    "# 1. 문제 정의\n",
    "## 자동차 데이터, 차량의 특징을 기반으로 가격(price) 에측\n",
    "\n",
    "# 2. 라이브러리 및 데이터 불러오기\n",
    "import pandas as pd\n",
    "train = pd.read_csv('./data/train.csv')\n",
    "test = pd.read_csv('./data/test.csv')"
   ]
  },
  {
   "cell_type": "code",
   "execution_count": 2,
   "metadata": {},
   "outputs": [
    {
     "name": "stdout",
     "output_type": "stream",
     "text": [
      "(3759, 9) (1617, 8) \n",
      "\n",
      "       model  year  price transmission  mileage fuelType  tax   mpg  \\\n",
      "0   EcoSport  2017  10298       Manual    25013   Petrol  150  53.3   \n",
      "1      Focus  2016  10491       Manual    30970   Diesel    0  74.3   \n",
      "2      S-MAX  2017  13498       Manual    60200   Diesel  150  56.5   \n",
      "\n",
      "   engineSize  \n",
      "0         1.0  \n",
      "1         1.5  \n",
      "2         2.0   \n",
      "\n",
      "     model  year transmission  mileage fuelType  tax   mpg  engineSize\n",
      "0    S-MAX  2016       Manual    23905   Diesel  125  56.5         2.0\n",
      "1   Fiesta  2018       Manual    16895   Petrol  145  40.3         1.5\n",
      "2     Kuga  2017       Manual    12109   Petrol  165  45.6         1.5 \n",
      "\n",
      "<class 'pandas.core.frame.DataFrame'>\n",
      "RangeIndex: 3759 entries, 0 to 3758\n",
      "Data columns (total 9 columns):\n",
      " #   Column        Non-Null Count  Dtype  \n",
      "---  ------        --------------  -----  \n",
      " 0   model         3759 non-null   object \n",
      " 1   year          3759 non-null   int64  \n",
      " 2   price         3759 non-null   int64  \n",
      " 3   transmission  3759 non-null   object \n",
      " 4   mileage       3759 non-null   int64  \n",
      " 5   fuelType      3759 non-null   object \n",
      " 6   tax           3759 non-null   int64  \n",
      " 7   mpg           3759 non-null   float64\n",
      " 8   engineSize    3759 non-null   float64\n",
      "dtypes: float64(2), int64(4), object(3)\n",
      "memory usage: 264.4+ KB\n",
      "None \n",
      "\n",
      "              year         price        mileage          tax          mpg  \\\n",
      "count  3759.000000   3759.000000    3759.000000  3759.000000  3759.000000   \n",
      "mean   2016.887736  12353.321362   23191.786379   114.444001    57.793083   \n",
      "std       2.151811   4750.338051   19223.258713    61.713682    10.099221   \n",
      "min    2002.000000   1095.000000       5.000000     0.000000    20.900000   \n",
      "25%    2016.000000   9000.000000    9997.500000    75.000000    52.300000   \n",
      "50%    2017.000000  11495.000000   18180.000000   145.000000    58.900000   \n",
      "75%    2018.000000  15310.000000   31000.000000   145.000000    65.700000   \n",
      "max    2060.000000  48000.000000  144000.000000   570.000000   201.800000   \n",
      "\n",
      "        engineSize  \n",
      "count  3759.000000  \n",
      "mean      1.352807  \n",
      "std       0.437130  \n",
      "min       0.000000  \n",
      "25%       1.000000  \n",
      "50%       1.200000  \n",
      "75%       1.500000  \n",
      "max       5.000000   \n",
      "\n",
      "          model transmission fuelType\n",
      "count      3759         3759     3759\n",
      "unique       19            3        3\n",
      "top      Fiesta       Manual   Petrol\n",
      "freq       1372         3234     2541 \n",
      "\n",
      "          model transmission fuelType\n",
      "count      1617         1617     1617\n",
      "unique       19            3        3\n",
      "top      Fiesta       Manual   Petrol\n",
      "freq        591         1385     1085 \n",
      "\n",
      "0 \n",
      "\n",
      "0 \n",
      "\n",
      "price\n",
      "12000    33\n",
      "9000     31\n",
      "11000    30\n",
      "11500    27\n",
      "10000    27\n",
      "         ..\n",
      "8782      1\n",
      "14620     1\n",
      "15320     1\n",
      "17994     1\n",
      "6830      1\n",
      "Name: count, Length: 1443, dtype: int64\n"
     ]
    },
    {
     "data": {
      "text/plain": [
       "<Axes: >"
      ]
     },
     "execution_count": 2,
     "metadata": {},
     "output_type": "execute_result"
    },
    {
     "data": {
      "image/png": "[encoded data removed]",
      "text/plain": [
       "<Figure size 640x480 with 1 Axes>"
      ]
     },
     "metadata": {},
     "output_type": "display_data"
    }
   ],
   "source": [
    "# 3. 탐색적 데이터 분석(EDA)\n",
    "## 데이터 크기\n",
    "print(train.shape, test.shape, '\\n')\n",
    "\n",
    "## 데이터 샘플\n",
    "print(train.head(3), '\\n')\n",
    "print(test.head(3), '\\n')\n",
    "\n",
    "## 데이터 자료형(타입)\n",
    "print(train.info(), '\\n')\n",
    "\n",
    "## 기초통계량\n",
    "print(train.describe(), '\\n')\n",
    "\n",
    "## object 자료형의 unique 개수\n",
    "print(train.describe(include='object'), '\\n')\n",
    "print(test.describe(include='object'), '\\n')\n",
    "\n",
    "## 결측치 확인\n",
    "print(train.isnull().sum().sum(), '\\n')\n",
    "print(test.isnull().sum().sum(), '\\n')\n",
    "\n",
    "## 회귀의 경우 label(target) 이 연속형 -> 시험환경에서는 지원하지 않지만 보통 시각화로 확인(시험에서는 describe() 활용)\n",
    "## 분류와 회귀를 구분하기 어렵다면 value_counts() 확인해서 수백, 수천개가 나온다면 회귀로 판단\n",
    "print(train['price'].value_counts())    # 종류가 1,443개로 회귀\n",
    "\n",
    "## 금액(x축)rhk tnfid(y축)을 히스토그램(histogram)으로 표현시\n",
    "train['price'].hist()"
   ]
  },
  {
   "cell_type": "code",
   "execution_count": 3,
   "metadata": {},
   "outputs": [
    {
     "name": "stdout",
     "output_type": "stream",
     "text": [
      "(3759, 8) (1617, 8)\n",
      "(3759, 30) (1617, 30)\n"
     ]
    }
   ],
   "source": [
    "# 4. 데이터 전처리\n",
    "## 자료형이 object 인 컬럼을 원-핫 인코딩\n",
    "target = train.pop('price')\n",
    "print(train.shape, test.shape)\n",
    "\n",
    "train = pd.get_dummies(train)\n",
    "test = pd.get_dummies(test)\n",
    "print(train.shape, test.shape)"
   ]
  },
  {
   "cell_type": "code",
   "execution_count": 4,
   "metadata": {},
   "outputs": [
    {
     "name": "stdout",
     "output_type": "stream",
     "text": [
      "(3007, 30) (752, 30) (3007,) (752,)\n"
     ]
    }
   ],
   "source": [
    "# 5. 검증 데이터 분할\n",
    "from sklearn.model_selection import train_test_split\n",
    "X_train, X_val, y_train, y_val = train_test_split(train, target, test_size=0.2, random_state=0)\n",
    "print(X_train.shape, X_val.shape, y_train.shape, y_val.shape)"
   ]
  },
  {
   "cell_type": "code",
   "execution_count": null,
   "metadata": {},
   "outputs": [
    {
     "name": "stdout",
     "output_type": "stream",
     "text": [
      "Requirement already satisfied: xgboost in c:\\users\\babys\\anaconda3\\lib\\site-packages (2.1.2)\n",
      "Requirement already satisfied: numpy in c:\\users\\babys\\anaconda3\\lib\\site-packages (from xgboost) (1.26.4)\n",
      "Requirement already satisfied: scipy in c:\\users\\babys\\anaconda3\\lib\\site-packages (from xgboost) (1.13.1)\n",
      "선형회귀 : 1862.2289379589952\n",
      "의사결정 나무 : 1740.134515580284\n",
      "xgboost : 1248.9714752111672\n",
      "[LightGBM] [Warning] Found whitespace in feature_names, replace with underlines\n",
      "[LightGBM] [Info] Auto-choosing col-wise multi-threading, the overhead of testing was 0.000531 seconds.\n",
      "You can set `force_col_wise=true` to remove the overhead.\n",
      "[LightGBM] [Info] Total Bins 396\n",
      "[LightGBM] [Info] Number of data points in the train set: 3007, number of used features: 23\n",
      "[LightGBM] [Info] Start training from score 12376.855670\n",
      "lightGBM : 1215.0352179520182\n"
     ]
    }
   ],
   "source": [
    "# 6. 머신러닝 학습 및 평가\n",
    "from sklearn.linear_model import LinearRegression\n",
    "from sklearn.tree import DecisionTreeRegressor\n",
    "from sklearn.ensemble import RandomForestRegressor\n",
    "!pip install xgboost\n",
    "import xgboost as xgb\n",
    "import lightgbm as lgb\n",
    "from sklearn.metrics import root_mean_squared_error as rmse    # RMSE 는 0 에 가까울수록(오차가 작을수록) 좋은 모델\n",
    "# from sklearn.metrics import mean_squared_error\n",
    "# def rmse(y_true, y_pred):\n",
    "#     return mean_squared_error(y_true, y_pred)**0.5\n",
    "\n",
    "lr = LinearRegression()\n",
    "lr.fit(X_train, y_train)\n",
    "pred = lr.predict(X_val)        # 회귀는 predict() 로만 예측 -> 선형 회귀 모델은 random_state 하이퍼파라미터가 없기 때문\n",
    "print('선형회귀 :', rmse(y_val, pred))\n",
    "\n",
    "dt = DecisionTreeRegressor(random_state=0)\n",
    "dt.fit(X_train, y_train)\n",
    "pred = dt.predict(X_val)\n",
    "print('의사결정 나무 :', rmse(y_val, pred))\n",
    "\n",
    "xg = xgb.XGBRegressor(random_state=0)\n",
    "xg.fit(X_train, y_train)\n",
    "pred = xg.predict(X_val)\n",
    "print('xgboost :', rmse(y_val, pred))\n",
    "\n",
    "lg = lgb.LGBMRegressor(random_state=0)\n",
    "lg.fit(X_train, y_train)\n",
    "pred = lg.predict(X_val)\n",
    "print(\"lightGBM :\", rmse(y_val, pred))  # 채택"
   ]
  },
  {
   "cell_type": "code",
   "execution_count": 14,
   "metadata": {},
   "outputs": [
    {
     "name": "stdout",
     "output_type": "stream",
     "text": [
      "           pred\n",
      "0  15444.186657\n",
      "1  16243.305415\n",
      "2  14824.701166\n",
      "3  17696.309227\n",
      "4   6466.907953\n"
     ]
    }
   ],
   "source": [
    "# 7. 예측 및 결과 파일 생성\n",
    "pred = lg.predict(test)\n",
    "submit = pd.DataFrame({'pred':pred})\n",
    "submit.to_csv('result.csv', index=False)\n",
    "\n",
    "print(pd.read_csv('result.csv').head())"
   ]
  },
  {
   "cell_type": "code",
   "execution_count": null,
   "metadata": {},
   "outputs": [
    {
     "name": "stdout",
     "output_type": "stream",
     "text": [
      "(3007, 8) (752, 8) (3007,) (752,)\n",
      "[LightGBM] [Info] Auto-choosing col-wise multi-threading, the overhead of testing was 0.000328 seconds.\n",
      "You can set `force_col_wise=true` to remove the overhead.\n",
      "[LightGBM] [Info] Total Bins 385\n",
      "[LightGBM] [Info] Number of data points in the train set: 3007, number of used features: 8\n",
      "[LightGBM] [Info] Start training from score 12376.855670\n",
      "1188.060473375616\n"
     ]
    }
   ],
   "source": [
    "# 8-1. 성능 개선(인코딩)\n",
    "## 개선 전 원-핫 인코딩 : 1215.0352179520182\n",
    "\n",
    "# 데이터 불러오기\n",
    "import pandas as pd\n",
    "train = pd.read_csv('./data/train.csv')\n",
    "test = pd.read_csv('./data/test.csv')\n",
    "\n",
    "# target 데이터\n",
    "target = train.pop('price')\n",
    "\n",
    "# 레이블 인코딩 : 1188.060473375616 이므로 채택\n",
    "from sklearn.preprocessing import LabelEncoder\n",
    "cols = train.select_dtypes(include='object').columns\n",
    "for col in cols:\n",
    "    le = LabelEncoder()\n",
    "    train[col] = le.fit_transform(train[col])\n",
    "    test[col] = le.transform(test[col])\n",
    "\n",
    "# 검증데이터 분리\n",
    "from sklearn.model_selection import train_test_split\n",
    "X_train, X_val, y_train, y_val = train_test_split(train, target, test_size=0.2, random_state=0)\n",
    "print(X_train.shape, X_val.shape, y_train.shape, y_val.shape)\n",
    "\n",
    "# LightGBM\n",
    "import lightgbm as lgb\n",
    "from sklearn.metrics import root_mean_squared_error as rmse\n",
    "lg = lgb.LGBMRegressor(random_state=0)\n",
    "lg.fit(X_train, y_train)\n",
    "pred = lg.predict(X_val)\n",
    "print(rmse(y_val, pred))"
   ]
  },
  {
   "cell_type": "code",
   "execution_count": 19,
   "metadata": {},
   "outputs": [
    {
     "name": "stdout",
     "output_type": "stream",
     "text": [
      "(3007, 8) (752, 8) (3007,) (752,)\n",
      "[LightGBM] [Info] Auto-choosing col-wise multi-threading, the overhead of testing was 0.000241 seconds.\n",
      "You can set `force_col_wise=true` to remove the overhead.\n",
      "[LightGBM] [Info] Total Bins 388\n",
      "[LightGBM] [Info] Number of data points in the train set: 3007, number of used features: 8\n",
      "[LightGBM] [Info] Start training from score 12376.855670\n",
      "1179.0503419148163\n"
     ]
    }
   ],
   "source": [
    "# 8-1. 성능 개선(스케일링)\n",
    "## 개선 전 : 1188.060473375616\n",
    "\n",
    "# 데이터 불러오기\n",
    "import pandas as pd\n",
    "train = pd.read_csv('./data/train.csv')\n",
    "test = pd.read_csv('./data/test.csv')\n",
    "\n",
    "# target 데이터\n",
    "target = train.pop('price')\n",
    "\n",
    "# 스케일링\n",
    "from sklearn.preprocessing import StandardScaler    # 1179.0503419148163 채택\n",
    "from sklearn.preprocessing import MinMaxScaler      # 1191.8980221017785\n",
    "from sklearn.preprocessing import RobustScaler      # 1184.825002211304\n",
    "scaler = StandardScaler()\n",
    "cols = train.select_dtypes(exclude='object').columns\n",
    "train[cols] = scaler.fit_transform(train[cols])\n",
    "test[cols] = scaler.transform(test[cols])\n",
    "\n",
    "# 레이블 인코딩\n",
    "from sklearn.preprocessing import LabelEncoder\n",
    "cols = train.select_dtypes(include='object').columns\n",
    "for col in cols:\n",
    "    le = LabelEncoder()\n",
    "    train[col] = le.fit_transform(train[col])\n",
    "    test[col] = le.transform(test[col])\n",
    "\n",
    "# 검증데이터 분리\n",
    "from sklearn.model_selection import train_test_split\n",
    "X_train, X_val, y_train, y_val = train_test_split(train, target, test_size=0.2, random_state=0)\n",
    "print(X_train.shape, X_val.shape, y_train.shape, y_val.shape)\n",
    "\n",
    "# LightGBM\n",
    "import lightgbm as lgb\n",
    "from sklearn.metrics import root_mean_squared_error as rmse\n",
    "lg = lgb.LGBMRegressor(random_state=0)\n",
    "lg.fit(X_train, y_train)\n",
    "pred = lg.predict(X_val)\n",
    "print(rmse(y_val, pred))"
   ]
  },
  {
   "cell_type": "code",
   "execution_count": 20,
   "metadata": {},
   "outputs": [
    {
     "name": "stdout",
     "output_type": "stream",
     "text": [
      "           pred\n",
      "0  15803.107051\n",
      "1  16160.938495\n",
      "2  14671.224199\n",
      "3  17965.979146\n",
      "4   6295.859066\n"
     ]
    }
   ],
   "source": [
    "# 9. 최종 제출 파일\n",
    "pred = lg.predict(test)\n",
    "submit = pd.DataFrame({'pred':pred})\n",
    "submit.to_csv('result.csv', index=False)\n",
    "\n",
    "print(pd.read_csv('result.csv').head())"
   ]
  }
 ],
 "metadata": {
  "kernelspec": {
   "display_name": "base",
   "language": "python",
   "name": "python3"
  },
  "language_info": {
   "codemirror_mode": {
    "name": "ipython",
    "version": 3
   },
   "file_extension": ".py",
   "mimetype": "text/x-python",
   "name": "python",
   "nbconvert_exporter": "python",
   "pygments_lexer": "ipython3",
   "version": "3.12.4"
  }
 },
 "nbformat": 4,
 "nbformat_minor": 2
}
