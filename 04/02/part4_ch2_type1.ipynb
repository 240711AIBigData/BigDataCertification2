{
 "cells": [
  {
   "cell_type": "markdown",
   "metadata": {},
   "source": [
    "# 제 2회 기출 문제\n",
    "\n",
    "## 작업형 제 1 유형\n",
    "\n",
    "### ✏️ 주어진 데이터에서 'views' 컬럼을 기준으로 내림차순 정렬하고, 'views' 컬럼 상위 10개 데이터를 'views' 컬럼 상위 10번째 값으로 대체한 후 'age' 컬럼이 80 이상인 데이터의 'views' 컬럼 평균값을 구하시오. (반올림하여 소수 둘째자리까지 계산)"
   ]
  },
  {
   "cell_type": "code",
   "execution_count": 102,
   "metadata": {},
   "outputs": [
    {
     "name": "stdout",
     "output_type": "stream",
     "text": [
      "     id   age city    f1  f2    f3    f4         f5  subscribed   views\n",
      "0  id01   2.0   서울   NaN   0  gold  ENFJ  91.297791  2021-07-16  6820.0\n",
      "1  id02   9.0   서울  70.0   1   NaN  ENFJ  60.339826  2021-05-12  2534.0\n",
      "2  id03  27.0   서울  61.0   1  gold  ISTJ  17.252986  2021-03-16  7312.0\n",
      "3  id04  75.0   서울   NaN   2   NaN  INFP  52.667078  2021-07-21   493.0\n",
      "4  id05  24.0   서울  85.0   2   NaN  ISFJ  29.269869  2021-03-07  1338.0\n"
     ]
    }
   ],
   "source": [
    "import pandas as pd\n",
    "df = pd.read_csv('./data/members.csv')\n",
    "\n",
    "print(df.head())"
   ]
  },
  {
   "cell_type": "code",
   "execution_count": 103,
   "metadata": {},
   "outputs": [
    {
     "name": "stdout",
     "output_type": "stream",
     "text": [
      "5     21550.0\n",
      "56    19589.0\n",
      "83    19139.0\n",
      "32    17421.0\n",
      "10    15535.0\n",
      "       ...   \n",
      "93       42.0\n",
      "20        NaN\n",
      "39        NaN\n",
      "48        NaN\n",
      "82        NaN\n",
      "Name: views, Length: 100, dtype: float64 \n",
      "\n",
      "9690.0 \n",
      "\n",
      "5674.04\n"
     ]
    }
   ],
   "source": [
    "# 1. views 컬럼 내림차순 정렬\n",
    "## 'views' 컬럼을 기준으로 정렬하기 위해서 sort_values() 함수 활용\n",
    "df.sort_values('views', ascending=False, inplace=True)\n",
    "### df = df.sort_values('views', ascending=False)  # 대입 연산자 활용 (inplace 제외)\n",
    "print(df['views'], '\\n')\n",
    "\n",
    "# 2. 상위 10개 중에서 10번째 값(최소값) 구하기\n",
    "## 내림차순 정렬된 데이터에서 10개 중에 최소값(10번째 값) 찾기\n",
    "min_value = df['views'][:10].min()\n",
    "### min_value = df['views'].iloc[9]  # index 값으로 10번째 값 찾기\n",
    "print(min_value, '\\n')\n",
    "\n",
    "# 3. 상위 10개 중에서 10번째 값(최소값) 대체\n",
    "## 10개 값만 대체하기 위해서 iloc 활용\n",
    "## loc 활용할 수도 있지만, 정렬로 인해 index 가 섞인 상태\n",
    "df.iloc[:10, -1] = min_value\n",
    "\n",
    "# 4. age 가 80 이상의 views 컬럼 평균\n",
    "## age 가 80 이상인 조건과 views 컬럼 평균 구하기\n",
    "## cond 변수에 조건을 담고 조건을 적용한 데이터프레임 결과(df[cond])가 정상적인 것을 확인한 후 views 컬럼의 평균 구하기\n",
    "## 한번에 작성해도 되지만, 에러가 날 경우 어디서 잘못되었는지 파악하기 어려움\n",
    "cond = df['age'] >= 80\n",
    "result = df[cond]['views'].mean()\n",
    "\n",
    "# 5. 반올림해 소수 둘째 자리까지 계산\n",
    "## round() 함수 활용해 소수 둘째 자리까지 반올림하여 출력\n",
    "print(round(result, 2))"
   ]
  },
  {
   "cell_type": "markdown",
   "metadata": {},
   "source": [
    "### ✏️ 주어진 데이터셋에서 앞에서부터 순서대로 80% 데이터만 활용해 'f1' 컬럼 결측치를 중앙값으로 채우기 전후의 표본 표준편차를 구하고, 두 표본 표준편차의 차이를 계산하시오. (두 표본 표준 편차 차이는 절댓값으로 계산하고, 반올림하여 소수 둘째 자리까지 계산)"
   ]
  },
  {
   "cell_type": "code",
   "execution_count": 104,
   "metadata": {},
   "outputs": [
    {
     "name": "stdout",
     "output_type": "stream",
     "text": [
      "     id   age city    f1  f2    f3    f4         f5  subscribed   views\n",
      "0  id01   2.0   서울   NaN   0  gold  ENFJ  91.297791  2021-07-16  6820.0\n",
      "1  id02   9.0   서울  70.0   1   NaN  ENFJ  60.339826  2021-05-12  2534.0\n",
      "2  id03  27.0   서울  61.0   1  gold  ISTJ  17.252986  2021-03-16  7312.0\n",
      "3  id04  75.0   서울   NaN   2   NaN  INFP  52.667078  2021-07-21   493.0\n",
      "4  id05  24.0   서울  85.0   2   NaN  ISFJ  29.269869  2021-03-07  1338.0\n"
     ]
    }
   ],
   "source": [
    "import pandas as pd\n",
    "df = pd.read_csv('./data/members.csv')\n",
    "print(df.head())"
   ]
  },
  {
   "cell_type": "code",
   "execution_count": 105,
   "metadata": {},
   "outputs": [
    {
     "name": "stdout",
     "output_type": "stream",
     "text": [
      "결측치 개수 : 25 \n",
      "\n",
      "20.574853076621935 \n",
      "\n",
      "68.0 \n",
      "\n",
      "결측치 개수 : 0 \n",
      "\n",
      "17.010788646613275 \n",
      "\n",
      "3.56\n"
     ]
    }
   ],
   "source": [
    "# 1. 앞에서부터 80% 데이터 슬라이싱\n",
    "## 80% 데이터를 슬라이싱하기 위해 80% 인덱스 지점 찾기\n",
    "## 전체 데이터(레코드) 수를 len() 함수로 구하고 이를 0.8 로 곱해 80% 지점 찾기 가능\n",
    "## iloc 에서 인덱스는 정수형으로 입력되어야 하므로 int()로 형변환 진행\n",
    "## ex) 데이터가 10개 있을 경우 iloc 활용해 80% 데이터를 슬라이싱하기 위해서는 iloc[:8] : 0 ~ 7 까지 10개 중 80% 결과 출력\n",
    "line = int(len(df) * 0.8)\n",
    "df = df.iloc[:line]\n",
    "\n",
    "# 2. 결측치 채우기 전 'f1' 컬럼 표준편차\n",
    "## 판다스에서 표준편차를 구하는 방법 : std() 함수 활용\n",
    "## 결측치를 채우기 전후로 print(df.isnull().sum()) 확인하는 것이 좋음\n",
    "print('결측치 개수 :', df['f1'].isnull().sum(), '\\n')\n",
    "\n",
    "std1 = df['f1'].std()\n",
    "print(std1, '\\n')\n",
    "\n",
    "# 3. 중앙값으로 결측치 채우기\n",
    "## 중앙값을 구하고 df['컬럼명'].fillna() 를 통해 특정 컬럼 결측치 채우기\n",
    "med = df['f1'].median()\n",
    "print(med, '\\n')\n",
    "df['f1'] = df['f1'].fillna(med)\n",
    "\n",
    "\n",
    "# 4. 결측치를 채운 후 'f1' 컬럼 표준편차\n",
    "## 결측치를 채운 후 std() 함수를 활용해 표준편차 구하기\n",
    "print('결측치 개수 :', df['f1'].isnull().sum(), '\\n')\n",
    "\n",
    "std2 = df['f1'].std()\n",
    "print(std2, '\\n')\n",
    "\n",
    "# 5. 두 표준편차 차이 절대값 계산 (반올림하여 소수 둘째 자리까지 계산)\n",
    "## 절대값을 구할 때는 abs() 함수 활용\n",
    "result = abs(std1 - std2)\n",
    "print(round(result, 2))"
   ]
  },
  {
   "cell_type": "markdown",
   "metadata": {},
   "source": [
    "#### 💡 표본 표준편차(판다스) vs 모 표준편차(넘파이)\n",
    "- 표준편차 함수는 판다스에도 있고, 넘파이에도 있음\n",
    "\n",
    "    - 판다스는 표본 표준편차를 기본으로 함\n",
    "\n",
    "    - 넘파이는 모 표준편차를 기본으로 함\n",
    "\n",
    "- 시험에서는 기본적으로는 판다스 std() 함수를 기본값(표본 표준편차)으로 활용"
   ]
  },
  {
   "cell_type": "code",
   "execution_count": 106,
   "metadata": {},
   "outputs": [
    {
     "name": "stdout",
     "output_type": "stream",
     "text": [
      "판다스 표본 표준편차 : 17.010788646613275\n",
      "넘파이 모 표준편차 : 16.904136882727855 \n",
      "\n",
      "판다스 모 표준편차 : 16.904136882727855\n",
      "넘파이 표본 표준편차 : 17.010788646613275\n"
     ]
    }
   ],
   "source": [
    "# 표본 표준편차 vs 모 표준편차\n",
    "import numpy as np\n",
    "\n",
    "# 기본값\n",
    "print('판다스 표본 표준편차 :', df['f1'].std())\n",
    "print('넘파이 모 표준편차 :', np.std(df['f1']), '\\n')\n",
    "\n",
    "# ddof 변경\n",
    "print('판다스 모 표준편차 :', df['f1'].std(ddof=0))\n",
    "print('넘파이 표본 표준편차 :', np.std(df['f1'], ddof=1))"
   ]
  },
  {
   "cell_type": "markdown",
   "metadata": {},
   "source": [
    "### ✏️ 주어진 데이터셋의 'age' 컬럼의 이상치를 모두 더하시오. 이상치는 평균으로부터 '표준편차 * 1.5'를 벗어나는 영역을 이상치라고 판단한다."
   ]
  },
  {
   "cell_type": "code",
   "execution_count": 107,
   "metadata": {},
   "outputs": [
    {
     "name": "stdout",
     "output_type": "stream",
     "text": [
      "     id   age city    f1  f2    f3    f4         f5  subscribed   views\n",
      "0  id01   2.0   서울   NaN   0  gold  ENFJ  91.297791  2021-07-16  6820.0\n",
      "1  id02   9.0   서울  70.0   1   NaN  ENFJ  60.339826  2021-05-12  2534.0\n",
      "2  id03  27.0   서울  61.0   1  gold  ISTJ  17.252986  2021-03-16  7312.0\n",
      "3  id04  75.0   서울   NaN   2   NaN  INFP  52.667078  2021-07-21   493.0\n",
      "4  id05  24.0   서울  85.0   2   NaN  ISFJ  29.269869  2021-03-07  1338.0\n"
     ]
    }
   ],
   "source": [
    "import pandas as pd\n",
    "df = pd.read_csv('./data/members.csv')\n",
    "print(df.head())"
   ]
  },
  {
   "cell_type": "code",
   "execution_count": 108,
   "metadata": {},
   "outputs": [
    {
     "name": "stdout",
     "output_type": "stream",
     "text": [
      "표준편차 : 30.442758522588697 \n",
      "평균 : 50.963 \n",
      "\n",
      "최저 : 5.298862216116952 \n",
      "최고 : 96.62713778388306 \n",
      "\n",
      "473.5\n"
     ]
    }
   ],
   "source": [
    "# 1. 표준편차, 평균값 구하기\n",
    "## std()와 mean()을 활용해 age 컬럼의 표준편차와 평균값 구하기\n",
    "std = df['age'].std()\n",
    "mean = df['age'].mean()\n",
    "\n",
    "print('표준편차 :', std, '\\n평균 :', mean, '\\n')\n",
    "\n",
    "# 2. 이상치 최저, 최고 기준 구하기\n",
    "## 문제에서 안내한 이상치의 기준 구하기 (평균에서 표준편차 * 1.5 를 벗어나는 영역)\n",
    "## 이상치의 최저 기준과 최고 기준 찾기\n",
    "lower = mean - (std * 1.5)\n",
    "upper = mean + (std * 1.5)\n",
    "\n",
    "print('최저 :', lower, '\\n최고 :', upper, '\\n')\n",
    "\n",
    "# 3. 이상치를 벗어나는 값(조건) 걸기\n",
    "## 최저 기준보다 작은 조건(A)과 최고 기준보다 큰 조건(B) 2개 만들기\n",
    "cond1 = df['age'] < lower\n",
    "cond2 = df['age'] > upper\n",
    "\n",
    "# 4. 조건에 만족하는 이상치 age 합\n",
    "## 또는(|) 활용해 A 또는 B 에 해당하는 age 값 모두 더하기\n",
    "print(df[cond1|cond2]['age'].sum())"
   ]
  }
 ],
 "metadata": {
  "kernelspec": {
   "display_name": "base",
   "language": "python",
   "name": "python3"
  },
  "language_info": {
   "codemirror_mode": {
    "name": "ipython",
    "version": 3
   },
   "file_extension": ".py",
   "mimetype": "text/x-python",
   "name": "python",
   "nbconvert_exporter": "python",
   "pygments_lexer": "ipython3",
   "version": "3.12.4"
  }
 },
 "nbformat": 4,
 "nbformat_minor": 2
}
