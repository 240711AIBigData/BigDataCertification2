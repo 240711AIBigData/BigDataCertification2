{
 "cells": [
  {
   "cell_type": "markdown",
   "metadata": {},
   "source": [
    "# 제 2회 기출 문제\n",
    "\n",
    "## 작업형 제 1 유형\n",
    "\n",
    "### ✏️ 주어진 데이터에서 'views' 컬럼을 기준으로 내림차순 정렬하고, 'views' 컬럼 상위 10개 데이터를 'views' 컬럼 상위 10번째 값으로 대체한 후 'age' 컬럼이 80 이상인 데이터의 'views' 컬럼 평균값을 구하시오. (반올림하여 소수 둘째자리까지 계산)"
   ]
  },
  {
   "cell_type": "code",
   "execution_count": 102,
   "metadata": {},
   "outputs": [
    {
     "name": "stdout",
     "output_type": "stream",
     "text": [
      "     id   age city    f1  f2    f3    f4         f5  subscribed   views\n",
      "0  id01   2.0   서울   NaN   0  gold  ENFJ  91.297791  2021-07-16  6820.0\n",
      "1  id02   9.0   서울  70.0   1   NaN  ENFJ  60.339826  2021-05-12  2534.0\n",
      "2  id03  27.0   서울  61.0   1  gold  ISTJ  17.252986  2021-03-16  7312.0\n",
      "3  id04  75.0   서울   NaN   2   NaN  INFP  52.667078  2021-07-21   493.0\n",
      "4  id05  24.0   서울  85.0   2   NaN  ISFJ  29.269869  2021-03-07  1338.0\n"
     ]
    }
   ],
   "source": [
    "import pandas as pd\n",
    "df = pd.read_csv('./data/members.csv')\n",
    "\n",
    "print(df.head())"
   ]
  },
  {
   "cell_type": "code",
   "execution_count": 103,
   "metadata": {},
   "outputs": [
    {
     "name": "stdout",
     "output_type": "stream",
     "text": [
      "5     21550.0\n",
      "56    19589.0\n",
      "83    19139.0\n",
      "32    17421.0\n",
      "10    15535.0\n",
      "       ...   \n",
      "93       42.0\n",
      "20        NaN\n",
      "39        NaN\n",
      "48        NaN\n",
      "82        NaN\n",
      "Name: views, Length: 100, dtype: float64 \n",
      "\n",
      "9690.0 \n",
      "\n",
      "5674.04\n"
     ]
    }
   ],
   "source": [
    "# 1. views 컬럼 내림차순 정렬\n",
    "## 'views' 컬럼을 기준으로 정렬하기 위해서 sort_values() 함수 활용\n",
    "df.sort_values('views', ascending=False, inplace=True)\n",
    "### df = df.sort_values('views', ascending=False)  # 대입 연산자 활용 (inplace 제외)\n",
    "print(df['views'], '\\n')\n",
    "\n",
    "# 2. 상위 10개 중에서 10번째 값(최소값) 구하기\n",
    "## 내림차순 정렬된 데이터에서 10개 중에 최소값(10번째 값) 찾기\n",
    "min_value = df['views'][:10].min()\n",
    "### min_value = df['views'].iloc[9]  # index 값으로 10번째 값 찾기\n",
    "print(min_value, '\\n')\n",
    "\n",
    "# 3. 상위 10개 중에서 10번째 값(최소값) 대체\n",
    "## 10개 값만 대체하기 위해서 iloc 활용\n",
    "## loc 활용할 수도 있지만, 정렬로 인해 index 가 섞인 상태\n",
    "df.iloc[:10, -1] = min_value\n",
    "\n",
    "# 4. age 가 80 이상의 views 컬럼 평균\n",
    "## age 가 80 이상인 조건과 views 컬럼 평균 구하기\n",
    "## cond 변수에 조건을 담고 조건을 적용한 데이터프레임 결과(df[cond])가 정상적인 것을 확인한 후 views 컬럼의 평균 구하기\n",
    "## 한번에 작성해도 되지만, 에러가 날 경우 어디서 잘못되었는지 파악하기 어려움\n",
    "cond = df['age'] >= 80\n",
    "result = df[cond]['views'].mean()\n",
    "\n",
    "# 5. 반올림해 소수 둘째 자리까지 계산\n",
    "## round() 함수 활용해 소수 둘째 자리까지 반올림하여 출력\n",
    "print(round(result, 2))"
   ]
  },
  {
   "cell_type": "markdown",
   "metadata": {},
   "source": [
    "### ✏️ 주어진 데이터셋에서 앞에서부터 순서대로 80% 데이터만 활용해 'f1' 컬럼 결측치를 중앙값으로 채우기 전후의 표본 표준편차를 구하고, 두 표본 표준편차의 차이를 계산하시오. (두 표본 표준 편차 차이는 절댓값으로 계산하고, 반올림하여 소수 둘째 자리까지 계산)"
   ]
  },
  {
   "cell_type": "code",
   "execution_count": 104,
   "metadata": {},
   "outputs": [
    {
     "name": "stdout",
     "output_type": "stream",
     "text": [
      "     id   age city    f1  f2    f3    f4         f5  subscribed   views\n",
      "0  id01   2.0   서울   NaN   0  gold  ENFJ  91.297791  2021-07-16  6820.0\n",
      "1  id02   9.0   서울  70.0   1   NaN  ENFJ  60.339826  2021-05-12  2534.0\n",
      "2  id03  27.0   서울  61.0   1  gold  ISTJ  17.252986  2021-03-16  7312.0\n",
      "3  id04  75.0   서울   NaN   2   NaN  INFP  52.667078  2021-07-21   493.0\n",
      "4  id05  24.0   서울  85.0   2   NaN  ISFJ  29.269869  2021-03-07  1338.0\n"
     ]
    }
   ],
   "source": [
    "import pandas as pd\n",
    "df = pd.read_csv('./data/members.csv')\n",
    "print(df.head())"
   ]
  },
  {
   "cell_type": "code",
   "execution_count": 105,
   "metadata": {},
   "outputs": [
    {
     "name": "stdout",
     "output_type": "stream",
     "text": [
      "결측치 개수 : 25 \n",
      "\n",
      "20.574853076621935 \n",
      "\n",
      "68.0 \n",
      "\n",
      "결측치 개수 : 0 \n",
      "\n",
      "17.010788646613275 \n",
      "\n",
      "3.56\n"
     ]
    }
   ],
   "source": [
    "# 1. 앞에서부터 80% 데이터 슬라이싱\n",
    "## 80% 데이터를 슬라이싱하기 위해 80% 인덱스 지점 찾기\n",
    "## 전체 데이터(레코드) 수를 len() 함수로 구하고 이를 0.8 로 곱해 80% 지점 찾기 가능\n",
    "## iloc 에서 인덱스는 정수형으로 입력되어야 하므로 int()로 형변환 진행\n",
    "## ex) 데이터가 10개 있을 경우 iloc 활용해 80% 데이터를 슬라이싱하기 위해서는 iloc[:8] : 0 ~ 7 까지 10개 중 80% 결과 출력\n",
    "line = int(len(df) * 0.8)\n",
    "df = df.iloc[:line]\n",
    "\n",
    "# 2. 결측치 채우기 전 'f1' 컬럼 표준편차\n",
    "## 판다스에서 표준편차를 구하는 방법 : std() 함수 활용\n",
    "## 결측치를 채우기 전후로 print(df.isnull().sum()) 확인하는 것이 좋음\n",
    "print('결측치 개수 :', df['f1'].isnull().sum(), '\\n')\n",
    "\n",
    "std1 = df['f1'].std()\n",
    "print(std1, '\\n')\n",
    "\n",
    "# 3. 중앙값으로 결측치 채우기\n",
    "## 중앙값을 구하고 df['컬럼명'].fillna() 를 통해 특정 컬럼 결측치 채우기\n",
    "med = df['f1'].median()\n",
    "print(med, '\\n')\n",
    "df['f1'] = df['f1'].fillna(med)\n",
    "\n",
    "\n",
    "# 4. 결측치를 채운 후 'f1' 컬럼 표준편차\n",
    "## 결측치를 채운 후 std() 함수를 활용해 표준편차 구하기\n",
    "print('결측치 개수 :', df['f1'].isnull().sum(), '\\n')\n",
    "\n",
    "std2 = df['f1'].std()\n",
    "print(std2, '\\n')\n",
    "\n",
    "# 5. 두 표준편차 차이 절대값 계산 (반올림하여 소수 둘째 자리까지 계산)\n",
    "## 절대값을 구할 때는 abs() 함수 활용\n",
    "result = abs(std1 - std2)\n",
    "print(round(result, 2))"
   ]
  },
  {
   "cell_type": "markdown",
   "metadata": {},
   "source": [
    "#### 💡 표본 표준편차(판다스) vs 모 표준편차(넘파이)\n",
    "- 표준편차 함수는 판다스에도 있고, 넘파이에도 있음\n",
    "\n",
    "    - 판다스는 표본 표준편차를 기본으로 함\n",
    "\n",
    "    - 넘파이는 모 표준편차를 기본으로 함\n",
    "\n",
    "- 시험에서는 기본적으로는 판다스 std() 함수를 기본값(표본 표준편차)으로 활용"
   ]
  },
  {
   "cell_type": "code",
   "execution_count": 106,
   "metadata": {},
   "outputs": [
    {
     "name": "stdout",
     "output_type": "stream",
     "text": [
      "판다스 표본 표준편차 : 17.010788646613275\n",
      "넘파이 모 표준편차 : 16.904136882727855 \n",
      "\n",
      "판다스 모 표준편차 : 16.904136882727855\n",
      "넘파이 표본 표준편차 : 17.010788646613275\n"
     ]
    }
   ],
   "source": [
    "# 표본 표준편차 vs 모 표준편차\n",
    "import numpy as np\n",
    "\n",
    "# 기본값\n",
    "print('판다스 표본 표준편차 :', df['f1'].std())\n",
    "print('넘파이 모 표준편차 :', np.std(df['f1']), '\\n')\n",
    "\n",
    "# ddof 변경\n",
    "print('판다스 모 표준편차 :', df['f1'].std(ddof=0))\n",
    "print('넘파이 표본 표준편차 :', np.std(df['f1'], ddof=1))"
   ]
  },
  {
   "cell_type": "markdown",
   "metadata": {},
   "source": [
    "### ✏️ 주어진 데이터셋의 'age' 컬럼의 이상치를 모두 더하시오. 이상치는 평균으로부터 '표준편차 * 1.5'를 벗어나는 영역을 이상치라고 판단한다."
   ]
  },
  {
   "cell_type": "code",
   "execution_count": 107,
   "metadata": {},
   "outputs": [
    {
     "name": "stdout",
     "output_type": "stream",
     "text": [
      "     id   age city    f1  f2    f3    f4         f5  subscribed   views\n",
      "0  id01   2.0   서울   NaN   0  gold  ENFJ  91.297791  2021-07-16  6820.0\n",
      "1  id02   9.0   서울  70.0   1   NaN  ENFJ  60.339826  2021-05-12  2534.0\n",
      "2  id03  27.0   서울  61.0   1  gold  ISTJ  17.252986  2021-03-16  7312.0\n",
      "3  id04  75.0   서울   NaN   2   NaN  INFP  52.667078  2021-07-21   493.0\n",
      "4  id05  24.0   서울  85.0   2   NaN  ISFJ  29.269869  2021-03-07  1338.0\n"
     ]
    }
   ],
   "source": [
    "import pandas as pd\n",
    "df = pd.read_csv('./data/members.csv')\n",
    "print(df.head())"
   ]
  },
  {
   "cell_type": "code",
   "execution_count": 108,
   "metadata": {},
   "outputs": [
    {
     "name": "stdout",
     "output_type": "stream",
     "text": [
      "표준편차 : 30.442758522588697 \n",
      "평균 : 50.963 \n",
      "\n",
      "최저 : 5.298862216116952 \n",
      "최고 : 96.62713778388306 \n",
      "\n",
      "473.5\n"
     ]
    }
   ],
   "source": [
    "# 1. 표준편차, 평균값 구하기\n",
    "## std()와 mean()을 활용해 age 컬럼의 표준편차와 평균값 구하기\n",
    "std = df['age'].std()\n",
    "mean = df['age'].mean()\n",
    "\n",
    "print('표준편차 :', std, '\\n평균 :', mean, '\\n')\n",
    "\n",
    "# 2. 이상치 최저, 최고 기준 구하기\n",
    "## 문제에서 안내한 이상치의 기준 구하기 (평균에서 표준편차 * 1.5 를 벗어나는 영역)\n",
    "## 이상치의 최저 기준과 최고 기준 찾기\n",
    "lower = mean - (std * 1.5)\n",
    "upper = mean + (std * 1.5)\n",
    "\n",
    "print('최저 :', lower, '\\n최고 :', upper, '\\n')\n",
    "\n",
    "# 3. 이상치를 벗어나는 값(조건) 걸기\n",
    "## 최저 기준보다 작은 조건(A)과 최고 기준보다 큰 조건(B) 2개 만들기\n",
    "cond1 = df['age'] < lower\n",
    "cond2 = df['age'] > upper\n",
    "\n",
    "# 4. 조건에 만족하는 이상치 age 합\n",
    "## 또는(|) 활용해 A 또는 B 에 해당하는 age 값 모두 더하기\n",
    "print(df[cond1|cond2]['age'].sum())"
   ]
  },
  {
   "cell_type": "markdown",
   "metadata": {},
   "source": [
    "## 작업형 제 2 유형\n",
    "\n",
    "### ✏️ 제품 배송 시간에 맞춰 배송되지 않을 확률값을 예측하시오.\n",
    "- 제공된 데이터 목록 : X_train, y_train, X_test.csv\n",
    "\n",
    "- 예측할 컬럼 : Reached.on.Time_Y.N(0: 정시 도착, 1: 정시 도착하지 않음)\n",
    "\n",
    "- 학습용 데이터(train)을 이용하여 배송 예측 모형을 만든 후 이를 평가용 데이터(test)에 적용하여 얻은 예측 시간(시간에 맞춰 도착하지 않을 확률)값을 다음과 같은 형식의 csv 파일로 생성하시오.(제출한 모델의 성능은 ROC-AUC 평가지표에 따라 채점)\n",
    "\n",
    "    - 제출 csv 파일명 : result.csv\n",
    "\n",
    "    - 컬럼 : ID, Reached.on.Time_Y.N"
   ]
  },
  {
   "cell_type": "code",
   "execution_count": 109,
   "metadata": {},
   "outputs": [],
   "source": [
    "# 1. 문제 정의\n",
    "## 배송 관련 데이터. 정시 도착 여부(Reached.on.Time_Y.N) 예측\n",
    "## 평가 기준은 ROC-AUC 로 평가\n",
    "## label(target)은 정시 배송 여부(Reached.on.Time_Y.N) -> 0 : 정시 도착, 1 : 정시 도착하지 않음\n",
    "## 제출 방식은 test 데이터로 정시에 도착할 확률을 csv 파일로 제출 (파일명 : result.csv)\n",
    "\n",
    "# 2. 라이브러리 및 데이터 불러오기\n",
    "## 판다스 라이브러리와 주어진 train 과 test 데이터셋 불러오기\n",
    "## 시험에서 2개 파일이 제공된다면 train 과 test, 3개 파일이 제공된다면 train 데이터에 있는 label(target)을 y_train 으로 별도 제공\n",
    "import pandas as pd\n",
    "X_test = pd.read_csv('./data/X_test.csv')\n",
    "X_train = pd.read_csv('./data/X_train.csv')\n",
    "y_train = pd.read_csv('./data/y_train.csv')"
   ]
  },
  {
   "cell_type": "markdown",
   "metadata": {},
   "source": [
    "---\n",
    "#### 💡 3개의 데이터가 제공되었을 때 2개가 제공된 것처럼 합치는 방법\n",
    "- pd.concat() 함수를 활용해 y_train 에 있는 label 값을 합칠 수 있음"
   ]
  },
  {
   "cell_type": "code",
   "execution_count": 110,
   "metadata": {},
   "outputs": [
    {
     "name": "stdout",
     "output_type": "stream",
     "text": [
      "      ID Warehouse_block Mode_of_Shipment  Customer_care_calls  \\\n",
      "0   8440               B             Ship                    4   \n",
      "1  10849               D             Ship                    3   \n",
      "2   9478               B             Ship                    4   \n",
      "3   2968               B             Ship                    6   \n",
      "4   6964               B             Road                    5   \n",
      "\n",
      "   Customer_rating  Cost_of_the_Product  Prior_purchases Product_importance  \\\n",
      "0                1                  284                4                low   \n",
      "1                2                  201                4             medium   \n",
      "2                4                  181                3             medium   \n",
      "3                2                  236                4                low   \n",
      "4                1                  282                4                low   \n",
      "\n",
      "  Gender  Discount_offered  Weight_in_gms  Reached.on.Time_Y.N  \n",
      "0      F                 4           4795                    1  \n",
      "1      M                10           5565                    0  \n",
      "2      F                 9           4425                    1  \n",
      "3      F                61           3140                    1  \n",
      "4      F                 9           4766                    0  \n"
     ]
    }
   ],
   "source": [
    "import pandas as pd\n",
    "X_test = pd.read_csv('./data/X_test.csv')\n",
    "X_train = pd.read_csv('./data/X_train.csv')\n",
    "y_train = pd.read_csv('./data/y_train.csv')\n",
    "\n",
    "df_cc = pd.concat([X_train, y_train['Reached.on.Time_Y.N']], axis=1)\n",
    "print(df_cc.head())"
   ]
  },
  {
   "cell_type": "markdown",
   "metadata": {},
   "source": [
    "---"
   ]
  },
  {
   "cell_type": "code",
   "execution_count": 111,
   "metadata": {},
   "outputs": [
    {
     "name": "stdout",
     "output_type": "stream",
     "text": [
      "(8799, 11) (8799, 2)\n",
      "      ID Warehouse_block Mode_of_Shipment  Customer_care_calls  \\\n",
      "0   8440               B             Ship                    4   \n",
      "1  10849               D             Ship                    3   \n",
      "2   9478               B             Ship                    4   \n",
      "3   2968               B             Ship                    6   \n",
      "4   6964               B             Road                    5   \n",
      "\n",
      "   Customer_rating  Cost_of_the_Product  Prior_purchases Product_importance  \\\n",
      "0                1                  284                4                low   \n",
      "1                2                  201                4             medium   \n",
      "2                4                  181                3             medium   \n",
      "3                2                  236                4                low   \n",
      "4                1                  282                4                low   \n",
      "\n",
      "  Gender  Discount_offered  Weight_in_gms  \n",
      "0      F                 4           4795  \n",
      "1      M                10           5565  \n",
      "2      F                 9           4425  \n",
      "3      F                61           3140  \n",
      "4      F                 9           4766   \n",
      "===========================================\n",
      "       ID  Reached.on.Time_Y.N\n",
      "0   8440                    1\n",
      "1  10849                    0\n",
      "2   9478                    1\n",
      "3   2968                    1\n",
      "4   6964                    0 \n",
      "\n",
      "<class 'pandas.core.frame.DataFrame'>\n",
      "RangeIndex: 8799 entries, 0 to 8798\n",
      "Data columns (total 11 columns):\n",
      " #   Column               Non-Null Count  Dtype \n",
      "---  ------               --------------  ----- \n",
      " 0   ID                   8799 non-null   int64 \n",
      " 1   Warehouse_block      8799 non-null   object\n",
      " 2   Mode_of_Shipment     8799 non-null   object\n",
      " 3   Customer_care_calls  8799 non-null   int64 \n",
      " 4   Customer_rating      8799 non-null   int64 \n",
      " 5   Cost_of_the_Product  8799 non-null   int64 \n",
      " 6   Prior_purchases      8799 non-null   int64 \n",
      " 7   Product_importance   8799 non-null   object\n",
      " 8   Gender               8799 non-null   object\n",
      " 9   Discount_offered     8799 non-null   int64 \n",
      " 10  Weight_in_gms        8799 non-null   int64 \n",
      "dtypes: int64(7), object(4)\n",
      "memory usage: 756.3+ KB\n",
      "None \n",
      "\n",
      "                 ID  Customer_care_calls  Customer_rating  \\\n",
      "count   8799.000000          8799.000000      8799.000000   \n",
      "mean    5514.696556             4.051369         2.991817   \n",
      "std     3175.107399             1.141739         1.411938   \n",
      "min        1.000000             2.000000         1.000000   \n",
      "25%     2749.500000             3.000000         2.000000   \n",
      "50%     5519.000000             4.000000         3.000000   \n",
      "75%     8253.000000             5.000000         4.000000   \n",
      "max    10999.000000             7.000000         5.000000   \n",
      "\n",
      "       Cost_of_the_Product  Prior_purchases  Discount_offered  Weight_in_gms  \n",
      "count          8799.000000      8799.000000       8799.000000    8799.000000  \n",
      "mean            209.800318         3.561882         13.293215    3633.145130  \n",
      "std              48.186779         1.518472         16.112977    1637.717073  \n",
      "min              96.000000         2.000000          1.000000    1001.000000  \n",
      "25%             169.000000         3.000000          4.000000    1837.000000  \n",
      "50%             213.000000         3.000000          7.000000    4152.000000  \n",
      "75%             250.000000         4.000000         10.000000    5055.000000  \n",
      "max             310.000000        10.000000         65.000000    7846.000000   \n",
      "\n",
      "       Warehouse_block Mode_of_Shipment Product_importance Gender\n",
      "count             8799             8799               8799   8799\n",
      "unique               5                3                  3      2\n",
      "top                  F             Ship                low      F\n",
      "freq              2929             5972               4225   4450 \n",
      "\n",
      "       Warehouse_block Mode_of_Shipment Product_importance Gender\n",
      "count             2200             2200               2200   2200\n",
      "unique               5                3                  3      2\n",
      "top                  F             Ship                low      M\n",
      "freq               737             1490               1072   1105 \n",
      "\n",
      "ID                     0\n",
      "Warehouse_block        0\n",
      "Mode_of_Shipment       0\n",
      "Customer_care_calls    0\n",
      "Customer_rating        0\n",
      "Cost_of_the_Product    0\n",
      "Prior_purchases        0\n",
      "Product_importance     0\n",
      "Gender                 0\n",
      "Discount_offered       0\n",
      "Weight_in_gms          0\n",
      "dtype: int64 \n",
      "\n",
      "0 \n",
      "\n",
      "Reached.on.Time_Y.N\n",
      "1    5236\n",
      "0    3563\n",
      "Name: count, dtype: int64 \n",
      "\n"
     ]
    }
   ],
   "source": [
    "# 3. 탐색적 데이터 분석(EDA)\n",
    "## 데이터 크기 확인 : y_train 은 X_train 과 행 수는 같고, 열 수는 2개인 것 확인\n",
    "print(X_train.shape, y_train.shape)\n",
    "\n",
    "## X_train 데이터 샘플 확인 : 카테고리(문자)와 연속형(숫자) 컬럼 혼합\n",
    "## y_train 데이터 샘플 확인 : ID 와 label(target) 컬럼 존재, ID 의 경우 X_train 데이터와 순서 동일\n",
    "print(X_train.head(), '\\n===========================================\\n', y_train.head(), '\\n')\n",
    "\n",
    "## 데이터 자료형(타입) 확인 : int 7개, object 4개\n",
    "## object 컬럼은 인코딩 필요\n",
    "## 컬럼 수가 많지 않을 때는 info() 에서 결측치가 있는지 정도는 확인 가능 : Non-Null Count 가 모두 8799 로 결측치 X\n",
    "print(X_train.info(), '\\n')\n",
    "\n",
    "## 기초 통계값 확인 : Cost_of_the_Product 와 Weight_in_gms 컬럼만 단위가 비교적 큼 -> 스케일링 작업을 통해 조정 가능\n",
    "print(X_train.describe(), '\\n')\n",
    "\n",
    "## object 컬럼의 unique 개수 확인 : 작게는 2개부터 많게는 5개\n",
    "print(X_train.describe(include='O'), '\\n')\n",
    "\n",
    "## test 데이터셋에 있는 object 컬럼도 확인 : test 데이터도 train 데이터와 유사한 형태\n",
    "print(X_test.describe(include='O'), '\\n')\n",
    "\n",
    "## 결측치 여부 확인 : train 에는 결측치 없음\n",
    "print(X_train.isnull().sum(), '\\n')\n",
    "\n",
    "## test 데이터의 결측치 확인\n",
    "## sum() 하나 더 붙여서 결측치 수의 합 출력 : 0 출력시 결측치를 모두 더한 개수가 0이라는 의미\n",
    "print(X_test.isnull().sum().sum(), '\\n')\n",
    "\n",
    "## Reached.on.Time_Y.N 컬럼의 종류에 따른 개수 각각 확인 : 0은 5236개, 1은 3563개\n",
    "print(y_train['Reached.on.Time_Y.N'].value_counts(), '\\n')"
   ]
  },
  {
   "cell_type": "code",
   "execution_count": 112,
   "metadata": {},
   "outputs": [
    {
     "data": {
      "text/html": [
       "<div>\n",
       "<style scoped>\n",
       "    .dataframe tbody tr th:only-of-type {\n",
       "        vertical-align: middle;\n",
       "    }\n",
       "\n",
       "    .dataframe tbody tr th {\n",
       "        vertical-align: top;\n",
       "    }\n",
       "\n",
       "    .dataframe thead th {\n",
       "        text-align: right;\n",
       "    }\n",
       "</style>\n",
       "<table border=\"1\" class=\"dataframe\">\n",
       "  <thead>\n",
       "    <tr style=\"text-align: right;\">\n",
       "      <th></th>\n",
       "      <th>Warehouse_block</th>\n",
       "      <th>Mode_of_Shipment</th>\n",
       "      <th>Product_importance</th>\n",
       "      <th>Gender</th>\n",
       "    </tr>\n",
       "  </thead>\n",
       "  <tbody>\n",
       "    <tr>\n",
       "      <th>0</th>\n",
       "      <td>B</td>\n",
       "      <td>Ship</td>\n",
       "      <td>low</td>\n",
       "      <td>F</td>\n",
       "    </tr>\n",
       "    <tr>\n",
       "      <th>1</th>\n",
       "      <td>D</td>\n",
       "      <td>Ship</td>\n",
       "      <td>medium</td>\n",
       "      <td>M</td>\n",
       "    </tr>\n",
       "    <tr>\n",
       "      <th>2</th>\n",
       "      <td>B</td>\n",
       "      <td>Ship</td>\n",
       "      <td>medium</td>\n",
       "      <td>F</td>\n",
       "    </tr>\n",
       "    <tr>\n",
       "      <th>3</th>\n",
       "      <td>B</td>\n",
       "      <td>Ship</td>\n",
       "      <td>low</td>\n",
       "      <td>F</td>\n",
       "    </tr>\n",
       "    <tr>\n",
       "      <th>4</th>\n",
       "      <td>B</td>\n",
       "      <td>Road</td>\n",
       "      <td>low</td>\n",
       "      <td>F</td>\n",
       "    </tr>\n",
       "  </tbody>\n",
       "</table>\n",
       "</div>"
      ],
      "text/plain": [
       "  Warehouse_block Mode_of_Shipment Product_importance Gender\n",
       "0               B             Ship                low      F\n",
       "1               D             Ship             medium      M\n",
       "2               B             Ship             medium      F\n",
       "3               B             Ship                low      F\n",
       "4               B             Road                low      F"
      ]
     },
     "metadata": {},
     "output_type": "display_data"
    },
    {
     "data": {
      "text/html": [
       "<div>\n",
       "<style scoped>\n",
       "    .dataframe tbody tr th:only-of-type {\n",
       "        vertical-align: middle;\n",
       "    }\n",
       "\n",
       "    .dataframe tbody tr th {\n",
       "        vertical-align: top;\n",
       "    }\n",
       "\n",
       "    .dataframe thead th {\n",
       "        text-align: right;\n",
       "    }\n",
       "</style>\n",
       "<table border=\"1\" class=\"dataframe\">\n",
       "  <thead>\n",
       "    <tr style=\"text-align: right;\">\n",
       "      <th></th>\n",
       "      <th>Warehouse_block</th>\n",
       "      <th>Mode_of_Shipment</th>\n",
       "      <th>Product_importance</th>\n",
       "      <th>Gender</th>\n",
       "    </tr>\n",
       "  </thead>\n",
       "  <tbody>\n",
       "    <tr>\n",
       "      <th>0</th>\n",
       "      <td>1</td>\n",
       "      <td>2</td>\n",
       "      <td>1</td>\n",
       "      <td>0</td>\n",
       "    </tr>\n",
       "    <tr>\n",
       "      <th>1</th>\n",
       "      <td>3</td>\n",
       "      <td>2</td>\n",
       "      <td>2</td>\n",
       "      <td>1</td>\n",
       "    </tr>\n",
       "    <tr>\n",
       "      <th>2</th>\n",
       "      <td>1</td>\n",
       "      <td>2</td>\n",
       "      <td>2</td>\n",
       "      <td>0</td>\n",
       "    </tr>\n",
       "    <tr>\n",
       "      <th>3</th>\n",
       "      <td>1</td>\n",
       "      <td>2</td>\n",
       "      <td>1</td>\n",
       "      <td>0</td>\n",
       "    </tr>\n",
       "    <tr>\n",
       "      <th>4</th>\n",
       "      <td>1</td>\n",
       "      <td>1</td>\n",
       "      <td>1</td>\n",
       "      <td>0</td>\n",
       "    </tr>\n",
       "  </tbody>\n",
       "</table>\n",
       "</div>"
      ],
      "text/plain": [
       "   Warehouse_block  Mode_of_Shipment  Product_importance  Gender\n",
       "0                1                 2                   1       0\n",
       "1                3                 2                   2       1\n",
       "2                1                 2                   2       0\n",
       "3                1                 2                   1       0\n",
       "4                1                 1                   1       0"
      ]
     },
     "metadata": {},
     "output_type": "display_data"
    }
   ],
   "source": [
    "# 4. 데이터 전처리\n",
    "## 자료형이 object 인 컬럼 확인하고 레이블 인코딩 진행 -> 인코딩 전 후 결과 확인\n",
    "## 인코딩 전의 데이터프레임을 보여주기 위해 display() 함수 활용\n",
    "## display() : 데이터프레임을 보기 좋게 출력하지만 시험 환경에서는 지원X (print 사용)\n",
    "from sklearn.preprocessing import LabelEncoder\n",
    "cols = X_train.select_dtypes(include='object').columns\n",
    "\n",
    "display(X_train[cols].head())\n",
    "\n",
    "for col in cols:\n",
    "    le = LabelEncoder()\n",
    "    X_train[col] = le.fit_transform(X_train[col])\n",
    "    X_test[col] = le.transform(X_test[col])\n",
    "    \n",
    "display(X_train[cols].head())\n",
    "\n",
    "## ID 값은 데이터 수만큼 종류가 존재할 경우 큰 의미가 없다고 판단해 일반적으로는 삭제\n",
    "## 삭제하지 않아도 머신러닝 모델이 중요도를 매우 낮게 적용하므로 괜찮지만, 숫자가 아닌 문자일 경우 별도 처리 필요\n",
    "## ID 가 이커머스 데이터 같은(ex.제품모델ID) 유의미한 데이터(ex.반복되는 ID)라면 삭제 X\n",
    "## train 데이터는 ID 컬럼 삭제, test 데이터의 ID 는 예측 csv 파일 생성시 필요 -> pop() 함수에 해당 컬럼 대입\n",
    "X_train = X_train.drop('ID', axis=1)\n",
    "X_test_id = X_test.pop('ID')"
   ]
  },
  {
   "cell_type": "markdown",
   "metadata": {},
   "source": [
    "---\n",
    "#### 💡 원-핫 인코딩 vs 레이블 인코딩\n",
    "- 2개 다 해보고 검증 데이터를 활용한 머신러닝 평가가 좋은 인코딩 선택\n",
    "---"
   ]
  },
  {
   "cell_type": "code",
   "execution_count": 113,
   "metadata": {},
   "outputs": [
    {
     "data": {
      "text/plain": [
       "((7039, 10), (1760, 10), (7039,), (1760,))"
      ]
     },
     "execution_count": 113,
     "metadata": {},
     "output_type": "execute_result"
    }
   ],
   "source": [
    "# 5. 검증 데이터 분할\n",
    "## train 데이터를 활용해 검증 데이터(20%) 분할\n",
    "## random_state 는 특정 숫자로 고정해야 매번 동일한 분할을 하므로 필수\n",
    "target = y_train.pop('Reached.on.Time_Y.N')\n",
    "\n",
    "from sklearn.model_selection import train_test_split\n",
    "X_tr, X_val, y_tr, y_val = train_test_split(X_train, target, test_size=0.2, random_state=0)\n",
    "\n",
    "X_tr.shape, X_val.shape, y_tr.shape, y_val.shape"
   ]
  },
  {
   "cell_type": "code",
   "execution_count": 115,
   "metadata": {},
   "outputs": [
    {
     "name": "stdout",
     "output_type": "stream",
     "text": [
      "Requirement already satisfied: xgboost in c:\\users\\babys\\anaconda3\\lib\\site-packages (2.1.2)\n",
      "Requirement already satisfied: numpy in c:\\users\\babys\\anaconda3\\lib\\site-packages (from xgboost) (1.26.4)\n",
      "Requirement already satisfied: scipy in c:\\users\\babys\\anaconda3\\lib\\site-packages (from xgboost) (1.13.1)\n",
      "로지스틱 회귀 : 0.7294849094567405\n"
     ]
    },
    {
     "name": "stderr",
     "output_type": "stream",
     "text": [
      "c:\\Users\\babys\\anaconda3\\Lib\\site-packages\\sklearn\\linear_model\\_logistic.py:469: ConvergenceWarning: lbfgs failed to converge (status=1):\n",
      "STOP: TOTAL NO. of ITERATIONS REACHED LIMIT.\n",
      "\n",
      "Increase the number of iterations (max_iter) or scale the data as shown in:\n",
      "    https://scikit-learn.org/stable/modules/preprocessing.html\n",
      "Please also refer to the documentation for alternative solver options:\n",
      "    https://scikit-learn.org/stable/modules/linear_model.html#logistic-regression\n",
      "  n_iter_i = _check_optimize_result(\n"
     ]
    },
    {
     "name": "stdout",
     "output_type": "stream",
     "text": [
      "의사결정 나무 : 0.648336686787391\n",
      "랜덤포레스트 : 0.7605499664654595\n",
      "Xgboost : 0.7570476190476191\n",
      "LightGBM : 0.7657478202548625\n"
     ]
    }
   ],
   "source": [
    "# 6. 머신러닝 학습 및 평가\n",
    "## 성능이 좋으면서 데이터에 민감하지 않은 모델 : 랜덤포레스트, 라이트지비엠(부스팅 계열)\n",
    "## roc-auc 는 1에 가까울수록 성능이 좋은 모델\n",
    "from sklearn.linear_model import LogisticRegression\n",
    "from sklearn.tree import DecisionTreeClassifier\n",
    "from sklearn.ensemble import RandomForestClassifier\n",
    "\n",
    "!pip install xgboost\n",
    "import xgboost as xgb\n",
    "import lightgbm as lgb\n",
    "from sklearn.metrics import roc_auc_score\n",
    "\n",
    "## 로지스틱 회귀 모델\n",
    "lr = LogisticRegression(random_state=0)\n",
    "lr.fit(X_tr, y_tr)\n",
    "pred = lr.predict_proba(X_val)\n",
    "print('로지스틱 회귀 :', roc_auc_score(y_val, pred[:, 1]))\n",
    "\n",
    "## 의사결정 나무 모델\n",
    "dt = DecisionTreeClassifier(random_state=0)\n",
    "dt.fit(X_tr, y_tr)\n",
    "pred = dt.predict_proba(X_val)\n",
    "print('의사결정 나무 :', roc_auc_score(y_val, pred[:, 1]))\n",
    "\n",
    "## 랜덤포레스트 모델\n",
    "rf = RandomForestClassifier(random_state=0)\n",
    "rf.fit(X_tr, y_tr)\n",
    "pred = rf.predict_proba(X_val)\n",
    "print('랜덤포레스트 :', roc_auc_score(y_val, pred[:, 1]))\n",
    "\n",
    "## Xgboost 모델\n",
    "xg = xgb.XGBClassifier(random_state=0)\n",
    "xg.fit(X_tr, y_tr)\n",
    "pred = xg.predict_proba(X_val)\n",
    "print('Xgboost :', roc_auc_score(y_val, pred[:, 1]))\n",
    "\n",
    "## LightGBM 모델\n",
    "lg = lgb.LGBMClassifier(random_state=0, verbose=-1)\n",
    "lg.fit(X_tr, y_tr)\n",
    "pred = lg.predict_proba(X_val)\n",
    "print('LightGBM :', roc_auc_score(y_val, pred[:, 1]))"
   ]
  },
  {
   "cell_type": "code",
   "execution_count": null,
   "metadata": {},
   "outputs": [
    {
     "name": "stdout",
     "output_type": "stream",
     "text": [
      "[[0.59817028 0.40182972]\n",
      " [0.61564242 0.38435758]\n",
      " [0.703895   0.296105  ]\n",
      " ...\n",
      " [0.55070623 0.44929377]\n",
      " [0.52790166 0.47209834]\n",
      " [0.60239454 0.39760546]]\n",
      "      ID  Reached.on.Time_Y.N\n",
      "0   8285             0.401830\n",
      "1  10192             0.384358\n",
      "2   8675             0.296105\n",
      "3   5753             0.431765\n",
      "4    448             0.988722\n"
     ]
    },
    {
     "data": {
      "text/html": [
       "<div>\n",
       "<style scoped>\n",
       "    .dataframe tbody tr th:only-of-type {\n",
       "        vertical-align: middle;\n",
       "    }\n",
       "\n",
       "    .dataframe tbody tr th {\n",
       "        vertical-align: top;\n",
       "    }\n",
       "\n",
       "    .dataframe thead th {\n",
       "        text-align: right;\n",
       "    }\n",
       "</style>\n",
       "<table border=\"1\" class=\"dataframe\">\n",
       "  <thead>\n",
       "    <tr style=\"text-align: right;\">\n",
       "      <th></th>\n",
       "      <th>ID</th>\n",
       "      <th>Reached.on.Time_Y.N</th>\n",
       "    </tr>\n",
       "  </thead>\n",
       "  <tbody>\n",
       "    <tr>\n",
       "      <th>0</th>\n",
       "      <td>8285</td>\n",
       "      <td>0.401830</td>\n",
       "    </tr>\n",
       "    <tr>\n",
       "      <th>1</th>\n",
       "      <td>10192</td>\n",
       "      <td>0.384358</td>\n",
       "    </tr>\n",
       "    <tr>\n",
       "      <th>2</th>\n",
       "      <td>8675</td>\n",
       "      <td>0.296105</td>\n",
       "    </tr>\n",
       "    <tr>\n",
       "      <th>3</th>\n",
       "      <td>5753</td>\n",
       "      <td>0.431765</td>\n",
       "    </tr>\n",
       "    <tr>\n",
       "      <th>4</th>\n",
       "      <td>448</td>\n",
       "      <td>0.988722</td>\n",
       "    </tr>\n",
       "    <tr>\n",
       "      <th>...</th>\n",
       "      <td>...</td>\n",
       "      <td>...</td>\n",
       "    </tr>\n",
       "    <tr>\n",
       "      <th>2195</th>\n",
       "      <td>7193</td>\n",
       "      <td>0.320605</td>\n",
       "    </tr>\n",
       "    <tr>\n",
       "      <th>2196</th>\n",
       "      <td>4445</td>\n",
       "      <td>0.401399</td>\n",
       "    </tr>\n",
       "    <tr>\n",
       "      <th>2197</th>\n",
       "      <td>7390</td>\n",
       "      <td>0.449294</td>\n",
       "    </tr>\n",
       "    <tr>\n",
       "      <th>2198</th>\n",
       "      <td>9977</td>\n",
       "      <td>0.472098</td>\n",
       "    </tr>\n",
       "    <tr>\n",
       "      <th>2199</th>\n",
       "      <td>5696</td>\n",
       "      <td>0.397605</td>\n",
       "    </tr>\n",
       "  </tbody>\n",
       "</table>\n",
       "<p>2200 rows × 2 columns</p>\n",
       "</div>"
      ],
      "text/plain": [
       "         ID  Reached.on.Time_Y.N\n",
       "0      8285             0.401830\n",
       "1     10192             0.384358\n",
       "2      8675             0.296105\n",
       "3      5753             0.431765\n",
       "4       448             0.988722\n",
       "...     ...                  ...\n",
       "2195   7193             0.320605\n",
       "2196   4445             0.401399\n",
       "2197   7390             0.449294\n",
       "2198   9977             0.472098\n",
       "2199   5696             0.397605\n",
       "\n",
       "[2200 rows x 2 columns]"
      ]
     },
     "execution_count": 118,
     "metadata": {},
     "output_type": "execute_result"
    }
   ],
   "source": [
    "# 7. 예측 및 결과 파일 생성\n",
    "## test 데이터로 머신러닝 모델을 활용해 다시 한 번 예측\n",
    "## train_test_split() 함수 사용 후 반드시 test 데이터로 다시 예측 실시\n",
    "pred = lg.predict_proba(X_test)\n",
    "print(pred)\n",
    "\n",
    "## 문제에서 roc_auc 를 평가 기준으로 사 용한다면 예측방법인 predict, predict_proba 중 predict_proba 활용해 확률값을 예측할 것\n",
    "## predict_proba 사용하면 이 데이터에서는 0일 확률과 1일 확률값이 존재하며 이 중에서 1일 확률값을 선택(pred[:, 1])\n",
    "## 제출 양식 형태로 데이터프레임 생성 -> ID 값과 예측(확률)값 -> 컬럼명 : ID, Reached.on.Time_Y.N\n",
    "submit = pd.DataFrame({'ID':X_test_id, 'Reached.on.Time_Y.N':pred[:, 1]})\n",
    "print(submit.head())\n",
    "\n",
    "submit.to_csv('result.csv', index=False)\n",
    "\n",
    "pd.read_csv('result.csv')"
   ]
  },
  {
   "cell_type": "code",
   "execution_count": null,
   "metadata": {},
   "outputs": [
    {
     "name": "stdout",
     "output_type": "stream",
     "text": [
      "(7039, 19) (1760, 19) (7039,) (1760,)\n",
      "roc_auc : 0.764689470154259\n"
     ]
    }
   ],
   "source": [
    "# 8-1. 성능 개선\n",
    "## 베이스라인 모델 완성되면 첫 번째 '제출' 버튼 클릭\n",
    "## 베이스라인 점수보다 높은 점수를 얻기 위해 데이터 전처리(인코딩, 스케일링) 진행\n",
    "\n",
    "# 데이터 전처리 : 레이블 인코딩(0.7657478202548625)을 원-핫 인코딩(0.764689470154259으로 변경 -> 점수 떨어지므로 레이블 인코딩 그대로 사용\n",
    "# 데이터 불러오기\n",
    "import pandas as pd\n",
    "X_test = pd.read_csv('./data/X_test.csv')\n",
    "X_train = pd.read_csv('./data/X_train.csv')\n",
    "y_train = pd.read_csv('./data/y_train.csv')\n",
    "\n",
    "# 원-핫 인코딩\n",
    "X_train = pd.get_dummies(X_train)\n",
    "x_test = pd.get_dummies(X_test)\n",
    "\n",
    "# train ID 삭제, test ID 다른 변수에 옮기기\n",
    "X_train = X_train.drop('ID', axis=1)\n",
    "X_test_id = X_test.pop('ID')\n",
    "\n",
    "# 검증 데이터 분리\n",
    "from sklearn.model_selection import train_test_split\n",
    "X_tr, X_val, y_tr, y_val = train_test_split(X_train, y_train['Reached.on.Time_Y.N'], test_size=0.2, random_state=0)\n",
    "print(X_tr.shape, X_val.shape, y_tr.shape, y_val.shape)\n",
    "\n",
    "# 머신러닝 학습 및 평가\n",
    "import lightgbm  as lgb\n",
    "from sklearn.metrics import roc_auc_score\n",
    "lg = lgb.LGBMClassifier(random_state=0, verbose=-1)\n",
    "lg.fit(X_tr, y_tr)\n",
    "pred = lg.predict_proba(X_val)\n",
    "print('roc_auc :', roc_auc_score(y_val, pred[:, 1]))"
   ]
  },
  {
   "cell_type": "code",
   "execution_count": null,
   "metadata": {},
   "outputs": [
    {
     "name": "stdout",
     "output_type": "stream",
     "text": [
      "(7039, 10) (1760, 10) (7039,) (1760,)\n",
      "roc_auc : 0.7685566733735747\n"
     ]
    }
   ],
   "source": [
    "# 8-2. 성능 개선\n",
    "# 기존 베이스라인 모델에서 Min-Max 스케일링 추가\n",
    "## 스케일링을 적용할 컬럼을 선택 방법\n",
    "### - 컬럼명을 직접 list 로 만드는 방법\n",
    "### - X_train.select_dtypes(exclude='object').columns 코드 활용해 object 제외한 컬럼 선택하는 방법\n",
    "\n",
    "# 데이터 전처리 : 스케일링 전(0.7657478202548625)보다 스케일링 후(0.7685566733735747) 가 성능 조금 더 향상\n",
    "# 데이터 불러오기\n",
    "import pandas as pd\n",
    "X_test = pd.read_csv('./data/X_test.csv')\n",
    "X_train = pd.read_csv('./data/X_train.csv')\n",
    "y_train = pd.read_csv('./data/y_train.csv')\n",
    "\n",
    "# 레이블 인코딩\n",
    "from sklearn.preprocessing import LabelEncoder\n",
    "cols = X_train.select_dtypes(include='object').columns\n",
    "\n",
    "for col in cols:\n",
    "    le = LabelEncoder()\n",
    "    X_train[col] = le.fit_transform(X_train[col])\n",
    "    X_test[col] = le.transform(X_test[col])\n",
    "    \n",
    "# train ID 삭제, test ID 다른 변수에 옮기기\n",
    "X_train = X_train.drop('ID', axis=1)\n",
    "X_test_id = X_test.pop('ID')\n",
    "\n",
    "# 스케일링\n",
    "from sklearn.preprocessing import MinMaxScaler\n",
    "cols = X_train.select_dtypes(exclude='object').columns\n",
    "scaler = MinMaxScaler()\n",
    "X_train[cols] = scaler.fit_transform(X_train[cols])\n",
    "X_test[cols] = scaler.transform(X_test[cols])\n",
    "\n",
    "# 검증 데이터 분리\n",
    "from sklearn.model_selection import train_test_split\n",
    "X_tr, X_val, y_tr, y_val = train_test_split(X_train, y_train['Reached.on.Time_Y.N'], test_size=0.2, random_state=0)\n",
    "print(X_tr.shape, X_val.shape, y_tr.shape, y_val.shape)\n",
    "\n",
    "\n",
    "# 머신러닝 학습 및 평가\n",
    "import lightgbm as lgb\n",
    "lg = lgb.LGBMClassifier(random_state=0, verbose=-1)\n",
    "lg.fit(X_tr, y_tr)\n",
    "pred = lg.predict_proba(X_val)\n",
    "print('roc_auc :', roc_auc_score(y_val, pred[:, 1]))"
   ]
  },
  {
   "cell_type": "code",
   "execution_count": 121,
   "metadata": {},
   "outputs": [
    {
     "name": "stdout",
     "output_type": "stream",
     "text": [
      "      ID  Reached.on.Time_Y.N\n",
      "0   8285             0.378522\n",
      "1  10192             0.444619\n",
      "2   8675             0.354102\n",
      "3   5753             0.554405\n",
      "4    448             0.986517\n"
     ]
    }
   ],
   "source": [
    "# 9. 성능 개선 후 두 번째 csv 파일 만들고 '제출' 버튼 재클릭\n",
    "pred = lg.predict_proba(X_test)\n",
    "submit = pd.DataFrame({'ID': X_test_id, 'Reached.on.Time_Y.N': pred[:, 1]})\n",
    "submit.to_csv('result.csv', index=False)\n",
    "\n",
    "print(pd.read_csv('result.csv').head())"
   ]
  },
  {
   "cell_type": "code",
   "execution_count": null,
   "metadata": {},
   "outputs": [],
   "source": []
  }
 ],
 "metadata": {
  "kernelspec": {
   "display_name": "base",
   "language": "python",
   "name": "python3"
  },
  "language_info": {
   "codemirror_mode": {
    "name": "ipython",
    "version": 3
   },
   "file_extension": ".py",
   "mimetype": "text/x-python",
   "name": "python",
   "nbconvert_exporter": "python",
   "pygments_lexer": "ipython3",
   "version": "3.12.4"
  }
 },
 "nbformat": 4,
 "nbformat_minor": 2
}
